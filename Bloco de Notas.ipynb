{
 "cells": [
  {
   "cell_type": "markdown",
   "metadata": {},
   "source": [
    "# Fundamentos de Python"
   ]
  },
  {
   "cell_type": "markdown",
   "metadata": {},
   "source": [
    "Bloco de notas Jupyter com os exercícios"
   ]
  },
  {
   "cell_type": "markdown",
   "metadata": {},
   "source": [
    "## UFCD10793_FT01"
   ]
  },
  {
   "cell_type": "markdown",
   "metadata": {},
   "source": [
    "### ex01a.py"
   ]
  },
  {
   "cell_type": "markdown",
   "metadata": {},
   "source": [
    "Exercício 1a - função print\n",
    "\n",
    "Função interna do Python que permite imprimir mensagens no ecrã.\n",
    "- aceita vários argumentos\n",
    "- ver mais em help(print)\n"
   ]
  },
  {
   "cell_type": "code",
   "execution_count": 1,
   "metadata": {},
   "outputs": [
    {
     "name": "stdout",
     "output_type": "stream",
     "text": [
      "Hello World!\n"
     ]
    }
   ],
   "source": [
    "print('Hello World!')"
   ]
  },
  {
   "cell_type": "markdown",
   "metadata": {},
   "source": [
    "### ex01b.py"
   ]
  },
  {
   "cell_type": "markdown",
   "metadata": {},
   "source": [
    "Módulo math\n",
    "import math | from math import sqrt\n",
    "- permite aceder a funções matemáticas"
   ]
  },
  {
   "cell_type": "code",
   "execution_count": 2,
   "metadata": {},
   "outputs": [
    {
     "name": "stdout",
     "output_type": "stream",
     "text": [
      "A raiz quadrada de 12 é 3.46\n"
     ]
    }
   ],
   "source": [
    "from math import sqrt\n",
    "\n",
    "numero = int(input(\"Digite um número: \"))\n",
    "raizquadrada = sqrt(numero)\n",
    "\n",
    "print(f\"A raiz quadrada de {numero} é {raizquadrada:.2f}\")"
   ]
  },
  {
   "cell_type": "markdown",
   "metadata": {},
   "source": [
    "#### Mais sobre Strings\n",
    "https://docs.python.org/pt-br/3.13/tutorial/inputoutput.html"
   ]
  },
  {
   "cell_type": "markdown",
   "metadata": {},
   "source": [
    "### ex03.py"
   ]
  },
  {
   "cell_type": "markdown",
   "metadata": {},
   "source": [
    "Cria agora um nove ficheiro python (extensão .py) com o nome ex03.\n",
    "Dentro deste ficheiro escreve um programa que receba, como parâmetro um inteiro, e devolva o se dobro"
   ]
  },
  {
   "cell_type": "code",
   "execution_count": 1,
   "metadata": {},
   "outputs": [
    {
     "name": "stdout",
     "output_type": "stream",
     "text": [
      "5 10\n"
     ]
    }
   ],
   "source": [
    "def calcula_dobro_de(x):\n",
    "    __doc__ = 'Devolve o dobro de um número inteiro'\n",
    "    dobro = x * 2\n",
    "    return dobro\n",
    "\n",
    "num = 5\n",
    "num_dobro = calcula_dobro_de(num)\n",
    "print(num, num_dobro)"
   ]
  },
  {
   "cell_type": "markdown",
   "metadata": {},
   "source": [
    "### ex04.py"
   ]
  },
  {
   "cell_type": "markdown",
   "metadata": {},
   "source": [
    "Escreve um programa que calcule o volume de uma esfera. O valor do raio deverá ser introduzido pelo utilizador (deverá ser criado o ficheiro ex04.py)."
   ]
  },
  {
   "cell_type": "code",
   "execution_count": 14,
   "metadata": {},
   "outputs": [
    {
     "name": "stdout",
     "output_type": "stream",
     "text": [
      "113.09733552923254\n"
     ]
    }
   ],
   "source": [
    "from math import pi as PI\n",
    "\n",
    "def calcula_volume_esfera(raio):\n",
    "    __doc__ = 'Calcula o volume de uma esfera'\n",
    "    volume = (4/3) * PI * raio**3\n",
    "    return volume\n",
    "\n",
    "raio = 3\n",
    "volume = calcula_volume_esfera(raio)\n",
    "print(volume)"
   ]
  },
  {
   "cell_type": "markdown",
   "metadata": {},
   "source": [
    "### ex05.py"
   ]
  },
  {
   "cell_type": "markdown",
   "metadata": {},
   "source": [
    "Sejam a e b os catetos de um triângulo retângulo, faz um programa que devolva o valor da hipotenusa (deverá ser criado o ficheiro ex05.py)."
   ]
  },
  {
   "cell_type": "code",
   "execution_count": 4,
   "metadata": {},
   "outputs": [
    {
     "name": "stdout",
     "output_type": "stream",
     "text": [
      "5.0\n"
     ]
    }
   ],
   "source": [
    "from math import sqrt\n",
    "\n",
    "def calcula_hipotenusa(a, b):\n",
    "    __doc__ = 'Calcula a hipotenusa de um triângulo retângulo'\n",
    "    return sqrt(a**2 + b**2)\n",
    "\n",
    "cateto1 = 3\n",
    "cateto2 = 4\n",
    "hipotenusa = calcula_hipotenusa(cateto1, cateto2)\n",
    "print(hipotenusa)"
   ]
  },
  {
   "cell_type": "markdown",
   "metadata": {},
   "source": [
    "### ex06.py"
   ]
  },
  {
   "cell_type": "markdown",
   "metadata": {},
   "source": [
    "Faz um programa que receba três parâmetros inteiros (horas, minutos e segundos) e converta o resultado para segundos, devolvendo o output para o ecrã (deverá ser criado o ficheiro ex06.py)."
   ]
  },
  {
   "cell_type": "code",
   "execution_count": 5,
   "metadata": {},
   "outputs": [
    {
     "name": "stdout",
     "output_type": "stream",
     "text": [
      "5400\n"
     ]
    }
   ],
   "source": [
    "def converte_para_segundos(horas, minutos, segundos):\n",
    "    __doc__ = 'Converte horas, minutos e segundos para segundos'\n",
    "    return horas * 3600 + minutos * 60 + segundos\n",
    "\n",
    "horas = 1\n",
    "minutos = 30\n",
    "segundos = 0\n",
    "segundos_totais = converte_para_segundos(horas, minutos, segundos)\n",
    "print(segundos_totais)"
   ]
  },
  {
   "cell_type": "markdown",
   "metadata": {},
   "source": [
    "### ex07.py"
   ]
  },
  {
   "cell_type": "markdown",
   "metadata": {},
   "source": [
    "Faz um programa que receba a distância em km e a quantidade em litros de combustível consumido por um carro num percurso. Calcula o consumo km/l e escreve uma mensagem de acordo com o resultado obtido. (deverá ser criado o ficheiro ex07.py)."
   ]
  },
  {
   "cell_type": "code",
   "execution_count": 6,
   "metadata": {},
   "outputs": [
    {
     "name": "stdout",
     "output_type": "stream",
     "text": [
      "10.0\n"
     ]
    }
   ],
   "source": [
    "def calcula_consumo(distancia, litros, precisao=2):\n",
    "    __doc__ = 'Calcula o consumo em km/l'\n",
    "    return round(distancia / litros, precisao)\n",
    "\n",
    "distancia = 100\n",
    "litros = 10\n",
    "consumo = calcula_consumo(distancia, litros)\n",
    "print(consumo)"
   ]
  },
  {
   "cell_type": "code",
   "execution_count": null,
   "metadata": {},
   "outputs": [],
   "source": []
  }
 ],
 "metadata": {
  "kernelspec": {
   "display_name": "fundpython",
   "language": "python",
   "name": "python3"
  },
  "language_info": {
   "codemirror_mode": {
    "name": "ipython",
    "version": 3
   },
   "file_extension": ".py",
   "mimetype": "text/x-python",
   "name": "python",
   "nbconvert_exporter": "python",
   "pygments_lexer": "ipython3",
   "version": "3.12.8"
  }
 },
 "nbformat": 4,
 "nbformat_minor": 2
}
