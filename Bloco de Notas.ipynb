{
 "cells": [
  {
   "cell_type": "markdown",
   "metadata": {},
   "source": [
    "# Fundamentos de Python"
   ]
  },
  {
   "cell_type": "markdown",
   "metadata": {},
   "source": [
    "Bloco de notas Jupyter com todos os exercícios"
   ]
  },
  {
   "cell_type": "markdown",
   "metadata": {},
   "source": [
    "Fork: https://github.com/tecpt/FundamentosPython10793_05_N"
   ]
  },
  {
   "cell_type": "markdown",
   "metadata": {},
   "source": [
    " * * *"
   ]
  },
  {
   "cell_type": "markdown",
   "metadata": {},
   "source": [
    "## UFCD10793_FT01"
   ]
  },
  {
   "cell_type": "markdown",
   "metadata": {},
   "source": [
    "### Exercício 1a - função print"
   ]
  },
  {
   "cell_type": "markdown",
   "metadata": {},
   "source": [
    "Função interna do Python que permite imprimir mensagens no ecrã.\n",
    "- aceita vários argumentos\n",
    "- ver mais em help(print)"
   ]
  },
  {
   "cell_type": "code",
   "execution_count": 1,
   "metadata": {},
   "outputs": [
    {
     "name": "stdout",
     "output_type": "stream",
     "text": [
      "Hello World!\n"
     ]
    }
   ],
   "source": [
    "print('Hello World!')"
   ]
  },
  {
   "cell_type": "markdown",
   "metadata": {},
   "source": [
    "### Exercício 1b - modulo math + formatação de strings"
   ]
  },
  {
   "cell_type": "markdown",
   "metadata": {},
   "source": [
    "Módulo math\n",
    "import math | from math import sqrt\n",
    "- permite aceder a funções matemáticas"
   ]
  },
  {
   "cell_type": "code",
   "execution_count": 3,
   "metadata": {},
   "outputs": [
    {
     "name": "stdout",
     "output_type": "stream",
     "text": [
      "A raiz quadrada de 16 é 4.00\n"
     ]
    }
   ],
   "source": [
    "from math import sqrt\n",
    "\n",
    "numero = int(input(\"Digite um número: \"))\n",
    "raizquadrada = sqrt(numero)\n",
    "\n",
    "print(f\"A raiz quadrada de {numero} é {raizquadrada:.2f}\")"
   ]
  },
  {
   "cell_type": "markdown",
   "metadata": {},
   "source": [
    "#### Mais sobre Strings\n",
    "https://docs.python.org/pt-br/3.13/tutorial/inputoutput.html"
   ]
  },
  {
   "cell_type": "markdown",
   "metadata": {},
   "source": [
    "### Exercício 3 - calcula o dobro de um número inteiro"
   ]
  },
  {
   "cell_type": "markdown",
   "metadata": {},
   "source": [
    "Cria agora um nove ficheiro python (extensão .py) com o nome ex03.\n",
    "Dentro deste ficheiro escreve um programa que receba, como parâmetro um inteiro, e devolva o se dobro"
   ]
  },
  {
   "cell_type": "code",
   "execution_count": 6,
   "metadata": {},
   "outputs": [
    {
     "name": "stdout",
     "output_type": "stream",
     "text": [
      "O dobro de 12 é 24\n"
     ]
    }
   ],
   "source": [
    "num = int(input('Intere um númeor inteiro'))\n",
    "dobro = num * 2\n",
    "print(f'O dobro de {num} é {dobro}')"
   ]
  },
  {
   "cell_type": "markdown",
   "metadata": {},
   "source": [
    "### Exercício 4 - calcula o volume de uma esfera"
   ]
  },
  {
   "cell_type": "markdown",
   "metadata": {},
   "source": [
    "Escreve um programa que calcule o volume de uma esfera. O valor do raio deverá ser introduzido pelo utilizador (deverá ser criado o ficheiro ex04.py)."
   ]
  },
  {
   "cell_type": "code",
   "execution_count": 7,
   "metadata": {},
   "outputs": [
    {
     "name": "stdout",
     "output_type": "stream",
     "text": [
      "O volume da esfera de raio 4.0 é 268.08\n"
     ]
    }
   ],
   "source": [
    "from math import pi as PI\n",
    "\n",
    "raio = float(input('Introduza o raio da esfera: '))\n",
    "volume = (4/3) * PI * raio**3\n",
    "print(f'O volume da esfera de raio {raio} é {volume:.2f}')"
   ]
  },
  {
   "cell_type": "markdown",
   "metadata": {},
   "source": [
    "### Exercício 5 - calcula a hipotenusa"
   ]
  },
  {
   "cell_type": "markdown",
   "metadata": {},
   "source": [
    "Sejam a e b os catetos de um triângulo retângulo, faz um programa que devolva o valor da hipotenusa (deverá ser criado o ficheiro ex05.py)."
   ]
  },
  {
   "cell_type": "code",
   "execution_count": 8,
   "metadata": {},
   "outputs": [
    {
     "name": "stdout",
     "output_type": "stream",
     "text": [
      "O valor da hipotenusa é 2.24\n"
     ]
    }
   ],
   "source": [
    "from math import sqrt\n",
    "\n",
    "cateto1 = int(input('Introduza o valor do cateto 1: '))\n",
    "cateto2 = int(input('Introduza o valor do cateto 2: '))\n",
    "hipotenusa = sqrt(cateto1**2 + cateto2**2)\n",
    "print(f'O valor da hipotenusa é {hipotenusa:.2f}')"
   ]
  },
  {
   "cell_type": "markdown",
   "metadata": {},
   "source": [
    "### Exercício 6 - calcula o total de segundos"
   ]
  },
  {
   "cell_type": "markdown",
   "metadata": {},
   "source": [
    "Faz um programa que receba três parâmetros inteiros (horas, minutos e segundos) e converta o resultado para segundos, devolvendo o output para o ecrã (deverá ser criado o ficheiro ex06.py)."
   ]
  },
  {
   "cell_type": "code",
   "execution_count": 9,
   "metadata": {},
   "outputs": [
    {
     "name": "stdout",
     "output_type": "stream",
     "text": [
      "1 horas, 0 minutos e 1 segundos correspondem a 3601 segundos\n"
     ]
    }
   ],
   "source": [
    "horas = int(input('Introduza as horas: '))\n",
    "minutos = int(input('Introduza os minutos: '))\n",
    "segundos = int(input('Introduza os segundos: '))\n",
    "total_segundos = horas * 3600 + minutos * 60 + segundos\n",
    "print(f'{horas} horas, {minutos} minutos e {segundos} segundos correspondem a {total_segundos} segundos')"
   ]
  },
  {
   "cell_type": "markdown",
   "metadata": {},
   "source": [
    "### Exercício 7 - calcula o consumo por litro"
   ]
  },
  {
   "cell_type": "markdown",
   "metadata": {},
   "source": [
    "Faz um programa que receba a distância em km e a quantidade em litros de combustível consumido por um carro num percurso. Calcula o consumo km/l e escreve uma mensagem de acordo com o resultado obtido. (deverá ser criado o ficheiro ex07.py)."
   ]
  },
  {
   "cell_type": "code",
   "execution_count": 11,
   "metadata": {},
   "outputs": [
    {
     "name": "stdout",
     "output_type": "stream",
     "text": [
      "O consumo foi de 2.00 km/l\n",
      "Consumo econômico\n"
     ]
    }
   ],
   "source": [
    "distancia = float(input('Introduza a distância percorrida em km: '))\n",
    "litros = float(input('Introduza a quantidade de litros consumidos: '))\n",
    "consumo = distancia / litros\n",
    "print(f'O consumo foi de {consumo:.2f} km/l')\n",
    "\n",
    "if consumo > 8:\n",
    "    print('Consumo pouco econômico')\n",
    "else:\n",
    "    print('Consumo econômico')"
   ]
  },
  {
   "cell_type": "markdown",
   "metadata": {},
   "source": [
    " * * *"
   ]
  },
  {
   "cell_type": "markdown",
   "metadata": {},
   "source": [
    "## UFCD10793_FT02"
   ]
  },
  {
   "cell_type": "markdown",
   "metadata": {},
   "source": [
    "### Exercício 3 - função sum (soma)"
   ]
  },
  {
   "cell_type": "markdown",
   "metadata": {},
   "source": [
    "Escreve um programa em python que solicite três números inteiros ao utilizador e imprima a soma dos mesmos."
   ]
  },
  {
   "cell_type": "code",
   "execution_count": 12,
   "metadata": {},
   "outputs": [
    {
     "name": "stdout",
     "output_type": "stream",
     "text": [
      "A soma dos 3 é 6\n"
     ]
    }
   ],
   "source": [
    "num1 = input('Insere o número 1 (em interiro): ')\n",
    "num2 = input('Insere o número 2 (em interiro): ')\n",
    "num3 = input('Insere o número 3 (em interiro): ')\n",
    "\n",
    "num1 = int(num1)\n",
    "num2 = int(num2)\n",
    "num3 = int(num3)\n",
    "\n",
    "numeros = [num1, num2, num3]\n",
    "\n",
    "\n",
    "#soma = num1 + num2 + num3\n",
    "soma = sum(numeros)\n",
    "\n",
    "print(f'A soma dos {len(numeros)} é {soma}')"
   ]
  },
  {
   "cell_type": "markdown",
   "metadata": {},
   "source": [
    "### Exercício 4 - função len (tamanho)"
   ]
  },
  {
   "cell_type": "markdown",
   "metadata": {},
   "source": [
    "Escreve um programa que solicite duas notas ([nota1] e [nota2]) ao utilizador e apresente a média das mesmas da seguinte forma"
   ]
  },
  {
   "cell_type": "code",
   "execution_count": 13,
   "metadata": {},
   "outputs": [
    {
     "name": "stdout",
     "output_type": "stream",
     "text": [
      "A média das notas 10 e 20 é 15.0\n"
     ]
    }
   ],
   "source": [
    "nota1 = input('Insere a nota 1 (em inteiro): ')\n",
    "nota2 = input('Insere a nota 2 (em inteiro): ')\n",
    "\n",
    "nota1 = int(nota1)\n",
    "nota2 = int(nota2)\n",
    "\n",
    "notas = [nota1, nota2]\n",
    "\n",
    "#soma = num1 + num2 + num3\n",
    "soma = sum(notas)\n",
    "media = soma / len(notas)\n",
    "\n",
    "media = round(media, 2)\n",
    "\n",
    "print(f'A média das notas {nota1} e {nota2} é {media}')"
   ]
  },
  {
   "cell_type": "markdown",
   "metadata": {},
   "source": [
    "### Exercício 5 - função conversão unidades"
   ]
  },
  {
   "cell_type": "markdown",
   "metadata": {},
   "source": [
    "Escreve um programa que faça a conversão para kms, de um dado valor em metros."
   ]
  },
  {
   "cell_type": "code",
   "execution_count": 14,
   "metadata": {},
   "outputs": [
    {
     "name": "stdout",
     "output_type": "stream",
     "text": [
      "A distância em metros é 5000.0\n"
     ]
    }
   ],
   "source": [
    "# Obrigado à Infopédia por disponibilizar a informação sobre a palavra kilómetro\n",
    "# https://www.infopedia.pt/dicionarios/lingua-portuguesa/kil%C3%B3metro\n",
    "distancia_kms = input('Insere o valor em kilometros: ')\n",
    "\n",
    "distancia_kms = float(distancia_kms)\n",
    "\n",
    "distancia_metros = distancia_kms * 1000\n",
    "\n",
    "print(f'A distância em metros é {distancia_metros}')"
   ]
  },
  {
   "cell_type": "markdown",
   "metadata": {},
   "source": [
    "### Exercício 6 - função conversão temperaturas"
   ]
  },
  {
   "cell_type": "markdown",
   "metadata": {},
   "source": [
    "Escreve um programa que solicite a temperatura em Fahrenheit (F), ao utilizador, e a converta para grau Celsius (C), devolvendo o resultado da conversão."
   ]
  },
  {
   "cell_type": "code",
   "execution_count": 16,
   "metadata": {},
   "outputs": [
    {
     "name": "stdout",
     "output_type": "stream",
     "text": [
      "A temperatura em graus Celsius é 37.78\n"
     ]
    }
   ],
   "source": [
    "fahrenheit = input('Insere a temperatura em Fahrenheit: ')\n",
    "\n",
    "fahrenheit = float(fahrenheit)\n",
    "\n",
    "celsius = (fahrenheit - 32) * 5.0/9.0\n",
    "\n",
    "celsius = round(celsius, 2)\n",
    "\n",
    "print(f'A temperatura em graus Celsius é {celsius}')"
   ]
  },
  {
   "cell_type": "markdown",
   "metadata": {},
   "source": [
    "* * *"
   ]
  },
  {
   "cell_type": "markdown",
   "metadata": {},
   "source": [
    "## UFCD10793_FT03"
   ]
  },
  {
   "cell_type": "markdown",
   "metadata": {},
   "source": [
    "### Exercício 1 - Execussão condicional"
   ]
  },
  {
   "cell_type": "markdown",
   "metadata": {},
   "source": [
    "Escreve um programa que solicite um número inteiro ao utilizador e caso o mesmo seja maior que 20, devolva o resultado da sua divisão por 2."
   ]
  },
  {
   "cell_type": "code",
   "execution_count": null,
   "metadata": {},
   "outputs": [],
   "source": [
    "# Input\n",
    "num = input('Insira um número inteiro: ')\n",
    "num = int(num)\n",
    "\n",
    "# Process\n",
    "if num > 20:\n",
    "    result = round(num / 2, 2)\n",
    "    print(f'O resultado da divisão de {num} por 2 é {result}')\n",
    "else:\n",
    "    print(f'O número {num} não é maior que 20.')"
   ]
  },
  {
   "cell_type": "markdown",
   "metadata": {},
   "source": [
    "### Exercício 2 - Execussão condicional e operador de igualdade"
   ]
  },
  {
   "cell_type": "markdown",
   "metadata": {},
   "source": [
    "Implementa um programa que leia dois números e indique se estes são iguais ou diferentes."
   ]
  },
  {
   "cell_type": "code",
   "execution_count": null,
   "metadata": {},
   "outputs": [],
   "source": [
    "# Input\n",
    "num1 = input('Insira um número inteiro: ')\n",
    "num2 = input('Insira outro número inteiro: ')\n",
    "\n",
    "# Converte os números para inteiros\n",
    "num1 = int(num1)\n",
    "num2 = int(num2)\n",
    "\n",
    "# Process\n",
    "if num1 == num2:\n",
    "    print(f'Os números {num1} e {num2} são iguais.')\n",
    "else:\n",
    "    print(f'Os números {num1} e {num2} são diferentes.')"
   ]
  },
  {
   "cell_type": "markdown",
   "metadata": {},
   "source": [
    "### Exercício 3 - Execussão condicional e operador módulo da divisão inteira"
   ]
  },
  {
   "cell_type": "markdown",
   "metadata": {},
   "source": [
    "Escreve um programa que solicite um número inteiro ao utilizador e verifique se o mesmo é par ou ímpar. A mensagem no ecrã deverá ter o seguinte formato:\n",
    "\"O número [número] é [par/ímpar]\""
   ]
  },
  {
   "cell_type": "code",
   "execution_count": null,
   "metadata": {},
   "outputs": [],
   "source": [
    "# Input\n",
    "num = input('Insira um número inteiro: ')\n",
    "num = int(num)\n",
    "\n",
    "# Process\n",
    "if num % 2 == 0:\n",
    "    print(f'O número {num} é par.')\n",
    "else:\n",
    "    print(f'O número {num} é ímpar.')"
   ]
  },
  {
   "cell_type": "markdown",
   "metadata": {},
   "source": [
    "### Exercício 4 - Execussão condicional e operadores de comparação maior ou menor que"
   ]
  },
  {
   "cell_type": "markdown",
   "metadata": {},
   "source": [
    "Escreve um programa que receba dois números reais e indique qual o maior dos dois  números. Considera a possibilidade de o utilizador indicar dois números iguais."
   ]
  },
  {
   "cell_type": "code",
   "execution_count": null,
   "metadata": {},
   "outputs": [],
   "source": [
    "# Input\n",
    "num1 = input('Insira um número real: ')\n",
    "num2 = input('Insira outro número real: ')\n",
    "\n",
    "# Converte os números para reais\n",
    "num1 = float(num1)\n",
    "num2 = float(num2)\n",
    "\n",
    "# Process\n",
    "if num1 > num2:\n",
    "    print(f'O número {num1} é maior que o número {num2}.')\n",
    "elif num1 < num2:\n",
    "    print(f'O número {num2} é maior que o número {num1}.')\n",
    "else:\n",
    "    print(f'Os números {num1} e {num2} são iguais.')"
   ]
  },
  {
   "cell_type": "markdown",
   "metadata": {},
   "source": [
    "### Exercício 5 - Execussão condicional e operadores de comparação de maior ou menor que"
   ]
  },
  {
   "cell_type": "markdown",
   "metadata": {},
   "source": [
    "Escreva um programa que verifique se um determinado número introduzido pelo utilizador é nulo, positivo ou negativo."
   ]
  },
  {
   "cell_type": "code",
   "execution_count": null,
   "metadata": {},
   "outputs": [],
   "source": [
    "# Input\n",
    "num = input('Insira um número inteiro: ')\n",
    "num = int(num)\n",
    "\n",
    "# Process\n",
    "if num > 0:\n",
    "    print(f'O número {num} é positivo.')\n",
    "elif num < 0:\n",
    "    print(f'O número {num} é negativo.')\n",
    "else:\n",
    "    print(f'O número {num} é nulo.')"
   ]
  },
  {
   "cell_type": "markdown",
   "metadata": {},
   "source": [
    "### Exercício 6 - Execussão condicional e operadores de comparação"
   ]
  },
  {
   "cell_type": "markdown",
   "metadata": {},
   "source": [
    "Escreve um programa que receba três números reais e indique qual o maior dos três números."
   ]
  },
  {
   "cell_type": "code",
   "execution_count": null,
   "metadata": {},
   "outputs": [],
   "source": [
    "# Input\n",
    "num1 = input('Insira um número real: ')\n",
    "num2 = input('Insira outro número real: ')\n",
    "num3 = input('Insira outro número real: ')\n",
    "\n",
    "# Converte os números para reais\n",
    "num1 = float(num1)\n",
    "num2 = float(num2)\n",
    "num3 = float(num3)\n",
    "\n",
    "# Process\n",
    "if num1 > num2 and num1 > num3:\n",
    "    print(f'O número {num1} é o maior dos três números.')   \n",
    "elif num2 > num1 and num2 > num3:\n",
    "    print(f'O número {num2} é o maior dos três números.')\n",
    "elif num3 > num1 and num3 > num2:\n",
    "    print(f'O número {num3} é o maior dos três números.')\n",
    "else:\n",
    "    print(f'Os números {num1}, {num2} e {num3} são iguais.')\n",
    "\n",
    "\n",
    "# ALTERNATIVA:\n",
    "maior = max(num1, num2, num3)\n",
    "if num1 == num2 == num3:\n",
    "    print(f'Os números {num1}, {num2} e {num3} são iguais')\n",
    "else:\n",
    "    print(f'O número {maior} é o maior dos três números.')"
   ]
  },
  {
   "cell_type": "markdown",
   "metadata": {},
   "source": [
    "### Exercício 7 - Ano bissexto"
   ]
  },
  {
   "cell_type": "markdown",
   "metadata": {},
   "source": [
    "Elabora um programa para verificar se um ano é bissexto ou não. A condição para ser um ano bissexto é: o ano deve ser divisível por 400;\n",
    "ou se for divisível por 4 e não for divisível por 100."
   ]
  },
  {
   "cell_type": "code",
   "execution_count": null,
   "metadata": {},
   "outputs": [],
   "source": [
    "# Input\n",
    "ano = input(\"Insira um ano: \")\n",
    "ano = int(ano)\n",
    "\n",
    "# Process\n",
    "if ano % 400 == 0 or (ano % 4 == 0 and ano % 100 != 0):\n",
    "    print(f\"O ano {ano} é bissexto.\")\n",
    "else:\n",
    "    print(f\"O ano {ano} não é bissexto.\")"
   ]
  },
  {
   "cell_type": "markdown",
   "metadata": {},
   "source": [
    "### Exercício 8 - Classificação de Triângulos"
   ]
  },
  {
   "cell_type": "markdown",
   "metadata": {},
   "source": [
    "Escreve um programa para classificar um triângulo de acordo com o comprimento dos seus lados. Considere as seguintes informações: \n",
    "<ul>\n",
    "<li>Triângulo equilátero: todos os lados possuem o mesmo comprimento; </li>\n",
    "<li>Triângulo escaleno: todos os lados possuem comprimento diferente; </li>\n",
    "<li>Triângulo isósceles: caracterizado por ter dois lados com o mesmo comprimento. </li>\n",
    "</ul>"
   ]
  },
  {
   "cell_type": "code",
   "execution_count": null,
   "metadata": {},
   "outputs": [],
   "source": [
    "# Input\n",
    "lado1 = input(\"Insira o comprimento do lado 1: \")\n",
    "lado2 = input(\"Insira o comprimento do lado 2: \")\n",
    "lado3 = input(\"Insira o comprimento do lado 3: \")\n",
    "\n",
    "# Converte os números para reais\n",
    "lado1 = float(lado1)\n",
    "lado2 = float(lado2)\n",
    "lado3 = float(lado3)\n",
    "\n",
    "# Process\n",
    "if lado1 == lado2 == lado3:\n",
    "    print(f\"O triângulo é equilátero.\")\n",
    "elif lado1 != lado2 != lado3:\n",
    "    print(f\"O triângulo é escaleno.\")\n",
    "else:\n",
    "    print(f\"O triângulo é isósceles.\")"
   ]
  },
  {
   "cell_type": "markdown",
   "metadata": {},
   "source": [
    "### Exercício 9 - Índice de Massa Corporal (IMC)"
   ]
  },
  {
   "cell_type": "markdown",
   "metadata": {},
   "source": [
    "O Índice de Massa Corporal (IMC) é utilizado para medir o peso ideal de uma pessoa. \n",
    "Escreve um programa que peça o nome, a idade, o peso e a altura do utilizado e que, de seguida, calcule e mostre o resultado do seu IMC e classifique esse resultado de acordo com as seguintes condições: \n",
    "<ul>\n",
    "<li>IMC &lt; 17,0 - Muito abaixo do peso ideal \n",
    "<li>17,0 &lt;= IMC &lt; 18,5 - Abaixo do peso \n",
    "<li>18,5 &lt;= IMC &lt; 25,0 - Peso normal \n",
    "<li>25,0 &lt;= IMC &lt; 30,0 - Acima do peso \n",
    "<li>30,0 &lt;= IMC &lt; 35,0 - Obesidade I \n",
    "<li>35,0 &lt;= IMC &lt; 40,0 - Obesidade II (severa) \n",
    "<li>IMC&gt;=40 - Obesidade III (mórbida)\n",
    "</ul>\n",
    "Nota: IMC=massa/(altura*altura)"
   ]
  },
  {
   "cell_type": "code",
   "execution_count": null,
   "metadata": {},
   "outputs": [],
   "source": [
    "# Input\n",
    "nome = input(\"Insira o seu nome: \")\n",
    "idade = input(\"Insira a sua idade: \")\n",
    "peso = input(\"Insira o seu peso (kg): \")\n",
    "altura = input(\"Insira a sua altura (m): \")\n",
    "\n",
    "# Converte os números para reais\n",
    "idade = int(idade)\n",
    "peso = float(peso)\n",
    "altura = float(altura)\n",
    "\n",
    "# Process\n",
    "imc = peso/(altura*altura)\n",
    "img = round(imc, 2)\n",
    "\n",
    "if img < 17:\n",
    "    print(f\"O IMC de {nome} é {img} e está muito abaixo do peso ideal.\")\n",
    "elif 17 <= img < 18.5:\n",
    "    print(f\"O IMC de {nome} é {img} e está abaixo do peso.\")\n",
    "elif 18.5 <= img < 25:\n",
    "    print(f\"O IMC de {nome} é {img} e está com o peso normal.\")\n",
    "elif 25 <= img < 30:\n",
    "    print(f\"O IMC de {nome} é {img} e está acima do peso.\")\n",
    "elif 30 <= img < 35:\n",
    "    print(f\"O IMC de {nome} é {img} e está com obesidade I.\")\n",
    "elif 35 <= img < 40:\n",
    "    print(f\"O IMC de {nome} é {img} e está com obesidade II (severa).\")\n",
    "else:\n",
    "    print(f\"O IMC de {nome} é {img} e está com obesidade III (mórbida).\")"
   ]
  },
  {
   "cell_type": "markdown",
   "metadata": {},
   "source": [
    "### Exercício 10 - Calculadora simples"
   ]
  },
  {
   "cell_type": "markdown",
   "metadata": {},
   "source": [
    "Implemente uma calculadora simples com as operações aritméticas básicas. O utilizador deverá especificar a operação desejada (+,-,*,/) e, em seguida, inserir dois valores. \n",
    "Caso, o utilizador escolha divisão e insira como valor do denominar 0 mostra uma mensagem personalizada. Para os restantes casos, mostra no ecrã o resultado da operação desejada. "
   ]
  },
  {
   "cell_type": "code",
   "execution_count": null,
   "metadata": {},
   "outputs": [],
   "source": [
    "# Input\n",
    "operacao = input('Insira a operação desejada (+, -, *, /): ')\n",
    "num1 = input('Insira um número: ')\n",
    "num2 = input('Insira outro número: ')\n",
    "\n",
    "# Converte os números para reais\n",
    "num1 = float(num1)\n",
    "num2 = float(num2)\n",
    "\n",
    "# Process\n",
    "if operacao == '+':\n",
    "    resultado = num1 + num2\n",
    "    print(f'O resultado da soma é {resultado}.')\n",
    "elif operacao == '-':\n",
    "    resultado = num1 - num2\n",
    "    print(f'O resultado da subtração é {resultado}.')\n",
    "elif operacao == '*':\n",
    "    resultado = num1 * num2\n",
    "    print(f'O resultado da multiplicação é {resultado}.')\n",
    "elif operacao == '/':\n",
    "    if num2 == 0:\n",
    "        print('Não é possível dividir por zero.')\n",
    "    else:\n",
    "        resultado = num1 / num2\n",
    "        print(f'O resultado da divisão é {resultado}.')\n",
    "else:\n",
    "    print('Operação inválida. Insira uma operação válida (+, -, *, /).')\n"
   ]
  },
  {
   "cell_type": "markdown",
   "metadata": {},
   "source": [
    "* * *"
   ]
  },
  {
   "cell_type": "markdown",
   "metadata": {},
   "source": []
  }
 ],
 "metadata": {
  "kernelspec": {
   "display_name": "fundpython",
   "language": "python",
   "name": "python3"
  },
  "language_info": {
   "codemirror_mode": {
    "name": "ipython",
    "version": 3
   },
   "file_extension": ".py",
   "mimetype": "text/x-python",
   "name": "python",
   "nbconvert_exporter": "python",
   "pygments_lexer": "ipython3",
   "version": "3.12.8"
  }
 },
 "nbformat": 4,
 "nbformat_minor": 2
}
