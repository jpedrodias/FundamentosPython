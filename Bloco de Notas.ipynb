{
 "cells": [
  {
   "cell_type": "markdown",
   "metadata": {},
   "source": [
    "# Fundamentos de Python"
   ]
  },
  {
   "cell_type": "markdown",
   "metadata": {},
   "source": [
    "Bloco de notas Jupyter com os exercícios\n",
    "\n",
    "Fork: https://github.com/tecpt/FundamentosPython10793_05_N"
   ]
  },
  {
   "cell_type": "markdown",
   "metadata": {},
   "source": [
    " * * *"
   ]
  },
  {
   "cell_type": "markdown",
   "metadata": {},
   "source": [
    "## UFCD10793_FT01"
   ]
  },
  {
   "cell_type": "markdown",
   "metadata": {},
   "source": [
    "### Exercício 1a - função print"
   ]
  },
  {
   "cell_type": "markdown",
   "metadata": {},
   "source": [
    "Função interna do Python que permite imprimir mensagens no ecrã.\n",
    "- aceita vários argumentos\n",
    "- ver mais em help(print)"
   ]
  },
  {
   "cell_type": "code",
   "execution_count": 1,
   "metadata": {},
   "outputs": [
    {
     "name": "stdout",
     "output_type": "stream",
     "text": [
      "Hello World!\n"
     ]
    }
   ],
   "source": [
    "print('Hello World!')"
   ]
  },
  {
   "cell_type": "markdown",
   "metadata": {},
   "source": [
    "### Exercício 1b - modulo math + formatação de strings"
   ]
  },
  {
   "cell_type": "markdown",
   "metadata": {},
   "source": [
    "Módulo math\n",
    "import math | from math import sqrt\n",
    "- permite aceder a funções matemáticas"
   ]
  },
  {
   "cell_type": "code",
   "execution_count": 2,
   "metadata": {},
   "outputs": [
    {
     "name": "stdout",
     "output_type": "stream",
     "text": [
      "A raiz quadrada de 12 é 3.46\n"
     ]
    }
   ],
   "source": [
    "from math import sqrt\n",
    "\n",
    "numero = int(input(\"Digite um número: \"))\n",
    "raizquadrada = sqrt(numero)\n",
    "\n",
    "print(f\"A raiz quadrada de {numero} é {raizquadrada:.2f}\")"
   ]
  },
  {
   "cell_type": "markdown",
   "metadata": {},
   "source": [
    "#### Mais sobre Strings\n",
    "https://docs.python.org/pt-br/3.13/tutorial/inputoutput.html"
   ]
  },
  {
   "cell_type": "markdown",
   "metadata": {},
   "source": [
    "### Exercício 3 - calcula o dobro de um número inteiro"
   ]
  },
  {
   "cell_type": "markdown",
   "metadata": {},
   "source": [
    "Cria agora um nove ficheiro python (extensão .py) com o nome ex03.\n",
    "Dentro deste ficheiro escreve um programa que receba, como parâmetro um inteiro, e devolva o se dobro"
   ]
  },
  {
   "cell_type": "code",
   "execution_count": 3,
   "metadata": {},
   "outputs": [
    {
     "name": "stdout",
     "output_type": "stream",
     "text": [
      "O dobro desse valor é 24\n"
     ]
    }
   ],
   "source": [
    "num = int(input('Intere um númeor inteiro'))\n",
    "dobro = num * 2\n",
    "print('O dobro desse valor é', dobro)"
   ]
  },
  {
   "cell_type": "markdown",
   "metadata": {},
   "source": [
    "### Exercício 4 - calcula o volume de uma esfera"
   ]
  },
  {
   "cell_type": "markdown",
   "metadata": {},
   "source": [
    "Escreve um programa que calcule o volume de uma esfera. O valor do raio deverá ser introduzido pelo utilizador (deverá ser criado o ficheiro ex04.py)."
   ]
  },
  {
   "cell_type": "code",
   "execution_count": 9,
   "metadata": {},
   "outputs": [
    {
     "name": "stdout",
     "output_type": "stream",
     "text": [
      "O volume da esfera de raio 2.0 é 33.51\n"
     ]
    }
   ],
   "source": [
    "from math import pi as PI\n",
    "\n",
    "raio = float(input('Introduza o raio da esfera: '))\n",
    "volume = (4/3) * PI * raio**3\n",
    "print(f'O volume da esfera de raio {raio} é {volume:.2f}')"
   ]
  },
  {
   "cell_type": "markdown",
   "metadata": {},
   "source": [
    "### Exercício 5 - calcula a hipotenusa"
   ]
  },
  {
   "cell_type": "markdown",
   "metadata": {},
   "source": [
    "Sejam a e b os catetos de um triângulo retângulo, faz um programa que devolva o valor da hipotenusa (deverá ser criado o ficheiro ex05.py)."
   ]
  },
  {
   "cell_type": "code",
   "execution_count": 11,
   "metadata": {},
   "outputs": [
    {
     "name": "stdout",
     "output_type": "stream",
     "text": [
      "O valor da hipotenusa é 1.41\n"
     ]
    }
   ],
   "source": [
    "from math import sqrt\n",
    "\n",
    "cateto1 = int(input('Introduza o valor do cateto 1: '))\n",
    "cateto2 = int(input('Introduza o valor do cateto 2: '))\n",
    "hipotenusa = sqrt(cateto1**2 + cateto2**2)\n",
    "print(f'O valor da hipotenusa é {hipotenusa:.2f}')"
   ]
  },
  {
   "cell_type": "markdown",
   "metadata": {},
   "source": [
    "### Exercício 6 - calcula o total de segundos"
   ]
  },
  {
   "cell_type": "markdown",
   "metadata": {},
   "source": [
    "Faz um programa que receba três parâmetros inteiros (horas, minutos e segundos) e converta o resultado para segundos, devolvendo o output para o ecrã (deverá ser criado o ficheiro ex06.py)."
   ]
  },
  {
   "cell_type": "code",
   "execution_count": 12,
   "metadata": {},
   "outputs": [
    {
     "name": "stdout",
     "output_type": "stream",
     "text": [
      "1 horas, 1 minutos e 1 segundos correspondem a 3661 segundos\n"
     ]
    }
   ],
   "source": [
    "horas = int(input('Introduza as horas: '))\n",
    "minutos = int(input('Introduza os minutos: '))\n",
    "segundos = int(input('Introduza os segundos: '))\n",
    "total_segundos = horas * 3600 + minutos * 60 + segundos\n",
    "print(f'{horas} horas, {minutos} minutos e {segundos} segundos correspondem a {total_segundos} segundos')"
   ]
  },
  {
   "cell_type": "markdown",
   "metadata": {},
   "source": [
    "### Exercício 7 - calcula o consumo por litro"
   ]
  },
  {
   "cell_type": "markdown",
   "metadata": {},
   "source": [
    "Faz um programa que receba a distância em km e a quantidade em litros de combustível consumido por um carro num percurso. Calcula o consumo km/l e escreve uma mensagem de acordo com o resultado obtido. (deverá ser criado o ficheiro ex07.py)."
   ]
  },
  {
   "cell_type": "code",
   "execution_count": 6,
   "metadata": {},
   "outputs": [
    {
     "name": "stdout",
     "output_type": "stream",
     "text": [
      "10.0\n"
     ]
    }
   ],
   "source": [
    "distancia = float(input('Introduza a distância percorrida em km: '))\n",
    "litros = float(input('Introduza a quantidade de litros consumidos: '))\n",
    "consumo = distancia / litros\n",
    "print(f'O consumo foi de {consumo:.2f} km/l')"
   ]
  },
  {
   "cell_type": "markdown",
   "metadata": {},
   "source": [
    " * * *"
   ]
  },
  {
   "cell_type": "markdown",
   "metadata": {},
   "source": []
  }
 ],
 "metadata": {
  "kernelspec": {
   "display_name": "fundpython",
   "language": "python",
   "name": "python3"
  },
  "language_info": {
   "codemirror_mode": {
    "name": "ipython",
    "version": 3
   },
   "file_extension": ".py",
   "mimetype": "text/x-python",
   "name": "python",
   "nbconvert_exporter": "python",
   "pygments_lexer": "ipython3",
   "version": "3.12.8"
  }
 },
 "nbformat": 4,
 "nbformat_minor": 2
}
