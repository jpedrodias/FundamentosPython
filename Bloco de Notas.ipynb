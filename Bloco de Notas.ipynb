{
 "cells": [
  {
   "cell_type": "markdown",
   "metadata": {},
   "source": [
    "# Fundamentos de Python"
   ]
  },
  {
   "cell_type": "markdown",
   "metadata": {},
   "source": [
    "Bloco de notas Jupyter com todos os exercícios"
   ]
  },
  {
   "cell_type": "markdown",
   "metadata": {},
   "source": [
    "Fork: https://github.com/tecpt/FundamentosPython10793_05_N"
   ]
  },
  {
   "cell_type": "markdown",
   "metadata": {},
   "source": [
    " * * *"
   ]
  },
  {
   "cell_type": "markdown",
   "metadata": {},
   "source": [
    "## UFCD10793_FT01"
   ]
  },
  {
   "cell_type": "markdown",
   "metadata": {},
   "source": [
    "### Exercício 1a - função print"
   ]
  },
  {
   "cell_type": "markdown",
   "metadata": {},
   "source": [
    "Função interna do Python que permite imprimir mensagens no ecrã.\n",
    "- aceita vários argumentos\n",
    "- ver mais em help(print)"
   ]
  },
  {
   "cell_type": "code",
   "execution_count": 1,
   "metadata": {},
   "outputs": [
    {
     "name": "stdout",
     "output_type": "stream",
     "text": [
      "Hello World!\n"
     ]
    }
   ],
   "source": [
    "print('Hello World!')"
   ]
  },
  {
   "cell_type": "markdown",
   "metadata": {},
   "source": [
    "### Exercício 1b - modulo math + formatação de strings"
   ]
  },
  {
   "cell_type": "markdown",
   "metadata": {},
   "source": [
    "Módulo math\n",
    "import math | from math import sqrt\n",
    "- permite aceder a funções matemáticas"
   ]
  },
  {
   "cell_type": "code",
   "execution_count": 2,
   "metadata": {},
   "outputs": [
    {
     "name": "stdout",
     "output_type": "stream",
     "text": [
      "A raiz quadrada de 12 é 3.46\n"
     ]
    }
   ],
   "source": [
    "from math import sqrt\n",
    "\n",
    "numero = int(input(\"Digite um número: \"))\n",
    "raizquadrada = sqrt(numero)\n",
    "\n",
    "print(f\"A raiz quadrada de {numero} é {raizquadrada:.2f}\")"
   ]
  },
  {
   "cell_type": "markdown",
   "metadata": {},
   "source": [
    "#### Mais sobre Strings\n",
    "https://docs.python.org/pt-br/3.13/tutorial/inputoutput.html"
   ]
  },
  {
   "cell_type": "markdown",
   "metadata": {},
   "source": [
    "### Exercício 3 - calcula o dobro de um número inteiro"
   ]
  },
  {
   "cell_type": "markdown",
   "metadata": {},
   "source": [
    "Cria agora um nove ficheiro python (extensão .py) com o nome ex03.\n",
    "Dentro deste ficheiro escreve um programa que receba, como parâmetro um inteiro, e devolva o se dobro"
   ]
  },
  {
   "cell_type": "code",
   "execution_count": 3,
   "metadata": {},
   "outputs": [
    {
     "name": "stdout",
     "output_type": "stream",
     "text": [
      "O dobro desse valor é 24\n"
     ]
    }
   ],
   "source": [
    "num = int(input('Intere um númeor inteiro'))\n",
    "dobro = num * 2\n",
    "print('O dobro desse valor é', dobro)"
   ]
  },
  {
   "cell_type": "markdown",
   "metadata": {},
   "source": [
    "### Exercício 4 - calcula o volume de uma esfera"
   ]
  },
  {
   "cell_type": "markdown",
   "metadata": {},
   "source": [
    "Escreve um programa que calcule o volume de uma esfera. O valor do raio deverá ser introduzido pelo utilizador (deverá ser criado o ficheiro ex04.py)."
   ]
  },
  {
   "cell_type": "code",
   "execution_count": 9,
   "metadata": {},
   "outputs": [
    {
     "name": "stdout",
     "output_type": "stream",
     "text": [
      "O volume da esfera de raio 2.0 é 33.51\n"
     ]
    }
   ],
   "source": [
    "from math import pi as PI\n",
    "\n",
    "raio = float(input('Introduza o raio da esfera: '))\n",
    "volume = (4/3) * PI * raio**3\n",
    "print(f'O volume da esfera de raio {raio} é {volume:.2f}')"
   ]
  },
  {
   "cell_type": "markdown",
   "metadata": {},
   "source": [
    "### Exercício 5 - calcula a hipotenusa"
   ]
  },
  {
   "cell_type": "markdown",
   "metadata": {},
   "source": [
    "Sejam a e b os catetos de um triângulo retângulo, faz um programa que devolva o valor da hipotenusa (deverá ser criado o ficheiro ex05.py)."
   ]
  },
  {
   "cell_type": "code",
   "execution_count": 11,
   "metadata": {},
   "outputs": [
    {
     "name": "stdout",
     "output_type": "stream",
     "text": [
      "O valor da hipotenusa é 1.41\n"
     ]
    }
   ],
   "source": [
    "from math import sqrt\n",
    "\n",
    "cateto1 = int(input('Introduza o valor do cateto 1: '))\n",
    "cateto2 = int(input('Introduza o valor do cateto 2: '))\n",
    "hipotenusa = sqrt(cateto1**2 + cateto2**2)\n",
    "print(f'O valor da hipotenusa é {hipotenusa:.2f}')"
   ]
  },
  {
   "cell_type": "markdown",
   "metadata": {},
   "source": [
    "### Exercício 6 - calcula o total de segundos"
   ]
  },
  {
   "cell_type": "markdown",
   "metadata": {},
   "source": [
    "Faz um programa que receba três parâmetros inteiros (horas, minutos e segundos) e converta o resultado para segundos, devolvendo o output para o ecrã (deverá ser criado o ficheiro ex06.py)."
   ]
  },
  {
   "cell_type": "code",
   "execution_count": 12,
   "metadata": {},
   "outputs": [
    {
     "name": "stdout",
     "output_type": "stream",
     "text": [
      "1 horas, 1 minutos e 1 segundos correspondem a 3661 segundos\n"
     ]
    }
   ],
   "source": [
    "horas = int(input('Introduza as horas: '))\n",
    "minutos = int(input('Introduza os minutos: '))\n",
    "segundos = int(input('Introduza os segundos: '))\n",
    "total_segundos = horas * 3600 + minutos * 60 + segundos\n",
    "print(f'{horas} horas, {minutos} minutos e {segundos} segundos correspondem a {total_segundos} segundos')"
   ]
  },
  {
   "cell_type": "markdown",
   "metadata": {},
   "source": [
    "### Exercício 7 - calcula o consumo por litro"
   ]
  },
  {
   "cell_type": "markdown",
   "metadata": {},
   "source": [
    "Faz um programa que receba a distância em km e a quantidade em litros de combustível consumido por um carro num percurso. Calcula o consumo km/l e escreve uma mensagem de acordo com o resultado obtido. (deverá ser criado o ficheiro ex07.py)."
   ]
  },
  {
   "cell_type": "code",
   "execution_count": 6,
   "metadata": {},
   "outputs": [
    {
     "name": "stdout",
     "output_type": "stream",
     "text": [
      "10.0\n"
     ]
    }
   ],
   "source": [
    "distancia = float(input('Introduza a distância percorrida em km: '))\n",
    "litros = float(input('Introduza a quantidade de litros consumidos: '))\n",
    "consumo = distancia / litros\n",
    "print(f'O consumo foi de {consumo:.2f} km/l')"
   ]
  },
  {
   "cell_type": "markdown",
   "metadata": {},
   "source": [
    " * * *"
   ]
  },
  {
   "cell_type": "markdown",
   "metadata": {},
   "source": [
    "## UFCD10793_FT02"
   ]
  },
  {
   "cell_type": "markdown",
   "metadata": {},
   "source": [
    "### Exercício 3 - função sum (soma)"
   ]
  },
  {
   "cell_type": "markdown",
   "metadata": {},
   "source": [
    "Escreve um programa em python que solicite três números inteiros ao utilizador e imprima a soma dos mesmos."
   ]
  },
  {
   "cell_type": "code",
   "execution_count": 1,
   "metadata": {},
   "outputs": [
    {
     "name": "stdout",
     "output_type": "stream",
     "text": [
      "A soma dos 3 é 3\n"
     ]
    }
   ],
   "source": [
    "num1 = input('Insere o número 1 (em interiro): ')\n",
    "num2 = input('Insere o número 2 (em interiro): ')\n",
    "num3 = input('Insere o número 3 (em interiro): ')\n",
    "\n",
    "num1 = int(num1)\n",
    "num2 = int(num2)\n",
    "num3 = int(num3)\n",
    "\n",
    "numeros = [num1, num2, num3]\n",
    "\n",
    "\n",
    "#soma = num1 + num2 + num3\n",
    "soma = sum(numeros)\n",
    "\n",
    "print(f'A soma dos {len(numeros)} é {soma}')"
   ]
  },
  {
   "cell_type": "markdown",
   "metadata": {},
   "source": [
    "### Exercício 4 - função len (tamanho)"
   ]
  },
  {
   "cell_type": "markdown",
   "metadata": {},
   "source": [
    "Escreve um programa que solicite duas notas ([nota1] e [nota2]) ao utilizador e apresente a média das mesmas da seguinte forma"
   ]
  },
  {
   "cell_type": "code",
   "execution_count": null,
   "metadata": {},
   "outputs": [],
   "source": [
    "nota1 = input('Insere a nota 1 (em inteiro): ')\n",
    "nota2 = input('Insere a nota 2 (em inteiro): ')\n",
    "\n",
    "nota1 = int(nota1)\n",
    "nota2 = int(nota2)\n",
    "\n",
    "notas = [nota1, nota2]\n",
    "\n",
    "#soma = num1 + num2 + num3\n",
    "soma = sum(notas)\n",
    "media = soma / len(notas)\n",
    "\n",
    "media = round(media, 2)\n",
    "\n",
    "print(f'A média das notas {nota1} e {nota2} é {media}')"
   ]
  },
  {
   "cell_type": "markdown",
   "metadata": {},
   "source": [
    "### Exercício 4 - função len (versão mais completa)"
   ]
  },
  {
   "cell_type": "markdown",
   "metadata": {},
   "source": [
    "Escreve um programa que solicite duas notas ([nota1] e [nota2]) ao utilizador e apresente a média das mesmas da seguinte forma.\n",
    "\n",
    "\"A média das notas [nota1] e [nota2] é [média].\""
   ]
  },
  {
   "cell_type": "code",
   "execution_count": null,
   "metadata": {},
   "outputs": [],
   "source": [
    "notas = []\n",
    "nota = ''\n",
    "while nota is not None:\n",
    "    msg = f'Insere a nota {len(notas) + 1 } (em inteiro): '\n",
    "    nota = input(msg)\n",
    "    try:\n",
    "        nota = int(nota)\n",
    "    except ValueError:\n",
    "        nota = None\n",
    "    \n",
    "    if nota:\n",
    "        notas.append(nota)\n",
    "\n",
    "print(f'Inseridas {len(notas)} notas')\n",
    "\n",
    "soma = sum(notas)\n",
    "media = soma / len(notas)\n",
    "\n",
    "media = round(media, 2)\n",
    "\n",
    "print(f'A média das notas é {media}')"
   ]
  },
  {
   "cell_type": "markdown",
   "metadata": {},
   "source": [
    "### Exercício 5 - função conversão unidades"
   ]
  },
  {
   "cell_type": "markdown",
   "metadata": {},
   "source": [
    "Escreve um programa que faça a conversão para kms, de um dado valor em metros."
   ]
  },
  {
   "cell_type": "code",
   "execution_count": null,
   "metadata": {},
   "outputs": [],
   "source": [
    "# Obrigado à Infopédia por disponibilizar a informação sobre a palavra kilómetro\n",
    "# https://www.infopedia.pt/dicionarios/lingua-portuguesa/kil%C3%B3metro\n",
    "distancia_kms = input('Insere o valor em kilometros: ')\n",
    "\n",
    "distancia_kms = float(distancia_kms)\n",
    "\n",
    "distancia_metros = distancia_kms * 1000\n",
    "\n",
    "print(f'A distância em metros é {distancia_metros}')"
   ]
  },
  {
   "cell_type": "markdown",
   "metadata": {},
   "source": [
    "### Exercício 6 - função conversão temperaturas"
   ]
  },
  {
   "cell_type": "markdown",
   "metadata": {},
   "source": [
    "Escreve um programa que solicite a temperatura em Fahrenheit (F), ao utilizador, e a converta para grau Celsius (C), devolvendo o resultado da conversão."
   ]
  },
  {
   "cell_type": "code",
   "execution_count": null,
   "metadata": {},
   "outputs": [],
   "source": [
    "fahrenheit = input('Insere a temperatura em Fahrenheit: ')\n",
    "\n",
    "fahrenheit = float(fahrenheit)\n",
    "\n",
    "celsius = (fahrenheit - 32) * 5.0/9.0\n",
    "\n",
    "celsius = round(celsius, 2)\n",
    "\n",
    "print(f'A temperatura em graus Celsius é {celsius}')"
   ]
  }
 ],
 "metadata": {
  "kernelspec": {
   "display_name": "fundpython",
   "language": "python",
   "name": "python3"
  },
  "language_info": {
   "codemirror_mode": {
    "name": "ipython",
    "version": 3
   },
   "file_extension": ".py",
   "mimetype": "text/x-python",
   "name": "python",
   "nbconvert_exporter": "python",
   "pygments_lexer": "ipython3",
   "version": "3.12.8"
  }
 },
 "nbformat": 4,
 "nbformat_minor": 2
}
