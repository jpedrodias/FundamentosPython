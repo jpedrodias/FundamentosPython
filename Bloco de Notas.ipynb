{
 "cells": [
  {
   "cell_type": "markdown",
   "metadata": {},
   "source": [
    "<h1>Fundamentos de Python</h1"
   ]
  },
  {
   "cell_type": "markdown",
   "metadata": {},
   "source": [
    "Bloco de notas Jupyter com todos os exercícios"
   ]
  },
  {
   "cell_type": "markdown",
   "metadata": {},
   "source": [
    "Fork formadora: https://github.com/tecpt/FundamentosPython10793_05_N"
   ]
  },
  {
   "cell_type": "markdown",
   "metadata": {},
   "source": [
    " * * *"
   ]
  },
  {
   "cell_type": "markdown",
   "metadata": {},
   "source": [
    "# UFCD10793_FT01"
   ]
  },
  {
   "cell_type": "markdown",
   "metadata": {},
   "source": [
    "## Exercício 1a - função print"
   ]
  },
  {
   "cell_type": "markdown",
   "metadata": {},
   "source": [
    "Função interna do Python que permite imprimir mensagens no ecrã.\n",
    "- aceita vários argumentos\n",
    "- ver mais em help(print)"
   ]
  },
  {
   "cell_type": "code",
   "execution_count": null,
   "metadata": {},
   "outputs": [],
   "source": [
    "print('Hello World!')"
   ]
  },
  {
   "cell_type": "markdown",
   "metadata": {},
   "source": [
    "## Exercício 1b - modulo math + formatação de strings"
   ]
  },
  {
   "cell_type": "markdown",
   "metadata": {},
   "source": [
    "Módulo math\n",
    "import math | from math import sqrt\n",
    "- permite aceder a funções matemáticas"
   ]
  },
  {
   "cell_type": "code",
   "execution_count": null,
   "metadata": {},
   "outputs": [],
   "source": [
    "from math import sqrt\n",
    "\n",
    "numero = int(input(\"Digite um número: \"))\n",
    "raizquadrada = sqrt(numero)\n",
    "\n",
    "print(f\"A raiz quadrada de {numero} é {raizquadrada:.2f}\")"
   ]
  },
  {
   "cell_type": "markdown",
   "metadata": {},
   "source": [
    "#### Mais sobre Strings\n",
    "https://docs.python.org/pt-br/3.13/tutorial/inputoutput.html"
   ]
  },
  {
   "cell_type": "markdown",
   "metadata": {},
   "source": [
    "## Exercício 3 - calcula o dobro de um número inteiro"
   ]
  },
  {
   "cell_type": "markdown",
   "metadata": {},
   "source": [
    "Cria agora um nove ficheiro python (extensão .py) com o nome ex03.\n",
    "Dentro deste ficheiro escreve um programa que receba, como parâmetro um inteiro, e devolva o se dobro"
   ]
  },
  {
   "cell_type": "code",
   "execution_count": null,
   "metadata": {},
   "outputs": [],
   "source": [
    "num = int(input('Intere um númeor inteiro'))\n",
    "dobro = num * 2\n",
    "print(f'O dobro de {num} é {dobro}')"
   ]
  },
  {
   "cell_type": "markdown",
   "metadata": {},
   "source": [
    "## Exercício 4 - calcula o volume de uma esfera"
   ]
  },
  {
   "cell_type": "markdown",
   "metadata": {},
   "source": [
    "Escreve um programa que calcule o volume de uma esfera. O valor do raio deverá ser introduzido pelo utilizador (deverá ser criado o ficheiro ex04.py)."
   ]
  },
  {
   "cell_type": "code",
   "execution_count": null,
   "metadata": {},
   "outputs": [],
   "source": [
    "from math import pi as PI\n",
    "\n",
    "raio = float(input('Introduza o raio da esfera: '))\n",
    "volume = (4/3) * PI * raio**3\n",
    "print(f'O volume da esfera de raio {raio} é {volume:.2f}')"
   ]
  },
  {
   "cell_type": "markdown",
   "metadata": {},
   "source": [
    "## Exercício 5 - calcula a hipotenusa"
   ]
  },
  {
   "cell_type": "markdown",
   "metadata": {},
   "source": [
    "Sejam a e b os catetos de um triângulo retângulo, faz um programa que devolva o valor da hipotenusa (deverá ser criado o ficheiro ex05.py)."
   ]
  },
  {
   "cell_type": "code",
   "execution_count": null,
   "metadata": {},
   "outputs": [],
   "source": [
    "from math import sqrt\n",
    "\n",
    "cateto1 = int(input('Introduza o valor do cateto 1: '))\n",
    "cateto2 = int(input('Introduza o valor do cateto 2: '))\n",
    "hipotenusa = sqrt(cateto1**2 + cateto2**2)\n",
    "print(f'O valor da hipotenusa é {hipotenusa:.2f}')"
   ]
  },
  {
   "cell_type": "markdown",
   "metadata": {},
   "source": [
    "## Exercício 6 - calcula o total de segundos"
   ]
  },
  {
   "cell_type": "markdown",
   "metadata": {},
   "source": [
    "Faz um programa que receba três parâmetros inteiros (horas, minutos e segundos) e converta o resultado para segundos, devolvendo o output para o ecrã (deverá ser criado o ficheiro ex06.py)."
   ]
  },
  {
   "cell_type": "code",
   "execution_count": null,
   "metadata": {},
   "outputs": [],
   "source": [
    "horas = int(input('Introduza as horas: '))\n",
    "minutos = int(input('Introduza os minutos: '))\n",
    "segundos = int(input('Introduza os segundos: '))\n",
    "total_segundos = horas * 3600 + minutos * 60 + segundos\n",
    "print(f'{horas} horas, {minutos} minutos e {segundos} segundos correspondem a {total_segundos} segundos')"
   ]
  },
  {
   "cell_type": "markdown",
   "metadata": {},
   "source": [
    "## Exercício 7 - calcula o consumo por litro"
   ]
  },
  {
   "cell_type": "markdown",
   "metadata": {},
   "source": [
    "Faz um programa que receba a distância em km e a quantidade em litros de combustível consumido por um carro num percurso. Calcula o consumo km/l e escreve uma mensagem de acordo com o resultado obtido. (deverá ser criado o ficheiro ex07.py)."
   ]
  },
  {
   "cell_type": "code",
   "execution_count": null,
   "metadata": {},
   "outputs": [],
   "source": [
    "distancia = float(input('Introduza a distância percorrida em km: '))\n",
    "litros = float(input('Introduza a quantidade de litros consumidos: '))\n",
    "consumo = distancia / litros\n",
    "print(f'O consumo foi de {consumo:.2f} km/l')\n",
    "\n",
    "if consumo > 8:\n",
    "    print('Consumo pouco econômico')\n",
    "else:\n",
    "    print('Consumo econômico')"
   ]
  },
  {
   "cell_type": "markdown",
   "metadata": {},
   "source": [
    " * * *"
   ]
  },
  {
   "cell_type": "markdown",
   "metadata": {},
   "source": [
    "# UFCD10793_FT02"
   ]
  },
  {
   "cell_type": "markdown",
   "metadata": {},
   "source": [
    "## Exercício 3 - função sum (soma)"
   ]
  },
  {
   "cell_type": "markdown",
   "metadata": {},
   "source": [
    "Escreve um programa em python que solicite três números inteiros ao utilizador e imprima a soma dos mesmos."
   ]
  },
  {
   "cell_type": "code",
   "execution_count": null,
   "metadata": {},
   "outputs": [],
   "source": [
    "num1 = input('Insere o número 1 (em interiro): ')\n",
    "num2 = input('Insere o número 2 (em interiro): ')\n",
    "num3 = input('Insere o número 3 (em interiro): ')\n",
    "\n",
    "num1 = int(num1)\n",
    "num2 = int(num2)\n",
    "num3 = int(num3)\n",
    "\n",
    "numeros = [num1, num2, num3]\n",
    "\n",
    "\n",
    "#soma = num1 + num2 + num3\n",
    "soma = sum(numeros)\n",
    "\n",
    "print(f'A soma dos {len(numeros)} é {soma}')"
   ]
  },
  {
   "cell_type": "markdown",
   "metadata": {},
   "source": [
    "## Exercício 4 - função len (tamanho)"
   ]
  },
  {
   "cell_type": "markdown",
   "metadata": {},
   "source": [
    "Escreve um programa que solicite duas notas ([nota1] e [nota2]) ao utilizador e apresente a média das mesmas da seguinte forma"
   ]
  },
  {
   "cell_type": "code",
   "execution_count": null,
   "metadata": {},
   "outputs": [],
   "source": [
    "nota1 = input('Insere a nota 1 (em inteiro): ')\n",
    "nota2 = input('Insere a nota 2 (em inteiro): ')\n",
    "\n",
    "nota1 = int(nota1)\n",
    "nota2 = int(nota2)\n",
    "\n",
    "notas = [nota1, nota2]\n",
    "\n",
    "#soma = num1 + num2 + num3\n",
    "soma = sum(notas)\n",
    "media = soma / len(notas)\n",
    "\n",
    "media = round(media, 2)\n",
    "\n",
    "print(f'A média das notas {nota1} e {nota2} é {media}')"
   ]
  },
  {
   "cell_type": "markdown",
   "metadata": {},
   "source": [
    "## Exercício 5 - função conversão unidades"
   ]
  },
  {
   "cell_type": "markdown",
   "metadata": {},
   "source": [
    "Escreve um programa que faça a conversão para kms, de um dado valor em metros."
   ]
  },
  {
   "cell_type": "code",
   "execution_count": null,
   "metadata": {},
   "outputs": [],
   "source": [
    "# Obrigado à Infopédia por disponibilizar a informação sobre a palavra kilómetro\n",
    "# https://www.infopedia.pt/dicionarios/lingua-portuguesa/kil%C3%B3metro\n",
    "distancia_kms = input('Insere o valor em kilometros: ')\n",
    "\n",
    "distancia_kms = float(distancia_kms)\n",
    "\n",
    "distancia_metros = distancia_kms * 1000\n",
    "\n",
    "print(f'A distância em metros é {distancia_metros}')"
   ]
  },
  {
   "cell_type": "markdown",
   "metadata": {},
   "source": [
    "## Exercício 6 - função conversão temperaturas"
   ]
  },
  {
   "cell_type": "markdown",
   "metadata": {},
   "source": [
    "Escreve um programa que solicite a temperatura em Fahrenheit (F), ao utilizador, e a converta para grau Celsius (C), devolvendo o resultado da conversão."
   ]
  },
  {
   "cell_type": "code",
   "execution_count": null,
   "metadata": {},
   "outputs": [],
   "source": [
    "fahrenheit = input('Insere a temperatura em Fahrenheit: ')\n",
    "\n",
    "fahrenheit = float(fahrenheit)\n",
    "\n",
    "celsius = (fahrenheit - 32) * 5.0/9.0\n",
    "\n",
    "celsius = round(celsius, 2)\n",
    "\n",
    "print(f'A temperatura em graus Celsius é {celsius}')"
   ]
  },
  {
   "cell_type": "markdown",
   "metadata": {},
   "source": [
    "* * *"
   ]
  },
  {
   "cell_type": "markdown",
   "metadata": {},
   "source": [
    "# UFCD10793_FT03"
   ]
  },
  {
   "cell_type": "markdown",
   "metadata": {},
   "source": [
    "## Exercício 1 - Execussão condicional"
   ]
  },
  {
   "cell_type": "markdown",
   "metadata": {},
   "source": [
    "Escreve um programa que solicite um número inteiro ao utilizador e caso o mesmo seja maior que 20, devolva o resultado da sua divisão por 2."
   ]
  },
  {
   "cell_type": "code",
   "execution_count": null,
   "metadata": {},
   "outputs": [],
   "source": [
    "# Input\n",
    "num = input('Insira um número inteiro: ')\n",
    "num = int(num)\n",
    "\n",
    "# Process\n",
    "if num > 20:\n",
    "    result = round(num / 2, 2)\n",
    "    print(f'O resultado da divisão de {num} por 2 é {result}')\n",
    "else:\n",
    "    print(f'O número {num} não é maior que 20.')"
   ]
  },
  {
   "cell_type": "markdown",
   "metadata": {},
   "source": [
    "## Exercício 2 - Execussão condicional e operador de igualdade"
   ]
  },
  {
   "cell_type": "markdown",
   "metadata": {},
   "source": [
    "Implementa um programa que leia dois números e indique se estes são iguais ou diferentes."
   ]
  },
  {
   "cell_type": "code",
   "execution_count": null,
   "metadata": {},
   "outputs": [],
   "source": [
    "# Input\n",
    "num1 = input('Insira um número inteiro: ')\n",
    "num2 = input('Insira outro número inteiro: ')\n",
    "\n",
    "# Converte os números para inteiros\n",
    "num1 = int(num1)\n",
    "num2 = int(num2)\n",
    "\n",
    "# Process\n",
    "if num1 == num2:\n",
    "    print(f'Os números {num1} e {num2} são iguais.')\n",
    "else:\n",
    "    print(f'Os números {num1} e {num2} são diferentes.')"
   ]
  },
  {
   "cell_type": "markdown",
   "metadata": {},
   "source": [
    "## Exercício 3 - Execussão condicional e operador módulo da divisão inteira"
   ]
  },
  {
   "cell_type": "markdown",
   "metadata": {},
   "source": [
    "Escreve um programa que solicite um número inteiro ao utilizador e verifique se o mesmo é par ou ímpar. A mensagem no ecrã deverá ter o seguinte formato:\n",
    "\"O número [número] é [par/ímpar]\""
   ]
  },
  {
   "cell_type": "code",
   "execution_count": null,
   "metadata": {},
   "outputs": [],
   "source": [
    "# Input\n",
    "num = input('Insira um número inteiro: ')\n",
    "num = int(num)\n",
    "\n",
    "# Process\n",
    "if num % 2 == 0:\n",
    "    print(f'O número {num} é par.')\n",
    "else:\n",
    "    print(f'O número {num} é ímpar.')"
   ]
  },
  {
   "cell_type": "markdown",
   "metadata": {},
   "source": [
    "## Exercício 4 - Execussão condicional e operadores de comparação maior ou menor que"
   ]
  },
  {
   "cell_type": "markdown",
   "metadata": {},
   "source": [
    "Escreve um programa que receba dois números reais e indique qual o maior dos dois  números. Considera a possibilidade de o utilizador indicar dois números iguais."
   ]
  },
  {
   "cell_type": "code",
   "execution_count": null,
   "metadata": {},
   "outputs": [],
   "source": [
    "# Input\n",
    "num1 = input('Insira um número real: ')\n",
    "num2 = input('Insira outro número real: ')\n",
    "\n",
    "# Converte os números para reais\n",
    "num1 = float(num1)\n",
    "num2 = float(num2)\n",
    "\n",
    "# Process\n",
    "if num1 > num2:\n",
    "    print(f'O número {num1} é maior que o número {num2}.')\n",
    "elif num1 < num2:\n",
    "    print(f'O número {num2} é maior que o número {num1}.')\n",
    "else:\n",
    "    print(f'Os números {num1} e {num2} são iguais.')"
   ]
  },
  {
   "cell_type": "markdown",
   "metadata": {},
   "source": [
    "## Exercício 5 - Execussão condicional e operadores de comparação de maior ou menor que"
   ]
  },
  {
   "cell_type": "markdown",
   "metadata": {},
   "source": [
    "Escreva um programa que verifique se um determinado número introduzido pelo utilizador é nulo, positivo ou negativo."
   ]
  },
  {
   "cell_type": "code",
   "execution_count": null,
   "metadata": {},
   "outputs": [],
   "source": [
    "# Input\n",
    "num = input('Insira um número inteiro: ')\n",
    "num = int(num)\n",
    "\n",
    "# Process\n",
    "if num > 0:\n",
    "    print(f'O número {num} é positivo.')\n",
    "elif num < 0:\n",
    "    print(f'O número {num} é negativo.')\n",
    "else:\n",
    "    print(f'O número {num} é nulo.')"
   ]
  },
  {
   "cell_type": "markdown",
   "metadata": {},
   "source": [
    "## Exercício 6 - Execussão condicional e operadores de comparação"
   ]
  },
  {
   "cell_type": "markdown",
   "metadata": {},
   "source": [
    "Escreve um programa que receba três números reais e indique qual o maior dos três números."
   ]
  },
  {
   "cell_type": "code",
   "execution_count": null,
   "metadata": {},
   "outputs": [],
   "source": [
    "# Input\n",
    "num1 = input('Insira um número real: ')\n",
    "num2 = input('Insira outro número real: ')\n",
    "num3 = input('Insira outro número real: ')\n",
    "\n",
    "# Converte os números para reais\n",
    "num1 = float(num1)\n",
    "num2 = float(num2)\n",
    "num3 = float(num3)\n",
    "\n",
    "# Process\n",
    "if num1 > num2 and num1 > num3:\n",
    "    print(f'O número {num1} é o maior dos três números.')   \n",
    "elif num2 > num1 and num2 > num3:\n",
    "    print(f'O número {num2} é o maior dos três números.')\n",
    "elif num3 > num1 and num3 > num2:\n",
    "    print(f'O número {num3} é o maior dos três números.')\n",
    "else:\n",
    "    print(f'Os números {num1}, {num2} e {num3} são iguais.')\n",
    "\n",
    "\n",
    "# ALTERNATIVA:\n",
    "maior = max(num1, num2, num3)\n",
    "if num1 == num2 == num3:\n",
    "    print(f'Os números {num1}, {num2} e {num3} são iguais')\n",
    "else:\n",
    "    print(f'O número {maior} é o maior dos três números.')"
   ]
  },
  {
   "cell_type": "markdown",
   "metadata": {},
   "source": [
    "## Exercício 7 - Ano bissexto"
   ]
  },
  {
   "cell_type": "markdown",
   "metadata": {},
   "source": [
    "Elabora um programa para verificar se um ano é bissexto ou não. A condição para ser um ano bissexto é: o ano deve ser divisível por 400;\n",
    "ou se for divisível por 4 e não for divisível por 100."
   ]
  },
  {
   "cell_type": "code",
   "execution_count": null,
   "metadata": {},
   "outputs": [],
   "source": [
    "# Input\n",
    "ano = input(\"Insira um ano: \")\n",
    "ano = int(ano)\n",
    "\n",
    "# Process\n",
    "if ano % 400 == 0 or (ano % 4 == 0 and ano % 100 != 0):\n",
    "    print(f\"O ano {ano} é bissexto.\")\n",
    "else:\n",
    "    print(f\"O ano {ano} não é bissexto.\")"
   ]
  },
  {
   "cell_type": "markdown",
   "metadata": {},
   "source": [
    "## Exercício 8 - Classificação de Triângulos"
   ]
  },
  {
   "cell_type": "markdown",
   "metadata": {},
   "source": [
    "Escreve um programa para classificar um triângulo de acordo com o comprimento dos seus lados. Considere as seguintes informações: \n",
    "<ul>\n",
    "<li>Triângulo equilátero: todos os lados possuem o mesmo comprimento; </li>\n",
    "<li>Triângulo escaleno: todos os lados possuem comprimento diferente; </li>\n",
    "<li>Triângulo isósceles: caracterizado por ter dois lados com o mesmo comprimento. </li>\n",
    "</ul>"
   ]
  },
  {
   "cell_type": "code",
   "execution_count": null,
   "metadata": {},
   "outputs": [],
   "source": [
    "# Input\n",
    "lado1 = input(\"Insira o comprimento do lado 1: \")\n",
    "lado2 = input(\"Insira o comprimento do lado 2: \")\n",
    "lado3 = input(\"Insira o comprimento do lado 3: \")\n",
    "\n",
    "# Converte os números para reais\n",
    "lado1 = float(lado1)\n",
    "lado2 = float(lado2)\n",
    "lado3 = float(lado3)\n",
    "\n",
    "# Process\n",
    "if lado1 == lado2 == lado3:\n",
    "    print(f\"O triângulo é equilátero.\")\n",
    "elif lado1 != lado2 != lado3:\n",
    "    print(f\"O triângulo é escaleno.\")\n",
    "else:\n",
    "    print(f\"O triângulo é isósceles.\")"
   ]
  },
  {
   "cell_type": "markdown",
   "metadata": {},
   "source": [
    "## Exercício 9 - Índice de Massa Corporal (IMC)"
   ]
  },
  {
   "cell_type": "markdown",
   "metadata": {},
   "source": [
    "O Índice de Massa Corporal (IMC) é utilizado para medir o peso ideal de uma pessoa. \n",
    "Escreve um programa que peça o nome, a idade, o peso e a altura do utilizado e que, de seguida, calcule e mostre o resultado do seu IMC e classifique esse resultado de acordo com as seguintes condições: \n",
    "<ul>\n",
    "<li>IMC &lt; 17,0 - Muito abaixo do peso ideal \n",
    "<li>17,0 &lt;= IMC &lt; 18,5 - Abaixo do peso \n",
    "<li>18,5 &lt;= IMC &lt; 25,0 - Peso normal \n",
    "<li>25,0 &lt;= IMC &lt; 30,0 - Acima do peso \n",
    "<li>30,0 &lt;= IMC &lt; 35,0 - Obesidade I \n",
    "<li>35,0 &lt;= IMC &lt; 40,0 - Obesidade II (severa) \n",
    "<li>IMC&gt;=40 - Obesidade III (mórbida)\n",
    "</ul>\n",
    "Nota: IMC=massa/(altura*altura)"
   ]
  },
  {
   "cell_type": "code",
   "execution_count": null,
   "metadata": {},
   "outputs": [],
   "source": [
    "# Input\n",
    "nome = input(\"Insira o seu nome: \")\n",
    "idade = input(\"Insira a sua idade: \")\n",
    "peso = input(\"Insira o seu peso (kg): \")\n",
    "altura = input(\"Insira a sua altura (m): \")\n",
    "\n",
    "# Converte os números para reais\n",
    "idade = int(idade)\n",
    "peso = float(peso)\n",
    "altura = float(altura)\n",
    "\n",
    "# Process\n",
    "imc = peso/(altura*altura)\n",
    "img = round(imc, 2)\n",
    "\n",
    "if img < 17:\n",
    "    print(f\"O IMC de {nome} é {img} e está muito abaixo do peso ideal.\")\n",
    "elif 17 <= img < 18.5:\n",
    "    print(f\"O IMC de {nome} é {img} e está abaixo do peso.\")\n",
    "elif 18.5 <= img < 25:\n",
    "    print(f\"O IMC de {nome} é {img} e está com o peso normal.\")\n",
    "elif 25 <= img < 30:\n",
    "    print(f\"O IMC de {nome} é {img} e está acima do peso.\")\n",
    "elif 30 <= img < 35:\n",
    "    print(f\"O IMC de {nome} é {img} e está com obesidade I.\")\n",
    "elif 35 <= img < 40:\n",
    "    print(f\"O IMC de {nome} é {img} e está com obesidade II (severa).\")\n",
    "else:\n",
    "    print(f\"O IMC de {nome} é {img} e está com obesidade III (mórbida).\")"
   ]
  },
  {
   "cell_type": "markdown",
   "metadata": {},
   "source": [
    "## Exercício 10 - Calculadora simples"
   ]
  },
  {
   "cell_type": "markdown",
   "metadata": {},
   "source": [
    "Implemente uma calculadora simples com as operações aritméticas básicas. O utilizador deverá especificar a operação desejada (+,-,*,/) e, em seguida, inserir dois valores. \n",
    "Caso, o utilizador escolha divisão e insira como valor do denominar 0 mostra uma mensagem personalizada. Para os restantes casos, mostra no ecrã o resultado da operação desejada. "
   ]
  },
  {
   "cell_type": "code",
   "execution_count": null,
   "metadata": {},
   "outputs": [],
   "source": [
    "# Input\n",
    "operacao = input('Insira a operação desejada (+, -, *, /): ')\n",
    "num1 = input('Insira um número: ')\n",
    "num2 = input('Insira outro número: ')\n",
    "\n",
    "# Converte os números para reais\n",
    "num1 = float(num1)\n",
    "num2 = float(num2)\n",
    "\n",
    "# Process\n",
    "if operacao == '+':\n",
    "    resultado = num1 + num2\n",
    "    print(f'O resultado da soma é {resultado}.')\n",
    "elif operacao == '-':\n",
    "    resultado = num1 - num2\n",
    "    print(f'O resultado da subtração é {resultado}.')\n",
    "elif operacao == '*':\n",
    "    resultado = num1 * num2\n",
    "    print(f'O resultado da multiplicação é {resultado}.')\n",
    "elif operacao == '/':\n",
    "    if num2 == 0:\n",
    "        print('Não é possível dividir por zero.')\n",
    "    else:\n",
    "        resultado = num1 / num2\n",
    "        print(f'O resultado da divisão é {resultado}.')\n",
    "else:\n",
    "    print('Operação inválida. Insira uma operação válida (+, -, *, /).')\n"
   ]
  },
  {
   "cell_type": "markdown",
   "metadata": {},
   "source": [
    "* * *"
   ]
  },
  {
   "cell_type": "markdown",
   "metadata": {},
   "source": [
    "## Exercícios de aula"
   ]
  },
  {
   "cell_type": "markdown",
   "metadata": {},
   "source": [
    "##  Exercício de aula 1: match ... case"
   ]
  },
  {
   "cell_type": "markdown",
   "metadata": {},
   "source": [
    "Escreve um programa que receba o nome de um produto e o seu preço, e retorne o preço total considerando os descontos seguintes:\n",
    "\n",
    "1. Se o produto for um smartphone, será aplicado um desconto de 10%.\n",
    "2. Se o produto for um tablet, será aplicado um desconto de 15%.\n",
    "3. Se o produto for um laptop, será aplicado um desconto de 20%.\n",
    "4. Para qualquer outro produto, não haverá desconto.\n",
    "\n",
    "Utilize a estrutura match ... case para determinar o desconto a ser aplicado."
   ]
  },
  {
   "cell_type": "code",
   "execution_count": null,
   "metadata": {},
   "outputs": [],
   "source": [
    "menu = '''\n",
    "Escolha o pruduto / desconto a aplicar:\n",
    "1. 10% para smartphone\n",
    "2. 15% para tablet\n",
    "3. 20% para laptop\n",
    "4. qualquer outro sem desconto\n",
    "'''\n",
    "\n",
    "print(menu)\n",
    "opcao = input('Insira a opção desejada: ')\n",
    "preco_str = input('Insira o preço do produto: ')\n",
    "\n",
    "match opcao:\n",
    "    case '1':\n",
    "        desconto = 0.10\n",
    "    case '2':\n",
    "        desconto = 0.15\n",
    "    case '3':\n",
    "        desconto = 0.20\n",
    "    case _:\n",
    "        desconto = 0\n",
    "\n",
    "preco = float(preco_str)\n",
    "print(f'O desconto é {desconto * 100:.0f}%')\n",
    "preco_final = preco - preco * desconto\n",
    "print(f'O preço final é {preco_final:.2f}')\n"
   ]
  },
  {
   "cell_type": "markdown",
   "metadata": {},
   "source": [
    "## Exercício 10 da FT03- Calculadora simples usando o match"
   ]
  },
  {
   "cell_type": "markdown",
   "metadata": {},
   "source": [
    "Implemente uma calculadora simples com as operações aritméticas básicas. O utilizador deverá especificar a operação desejada (+,-,*,/) e, em seguida, inserir dois valores. \n",
    "Caso, o utilizador escolha divisão e insira como valor do denominar 0 mostra uma mensagem personalizada. Para os restantes casos, mostra no ecrã o resultado da operação desejada. "
   ]
  },
  {
   "cell_type": "code",
   "execution_count": null,
   "metadata": {},
   "outputs": [],
   "source": [
    "operacao = input('Insira a operação desejada (+, -, *, /): ')\n",
    "numero = input('Insira um número: ')\n",
    "outro_numero = input('Insira outro número: ')\n",
    "\n",
    "# Converte as string para números para reais\n",
    "numero = float(numero)\n",
    "outro_numero = float(outro_numero)\n",
    "\n",
    "match operacao:\n",
    "    case '+':\n",
    "        operacao = 'adição'\n",
    "        resultado = numero + outro_numero\n",
    "    case '-':\n",
    "        operacao = 'subtração'\n",
    "        resultado = numero - outro_numero\n",
    "    case '*':\n",
    "        operacao = 'multiplicação'\n",
    "        resultado = numero * outro_numero\n",
    "    case '/':\n",
    "        operacao = 'divisão'\n",
    "\n",
    "        match outro_numero:\n",
    "            case 0:\n",
    "                resultado = 'impossível de cacular. Não é possível dividir por zero.'\n",
    "            case _:\n",
    "                resultado = numero / outro_numero\n",
    "\n",
    "    case _: \n",
    "        resultado = None\n",
    "\n",
    "if resultado is None:\n",
    "    print(f'O resultado da {operacao} é {resultado}.')\n",
    "else:\n",
    "    print('Operação inválida. Insira uma operação válida (+, -, *, /).')"
   ]
  },
  {
   "cell_type": "markdown",
   "metadata": {},
   "source": [
    "## Exercício de aula 03 - `while` loop"
   ]
  },
  {
   "cell_type": "markdown",
   "metadata": {},
   "source": [
    "Soma os primeiros 10 números inteiros"
   ]
  },
  {
   "cell_type": "code",
   "execution_count": null,
   "metadata": {},
   "outputs": [],
   "source": [
    "fim = 10\n",
    "soma = 0 # inicializado com o elemento neutro da adição\n",
    "i = 1\n",
    "while i <= 10:\n",
    "    soma += i\n",
    "    i += 1\n",
    "print(f'A soma dos números de 1 a {fim} é {soma}.')"
   ]
  },
  {
   "cell_type": "markdown",
   "metadata": {},
   "source": [
    "## Exercício2 - `while` loop - tabuadas"
   ]
  },
  {
   "cell_type": "markdown",
   "metadata": {},
   "source": [
    "Escreve um programa, em que utilizes a instrução while, que devolve a tabuada do 8."
   ]
  },
  {
   "cell_type": "code",
   "execution_count": null,
   "metadata": {},
   "outputs": [],
   "source": [
    "print('Tabuadas')\n",
    "\n",
    "numero = 1\n",
    "while numero < 10:\n",
    "    print(f'\\t{numero}', end=' ')\n",
    "    numero += 1\n",
    "print()\n",
    "\n",
    "i = 1\n",
    "while i < 10:\n",
    "    print(f'{i} \\t', end = '')\n",
    "    numero = 1\n",
    "    while numero < 10:\n",
    "        print(f'{numero * i} \\t', end='')\n",
    "        numero += 1\n",
    "    print()\n",
    "    i += 1"
   ]
  },
  {
   "cell_type": "markdown",
   "metadata": {},
   "source": [
    "# UFCD10793_FT04"
   ]
  },
  {
   "cell_type": "markdown",
   "metadata": {},
   "source": [
    "## Exercício 1 - match - mês"
   ]
  },
  {
   "cell_type": "markdown",
   "metadata": {},
   "source": [
    "Faz um programa que escreva o nome do mês que é introduzido, pelo utilizador, na forma numérica."
   ]
  },
  {
   "cell_type": "code",
   "execution_count": null,
   "metadata": {},
   "outputs": [],
   "source": [
    "mes_input = input('Introduza o número do mês: ')\n",
    "mes_int = int(mes_input)\n",
    "\n",
    "match mes_int:\n",
    "    case 1:\n",
    "        mes_str = 'Janeiro'\n",
    "    case 2:\n",
    "        mes_str = 'Fevereiro'\n",
    "    case 3:\n",
    "        mes_str = 'Março'\n",
    "    case 4:\n",
    "        mes_str = 'Abril'\n",
    "    case 5:\n",
    "        mes_str = 'Maio'\n",
    "    case 6:\n",
    "        mes_str = 'Junho'\n",
    "    case 7:\n",
    "        mes_str = 'Julho'\n",
    "    case 8:\n",
    "        mes_str = 'Agosto'\n",
    "    case 9:\n",
    "        mes_str = 'Setembro'\n",
    "    case 10:\n",
    "        mes_str = 'Outubro'\n",
    "    case 11:\n",
    "        mes_str = 'Novembro'\n",
    "    case 12:\n",
    "        mes_str = 'Dezembro'\n",
    "    case _: # default\n",
    "        mes_str = 'Mês inválido'\n",
    "\n",
    "print(mes_str)"
   ]
  },
  {
   "cell_type": "markdown",
   "metadata": {},
   "source": [
    "## Exercício 2 - match - estado civil"
   ]
  },
  {
   "cell_type": "markdown",
   "metadata": {},
   "source": [
    "Implemente um programa que, dada uma letra (S, C ou V), indique o estado civil de uma pessoa."
   ]
  },
  {
   "cell_type": "code",
   "execution_count": null,
   "metadata": {},
   "outputs": [],
   "source": [
    "estado_civil = input('Insira o estado civil (S, C ou V): ')\n",
    "estado_civil = estado_civil.upper()\n",
    "\n",
    "match estado_civil:\n",
    "    case 'S':\n",
    "        estado_civil_str = 'Solteiro'\n",
    "    case 'C':\n",
    "        estado_civil_str = 'Casado'\n",
    "    case 'V':\n",
    "        estado_civil_str = 'Viúvo'\n",
    "    case _:\n",
    "        estado_civil_str = 'Estado civil inválido'\n",
    "\n",
    "print(f'Estado civil: {estado_civil_str}')"
   ]
  },
  {
   "cell_type": "markdown",
   "metadata": {},
   "source": [
    "## Exercício 3 - while loop - somas e médias"
   ]
  },
  {
   "cell_type": "markdown",
   "metadata": {},
   "source": [
    "Fazer um programa para ler quatro números inteiros e positivos, calcular e devolver a sua média."
   ]
  },
  {
   "cell_type": "code",
   "execution_count": null,
   "metadata": {},
   "outputs": [],
   "source": [
    "quantidade = 4\n",
    "soma = 0\n",
    "i = 0\n",
    "while i < quantidade:\n",
    "    numero = int(input(f'Insira um número inteiro positivo #{i+1}: '))\n",
    "    soma += numero\n",
    "    i += 1\n",
    "\n",
    "print(f'A média dos números é {soma / quantidade}.')"
   ]
  },
  {
   "cell_type": "markdown",
   "metadata": {},
   "source": [
    "## Exercício 4 - while loop - 100 vezes"
   ]
  },
  {
   "cell_type": "markdown",
   "metadata": {},
   "source": [
    "Escreve um programa para escrever no ecrã a palavra olá 100 vezes."
   ]
  },
  {
   "cell_type": "code",
   "execution_count": null,
   "metadata": {},
   "outputs": [],
   "source": [
    "quantidade = 100\n",
    "palavra = 'olá'\n",
    "i = 0\n",
    "while i < quantidade:\n",
    "    print(palavra, end=' ')\n",
    "    i += 1\n",
    "    if i % 20 == 0: print()\n",
    "print()"
   ]
  },
  {
   "cell_type": "markdown",
   "metadata": {},
   "source": [
    "## Exercício 5 - while loop - números de 1 a 100"
   ]
  },
  {
   "cell_type": "markdown",
   "metadata": {},
   "source": [
    "Elabora um programa para escrever no ecrã os números de 1 a 100."
   ]
  },
  {
   "cell_type": "code",
   "execution_count": null,
   "metadata": {},
   "outputs": [],
   "source": [
    "quantidade = 100\n",
    "i = 0\n",
    "while i < quantidade:\n",
    "    print(f'Número {i+1}')\n",
    "    i += 1\n",
    "print()"
   ]
  },
  {
   "cell_type": "markdown",
   "metadata": {},
   "source": [
    "## Exercício 6 - while loop - números e quadrados"
   ]
  },
  {
   "cell_type": "markdown",
   "metadata": {},
   "source": [
    "Elabora um programa para escrever no ecrã os números de 1 a 100 e os respetivos quadrados"
   ]
  },
  {
   "cell_type": "code",
   "execution_count": null,
   "metadata": {},
   "outputs": [],
   "source": [
    "quantidade = 100\n",
    "i = 0\n",
    "while i < quantidade:\n",
    "    quadrado = (i+1) ** 2\n",
    "    print(f'O quadrado de {i+1} é { quadrado }.')\n",
    "    i += 1\n",
    "print()"
   ]
  },
  {
   "cell_type": "markdown",
   "metadata": {},
   "source": [
    "## Exercício 7 - while loop - soma dos N primeiros números naturais"
   ]
  },
  {
   "cell_type": "markdown",
   "metadata": {},
   "source": [
    "Elabora um programa para calcula a soma dos N primeiros números naturais $(1+2+3+...+N)$\n",
    "em que $N$ é um número introduzido pelo utilizador (NOTA: este programa poderia ser feito\n",
    "utilizando a fórmula da progressão aritmética, $S = (1+N) * N/2$, mas faz de conta que não\n",
    "sabíamos a fórmula)."
   ]
  },
  {
   "cell_type": "code",
   "execution_count": null,
   "metadata": {},
   "outputs": [],
   "source": [
    "quantidade = int(input('Quantos números deseja calcular? '))\n",
    "soma = 0\n",
    "i = 0\n",
    "while i < quantidade:\n",
    "    soma += i \n",
    "    i += 1\n",
    "print(f'A soma dos números de 1 a {quantidade} é {soma}.')"
   ]
  },
  {
   "cell_type": "markdown",
   "metadata": {},
   "source": [
    "## Exercício 9 - while loop - tabuada de qualquer número"
   ]
  },
  {
   "cell_type": "markdown",
   "metadata": {},
   "source": [
    "Reescreve o programa anterior de forma a apresentar a tabuada de qualquer número introduzido pelo utilizador."
   ]
  },
  {
   "cell_type": "code",
   "execution_count": null,
   "metadata": {},
   "outputs": [],
   "source": [
    "#numero = int(input('Tabuada do número? '))\n",
    "numero = 5\n",
    "quantidade = 10\n",
    "i = 0\n",
    "while i < quantidade:\n",
    "    print(f'{numero} x {i+1} = {numero * (i+1)}')    \n",
    "    i += 1"
   ]
  },
  {
   "cell_type": "markdown",
   "metadata": {},
   "source": [
    "## Exercício 10 - while loop - ordem decrescente"
   ]
  },
  {
   "cell_type": "markdown",
   "metadata": {},
   "source": [
    "Escreve um programa que coloque no ecrã os 10 primeiros números de forma decrescente."
   ]
  },
  {
   "cell_type": "code",
   "execution_count": null,
   "metadata": {},
   "outputs": [],
   "source": [
    "quantidade = 0\n",
    "i = 10\n",
    "while i > quantidade:\n",
    "    print(f'{i}')    \n",
    "    i -= 1"
   ]
  },
  {
   "cell_type": "markdown",
   "metadata": {},
   "source": [
    "## Exercício 11 - while loop - somatório e produtório"
   ]
  },
  {
   "cell_type": "markdown",
   "metadata": {},
   "source": [
    "Escreve um programa que calcule a soma e o produto dos N primeiros números naturais."
   ]
  },
  {
   "cell_type": "code",
   "execution_count": null,
   "metadata": {},
   "outputs": [],
   "source": [
    "quantidade = int(input('Quantos números deseja calcular? '))\n",
    "soma = 0\n",
    "produto = 1\n",
    "i = 1\n",
    "while i < quantidade:\n",
    "    soma += i\n",
    "    produto *= i\n",
    "    i += 1\n",
    "print(f'A soma dos números de 1 a {quantidade} é {soma} e o produto é {produto}.')"
   ]
  },
  {
   "cell_type": "markdown",
   "metadata": {},
   "source": [
    "## Exercício 12 - while loop - fatorial"
   ]
  },
  {
   "cell_type": "markdown",
   "metadata": {},
   "source": [
    "Escreve um programa que calcule a soma e o produto dos $N$ primeiros números naturais."
   ]
  },
  {
   "cell_type": "code",
   "execution_count": null,
   "metadata": {},
   "outputs": [],
   "source": [
    "numero = int(input('Calculo do fatorial. Qual o o número (positivo)? '))\n",
    "\n",
    "fatorial = 1\n",
    "i = 1\n",
    "while i <= numero:\n",
    "    fatorial *= i\n",
    "    i += 1\n",
    "print(f'O fatorial de {numero} é {fatorial}.')"
   ]
  },
  {
   "cell_type": "markdown",
   "metadata": {},
   "source": [
    "## Exercício 13 - while loop - soma de 1 a 100"
   ]
  },
  {
   "cell_type": "markdown",
   "metadata": {},
   "source": [
    "Elabora um programa para soma todos os valores entre 10 e 100 (inclusive) e apresentar os valores no ecrã."
   ]
  },
  {
   "cell_type": "code",
   "execution_count": null,
   "metadata": {},
   "outputs": [],
   "source": [
    "MIN = 10\n",
    "MAX = 100\n",
    "soma = 0\n",
    "i = MIN\n",
    "while i <= MAX:\n",
    "    soma += i\n",
    "    i += 1\n",
    "print(f'A soma dos valores entre {MIN} e {MAX} é {soma}.')"
   ]
  },
  {
   "cell_type": "markdown",
   "metadata": {},
   "source": [
    "## Exercício 14 - for loop - soma de min a max"
   ]
  },
  {
   "cell_type": "markdown",
   "metadata": {},
   "source": [
    "Elabora um programa para soma todos os valores entre 10 e 100 (inclusive) e apresentar os valores no ecrã."
   ]
  },
  {
   "cell_type": "code",
   "execution_count": null,
   "metadata": {},
   "outputs": [],
   "source": [
    "MIN = int(input('Valor mínimo? '))\n",
    "MAX = int(input('Valor máximo? '))\n",
    "for i in range(MIN, MAX+1):\n",
    "    print(i, end=' ')   "
   ]
  },
  {
   "cell_type": "markdown",
   "metadata": {},
   "source": [
    "## Exercício 15 - for loop - múltiplos de 5"
   ]
  },
  {
   "cell_type": "markdown",
   "metadata": {},
   "source": [
    "Escreve um programa que mostre no ecrã os 20 primeiros múltiplos de $5$ no ecrã."
   ]
  },
  {
   "cell_type": "code",
   "execution_count": null,
   "metadata": {},
   "outputs": [],
   "source": [
    "MIN = 1\n",
    "MAX = 20\n",
    "for i in range(MIN, MAX+1):\n",
    "    print(i * 5, end=' ')   "
   ]
  },
  {
   "cell_type": "markdown",
   "metadata": {},
   "source": [
    "## Exercício 16 - try except"
   ]
  },
  {
   "cell_type": "markdown",
   "metadata": {},
   "source": [
    "Escreva um programa que peça ao utilizador números entre 0-10. Se o utilizador inserir um número fora desse intervalo o programa deverá finalizar com uma mensagem personalizada"
   ]
  },
  {
   "cell_type": "code",
   "execution_count": null,
   "metadata": {},
   "outputs": [],
   "source": [
    "numero = int(input('Insira um número entre 0-10: '))\n",
    "try:\n",
    "    numero = int(numero)\n",
    "except ValueError:\n",
    "    numero = None\n",
    "    print('O valor inserido não é um número inteiro.')\n",
    "\n",
    "if numero is not None:\n",
    "    if numero >= 0 and numero <= 10:\n",
    "        print('Número inserido:', numero)\n",
    "    else:\n",
    "        print('O número inserido não está entre 0-10.')"
   ]
  },
  {
   "cell_type": "markdown",
   "metadata": {},
   "source": [
    "## Exercício 17 - mais loops"
   ]
  },
  {
   "cell_type": "markdown",
   "metadata": {},
   "source": [
    "Escreva um programa que peça ao utilizador 20 números reais e no final mostre a soma e a média dos números introduzidos."
   ]
  },
  {
   "cell_type": "code",
   "execution_count": null,
   "metadata": {},
   "outputs": [],
   "source": [
    "LAZYMODE = True\n",
    "\n",
    "if LAZYMODE:\n",
    "    from random import random\n",
    "\n",
    "quantidade = 20\n",
    "soma = 0\n",
    "for i in range(quantidade):\n",
    "    if LAZYMODE:\n",
    "        numero = 9 * random() + 1\n",
    "        numero = round(numero, 1)\n",
    "        print(f'Número real #{i+1}: {numero}')\n",
    "    else:\n",
    "        numero = float(input(f'Insira um número real #{i+1}: '))\n",
    "    soma += numero\n",
    "\n",
    "media = soma / quantidade\n",
    "print('Soma:', round(soma, 1))\n",
    "print('Média:', round(media, 1))"
   ]
  },
  {
   "cell_type": "markdown",
   "metadata": {},
   "source": [
    "## Exercício 18 - loops modulo da divisão inteira"
   ]
  },
  {
   "cell_type": "markdown",
   "metadata": {},
   "source": [
    "Elabore um programa que calcule e mostre no ecrã os números pares entre 1 e 200."
   ]
  },
  {
   "cell_type": "code",
   "execution_count": null,
   "metadata": {},
   "outputs": [],
   "source": [
    "MIN = 1\n",
    "MAX = 200\n",
    "for i in range(MIN, MAX+1):\n",
    "    if i % 2 == 0:\n",
    "        print(i, end=' ')"
   ]
  },
  {
   "cell_type": "markdown",
   "metadata": {},
   "source": [
    "## Exercício 19 - loops"
   ]
  },
  {
   "cell_type": "markdown",
   "metadata": {},
   "source": [
    "Escreve um programa que solicite ao utilizador um número e escreva em simultâneo a sequência crescente e decrescente entre 1 e esse número."
   ]
  },
  {
   "cell_type": "code",
   "execution_count": null,
   "metadata": {},
   "outputs": [],
   "source": [
    "numero = int(input('Insira um número: '))\n",
    "numero = int(numero)\n",
    "\n",
    "MIN = 1\n",
    "MAX = numero\n",
    "print('↑ ↓')\n",
    "for i in range(MIN, MAX+1):\n",
    "    print(f'{i} {MAX - i + 1}')"
   ]
  },
  {
   "cell_type": "markdown",
   "metadata": {},
   "source": [
    "* * *"
   ]
  },
  {
   "cell_type": "markdown",
   "metadata": {},
   "source": [
    "# UFCD10793_FT05"
   ]
  },
  {
   "cell_type": "markdown",
   "metadata": {},
   "source": [
    "## Exercício 1a - ciclo for e while\n",
    "Escreva um programa que imprima os números de 1 até 50."
   ]
  },
  {
   "cell_type": "code",
   "execution_count": null,
   "metadata": {},
   "outputs": [],
   "source": [
    "print('Solução 1: ')\n",
    "for i in range(1, 51):\n",
    "    print(i, end=' ')\n",
    "print()\n",
    "\n",
    "print('Solução 2:')\n",
    "i = 0\n",
    "while i < 51:\n",
    "    print(i, end=' ')\n",
    "    i += 1"
   ]
  },
  {
   "cell_type": "markdown",
   "metadata": {},
   "source": [
    "## Exercício 1b - tabuada com ciclo for e while\n",
    "Utilizando estruturas de repetição escreva um programa que mostre os\n",
    "resultados da tabuada de multiplicação dos números entre 1 e 10, como segue."
   ]
  },
  {
   "cell_type": "code",
   "execution_count": null,
   "metadata": {},
   "outputs": [],
   "source": [
    "print('Solução 1: ')\n",
    "for valor in range(1,11):\n",
    "    for numero in range(1,11):\n",
    "        print(f'{valor} x {numero} = {valor*numero}')\n",
    "\n",
    "print('Solução 2: ')\n",
    "x = 1\n",
    "while x <= 10:\n",
    "    y = 1\n",
    "    while y <= 10:\n",
    "        print(f'{x} x {y} = {x*y}')\n",
    "        y+=1\n",
    "    x+=1"
   ]
  },
  {
   "cell_type": "markdown",
   "metadata": {},
   "source": [
    "## Exercício 1c - números aleatórios"
   ]
  },
  {
   "cell_type": "markdown",
   "metadata": {},
   "source": [
    "c. Escreva um programa que gere 100 números reais aleatórios entre 0 e 1 e armazene-os numa lista. No final o programa deverá mostrar as seguintes informações:\n",
    "\n",
    "i. Maior número;\n",
    "\n",
    "ii. Menor número;\n",
    "\n",
    "iii. Soma de todos os números gerados;\n",
    "\n",
    "iv. Média e desvio padrão."
   ]
  },
  {
   "cell_type": "code",
   "execution_count": null,
   "metadata": {},
   "outputs": [],
   "source": [
    "from random import random\n",
    "from statistics import mean, stdev\n",
    "\n",
    "lista = []\n",
    "\n",
    "for num in range(1,101):\n",
    "    lista.append(random())\n",
    "\n",
    "print(f'Maior numero: {max(lista)}')\n",
    "print(f'Menor número: {min(lista)}')\n",
    "print(f'Soma dos numeros: {sum(lista)}')\n",
    "print(f'Média dos numeros gerados: {mean(lista)}')\n",
    "print(f'Desvio padrao dos numeros gerados: {stdev(lista)}')"
   ]
  },
  {
   "cell_type": "markdown",
   "metadata": {},
   "source": [
    "## Exercício 1d - listas\n",
    "Escreva um programa que multiplique todos os elementos de uma lista."
   ]
  },
  {
   "cell_type": "code",
   "execution_count": null,
   "metadata": {},
   "outputs": [],
   "source": [
    "lista = [10, 10, 10]\n",
    "mul = 1\n",
    "for num in lista:\n",
    "    mul = mul*num\n",
    "    print(mul)"
   ]
  },
  {
   "cell_type": "markdown",
   "metadata": {},
   "source": [
    "## Exercício 1d - listas sort\n",
    "Escreve um programa que ordene os elementos das listas a seguir em ordem crescente e decrescente."
   ]
  },
  {
   "cell_type": "code",
   "execution_count": null,
   "metadata": {},
   "outputs": [],
   "source": [
    "lista1 = [\n",
    "    117, 1519, 1335, 1600, 1676, 1491, 868,\n",
    "    1149, 642, 1321, 509, 1296, 1936, 1014,\n",
    "    1114, 1197, 94, 1347, 1112, 1224, 351,\n",
    "    1498, 1028, 255, 937, 514, 1041, 1923,\n",
    "    913, 510, 868, 1195, 1218, 1489, 1920,\n",
    "    630, 666, 605, 515, 1219, 59, 1217, 1293,\n",
    "    487, 1095, 1730, 1115, 1465, 1506, 1881\n",
    "]\n",
    "\n",
    "lista1.sort()\n",
    "\n",
    "print(lista1)\n",
    "\n",
    "lista1.sort(reverse=True)\n",
    "\n",
    "print(lista1)\n",
    "\n",
    "\n",
    "lista2=[\n",
    "    'a','a','z','f',\n",
    "    'h','i','m', 'u',\n",
    "    'q','r','b','d',\n",
    "]\n",
    "\n",
    "lista2.sort()\n",
    "\n",
    "print(lista2)\n",
    "\n",
    "lista2.sort(reverse=True)\n",
    "\n",
    "print(lista2)"
   ]
  },
  {
   "cell_type": "markdown",
   "metadata": {},
   "source": [
    "## Exercício 1f - listas tamanho\n",
    "Escreve um programa, em python, que verifique se uma lista é vazia ou não.\n",
    "Caso a lista seja vazia, mostre True, caso contrário False."
   ]
  },
  {
   "cell_type": "code",
   "execution_count": null,
   "metadata": {},
   "outputs": [],
   "source": [
    "lista = []\n",
    "if not len(lista) > 0:\n",
    "    print('Lista vazia.')\n",
    "else:\n",
    "    print('A lista não é vazia.')"
   ]
  },
  {
   "cell_type": "markdown",
   "metadata": {},
   "source": [
    "## Exercício 2 - listas insert, append, remove, len, clear\n",
    "Crie um programa para controlar listas, com as seguintes funções:\n",
    "* Adicionar elemento no início;\n",
    "* Adicionar elemento no fim;\n",
    "* Remover elemento;\n",
    "* Tamanho da lista;\n",
    "* Imprimir elementos da lista;\n",
    "* Esvaziar lista;"
   ]
  },
  {
   "cell_type": "code",
   "execution_count": null,
   "metadata": {},
   "outputs": [],
   "source": [
    "# inicialização da lista\n",
    "lista = []\n",
    "\n",
    "# adicionar elemento no início\n",
    "lista.insert(0, 'A')\n",
    "lista.append(0, 'B')\n",
    "lista.append(0, 'C')\n",
    "print('Adicionados elementos inicio:', lista)\n",
    "\n",
    "# adicionar elemento no fim\n",
    "lista.append('D')\n",
    "lista.append('E')\n",
    "lista.append('F')\n",
    "print('Adicionados elementos fim:', lista)\n",
    "\n",
    "# remover elemento\n",
    "lista.remove('A')\n",
    "print('Removido um elemento:', lista)\n",
    "\n",
    "# tamanho da lista\n",
    "print('O tamanho da lista é:', len(lista))\n",
    "\n",
    "# Esvaziar lista\n",
    "lista.clear()"
   ]
  },
  {
   "cell_type": "markdown",
   "metadata": {},
   "source": [
    "***"
   ]
  },
  {
   "cell_type": "markdown",
   "metadata": {},
   "source": [
    "# UFCD10793_FT06"
   ]
  },
  {
   "cell_type": "markdown",
   "metadata": {},
   "source": [
    "## Exercício 1 - listas"
   ]
  },
  {
   "cell_type": "markdown",
   "metadata": {},
   "source": [
    "Considera a lista: cores=['amarelo', 'azul', 'branco', 'preto', 'verde']\n",
    "\n",
    "Cria um programa, em python, que:\n",
    "\n",
    "a. Faz o print de toda a lista\n",
    "\n",
    "b. Faz o print do indíce 2 da lista\n",
    "\n",
    "c. Altera o indíce 0 da lista para 'vermelho'\n",
    "\n",
    "d. Faz o print de toda a lista\n",
    "\n",
    "e. Acrescenta no final da lista a cor 'amarelo'\n",
    "\n",
    "f. Faz o print de toda a lista\n",
    "\n",
    "g. Acrescenta no indíce 2 a cor 'roxo'\n",
    "\n",
    "h. Faz o print de toda a lista\n",
    "\n",
    "i. Apaga o último elemento da lista\n",
    "\n",
    "j. Faz o print de toda a lista\n",
    "\n",
    "k. Faz o print do tamanho da lista (len)"
   ]
  },
  {
   "cell_type": "code",
   "execution_count": null,
   "metadata": {},
   "outputs": [],
   "source": [
    "cores = ['amarelo', 'azul', 'branco', 'preto', 'verde']\n",
    "\n",
    "# a. Faz o print de toda a lista\n",
    "\n",
    "# método 1\n",
    "print('Cores:')\n",
    "for cor in cores:\n",
    "    print(cor, end=' ')\n",
    "print()\n",
    "\n",
    "# método 2\n",
    "print('Cores:', cores)\n",
    "\n",
    "# método 3\n",
    "print('Cores:', ', '.join(cores))\n",
    "\n",
    "\n",
    "# b. Faz o print do indíce 2 da lista\n",
    "print('Cor no índice 2:', cores[2])\n",
    "\n",
    "# c. Altera o indíce 0 da lista para 'vermelho'\n",
    "cores[0] = 'vermelho'\n",
    "\n",
    "# d. Faz o print de toda a lista\n",
    "print('Cores:', cores)\n",
    "\n",
    "# e. Acrescenta no final da lista a cor 'amarelo'\n",
    "cores.append('amarelo')\n",
    "\n",
    "# f. Faz o print de toda a lista\n",
    "print('Cores:', cores)\n",
    "\n",
    "# g. Acrescenta no indíce 2 a cor 'roxo'\n",
    "cores.insert(2, 'roxo')\n",
    "\n",
    "# h. Faz o print de toda a lista\n",
    "print('Cores:', cores)\n",
    "\n",
    "# i. Apaga o último elemento da lista\n",
    "cores.pop()\n",
    "\n",
    "# j. Faz o print de toda a lista\n",
    "print('Cores:', cores)\n",
    "\n",
    "# k. Faz o print do tamanho da lista (len)\n",
    "print('Tamanho da lista:', len(cores))"
   ]
  },
  {
   "cell_type": "markdown",
   "metadata": {},
   "source": [
    "## Exercício 2 - listas"
   ]
  },
  {
   "cell_type": "markdown",
   "metadata": {},
   "source": [
    "Considera a lista: notas = [11.2, 15, 8.7, 17.2, 7.9 ]\n",
    "\n",
    "Cria um programa, em python, que:\n",
    "\n",
    "a. Acrescenta o valor 10.9 no final da lista e faz o print de toda a lista\n",
    "\n",
    "b. Faz o print do tamanho da lista\n",
    "\n",
    "c. Faz o print do valor mínimo da lista\n",
    "\n",
    "d. Faz a média dos valores da lista"
   ]
  },
  {
   "cell_type": "code",
   "execution_count": null,
   "metadata": {},
   "outputs": [],
   "source": [
    "notas = [11.2, 15, 8.7, 17.2, 7.9]\n",
    "\n",
    "# a. Acrescenta o valor 10.9 no final da lista e faz o print de toda a lista\n",
    "notas.append(10.9)\n",
    "print(notas)\n",
    "\n",
    "# b. Faz o print do tamanho da lista\n",
    "print('Tamanho da lista', len(notas))\n",
    "\n",
    "# c. Faz o print do valor mínimo da lista\n",
    "print('Valor mínimo na lista', min(notas))\n",
    "\n",
    "# d. Faz a média dos valores da lista\n",
    "media = sum(notas) / len(notas)\n",
    "print(f'Média dos valores da lista {media:0.2f}')\n",
    "\n",
    "\n",
    "# Versão 2\n",
    "from statistics import mean\n",
    "from numpy import average\n",
    "\n",
    "notas = [11.2, 15, 8.7, 17.2, 7.9]\n",
    "print(f'A lista inclui os seguintes elementos {notas}')\n",
    "print(f'O número de elementos na lista é {len(notas)}')\n",
    "print(f'A nota mínima é {min(notas)}')\n",
    "print(f'A média das notas é {mean(notas)}')\n",
    "print(f'A média das notas é {average(notas)}')"
   ]
  },
  {
   "cell_type": "markdown",
   "metadata": {},
   "source": [
    "***"
   ]
  },
  {
   "cell_type": "markdown",
   "metadata": {},
   "source": [
    "# UFCD10793_FT07"
   ]
  },
  {
   "cell_type": "markdown",
   "metadata": {},
   "source": [
    "## Exercício 1 - Tuplas"
   ]
  },
  {
   "cell_type": "markdown",
   "metadata": {},
   "source": [
    "Criação e Manipulação de Tuplas\n",
    "\n",
    "Reproduz os seguintes exemplos. O objetivo é instanciar tuplas e aplicar as operações específicas deste tipo de dados\n",
    "\n",
    "Criar e imprimir tuplas. Para criarmos tuplas podemos usar () ou o construtor tuple(). Uma tupla pode ter diferentes tipos de dados."
   ]
  },
  {
   "cell_type": "code",
   "execution_count": null,
   "metadata": {},
   "outputs": [],
   "source": [
    "# create a tuple using ()\n",
    "# number tuple\n",
    "number_tuple = (10, 20, 25.75)\n",
    "print(number_tuple)\n",
    "# Output (10, 20, 25.75)\n",
    "\n",
    "# string tuple\n",
    "string_tuple = ('Jessa', 'Emma' , 'Kelly' )\n",
    "print(string_tuple)\n",
    "# Output ('Jessa', 'Emma' , 'Kelly' )\n",
    "\n",
    "# mixed type tuple\n",
    "sample_tuple = ('Jessa', 30, 45.75, [25, 78])\n",
    "print(sample_tuple)\n",
    "# Output ('Jessa', 30, 45.75, [25, 78])\n",
    "\n",
    "# create a tuple using tuple() constructor\n",
    "sample_tuple2 = tuple(('Jessa', 30, 45.75, [23, 78]))\n",
    "print(sample_tuple2)\n",
    "# Output ('Jessa', 30, 45.75, [23, 78])"
   ]
  },
  {
   "cell_type": "markdown",
   "metadata": {},
   "source": [
    "## Exercício 2 - Tuplas\n",
    "Criar uma tupla com um único item."
   ]
  },
  {
   "cell_type": "code",
   "execution_count": null,
   "metadata": {},
   "outputs": [],
   "source": [
    "# without comma\n",
    "single_tuple = ('Hello' )\n",
    "print(type(single_tuple))\n",
    "# Output class 'str'\n",
    "print(single_tuple)\n",
    "# Output Hello\n",
    "\n",
    "# with comma\n",
    "single_tuple1 = ('Hello' ,)\n",
    "# output class 'tuple'\n",
    "print(type(single_tuple1))\n",
    "# Output ('Hello' ,)\n",
    "print(single_tuple1)"
   ]
  },
  {
   "cell_type": "markdown",
   "metadata": {},
   "source": [
    "## Exercício 3 - Embalar e desembalar dados\n",
    "Em Python, podemos criar uma tupla empacotando um grupo de variáveis. O empacotamento pode ser usado quando queremos agrupar vários valores num única variável. Geralmente, essa operação é chamada de empacotamento de tuplas. Da mesma forma, podemos descompactar os itens apenas atribuindo os itens da tupla ao mesmo número de variáveis. Esse processo é chamado de “Descompactação”"
   ]
  },
  {
   "cell_type": "code",
   "execution_count": null,
   "metadata": {},
   "outputs": [],
   "source": [
    "# packing variables into tuple\n",
    "tuple1 = 1, 2, \"Hello\"\n",
    "# display tuple\n",
    "print(tuple1)\n",
    "# Output (1, 2, 'Hello')\n",
    "\n",
    "print(type(tuple1))\n",
    "\n",
    "# Output class 'tuple\n",
    "\n",
    "# unpacking tuple into variable\n",
    "i, j, k = tuple1\n",
    "# printing the variables\n",
    "print(i, j, k)\n",
    "# Output 1 2 Hello"
   ]
  },
  {
   "cell_type": "markdown",
   "metadata": {},
   "source": [
    "## Exercício 4 - Tamanho de uma tupla"
   ]
  },
  {
   "cell_type": "code",
   "execution_count": null,
   "metadata": {},
   "outputs": [],
   "source": [
    "tuple1 = ('P', 'Y', 'T' , 'H' , 'O', 'N')\n",
    "# length of a tuple\n",
    "print(len(tuple1))\n",
    "# Output 6"
   ]
  },
  {
   "cell_type": "markdown",
   "metadata": {},
   "source": [
    "## Exercício 5 - Iterando uma tupla"
   ]
  },
  {
   "cell_type": "code",
   "execution_count": null,
   "metadata": {},
   "outputs": [],
   "source": [
    "# create a tuple\n",
    "sample_tuple = tuple((1, 2,3,\"Hello\", [4,8,16]))\n",
    "# iterate a tuple\n",
    "for item in sample_tuple:\n",
    "    print(item)"
   ]
  },
  {
   "cell_type": "markdown",
   "metadata": {},
   "source": [
    "## Exercício 6 - Aceder aos itens de uma tupla\n",
    "* Indexação: primeiro elemento tem índice 0\n",
    "* Se indicarmos o valor do índice maior que o comprimento de uma tupla, dará erro. O mesmo quando indicamos um valor não inteiro para o índice.\n",
    "* Admite indexação negativa.\n",
    "* Podemos ainda aceder a diversos elementos indicando um intervalo de índices (slicing) – similar às listas.\n",
    "* também podemos fatiar a tupla usando indexação negativa"
   ]
  },
  {
   "cell_type": "code",
   "execution_count": null,
   "metadata": {},
   "outputs": [],
   "source": [
    "tuple1 = ('P', 'Y', 'T' , 'H', 'O', 'N')\n",
    "for i in range(4):\n",
    "    print(tuple1[i])\n",
    "\n",
    "\n",
    "tuple1 = ('P', 'Y' , 'T' , 'H' , 'O', 'N')\n",
    "\n",
    "# IndexError: tuple index out of range\n",
    "try:\n",
    "    print(tuple1[7])\n",
    "except IndexError as e:\n",
    "    print(e)\n",
    "\n",
    "\n",
    "# IndexError: tuple index out of range\n",
    "# MESMO O ÍNDICE 6 não existe\n",
    "try:\n",
    "    print(tuple1[6])\n",
    "except IndexError as e:\n",
    "    print(e)\n",
    "\n",
    "\n",
    "# TypeError: tuple indices must be integers or slices, not float\n",
    "try:\n",
    "    print(tuple1[2.0])\n",
    "except TypeError as e:\n",
    "    print(e)\n",
    "\n",
    "\n",
    "tuple1 = ('P', 'Y', 'T', 'H', 'O', 'N')\n",
    "# Negative indexing\n",
    "# print last item of a tuple\n",
    "print(tuple1[-1]) # N\n",
    "# print second last\n",
    "print(tuple1[-2]) # 0\n",
    "\n",
    "# iterate a tuple using negative indexing\n",
    "for i in range(-6, 0):\n",
    "    print(tuple1[i], end=\", \")\n",
    "# Output P, Y, T, H, O, N,\n",
    "\n",
    "\n",
    "tuple1 = (0, 1, 2, 3, 4, 5, 6, 7, 8, 9, 10)\n",
    "\n",
    "# slice a tuple with start and end index number\n",
    "print(tuple1[1:5])\n",
    "# Output (1, 2, 3, 4)\n",
    "\n",
    "\n",
    "tuple1 = (0, 1, 2, 3, 4, 5, 6, 7, 8, 9, 10)\n",
    "\n",
    "# slice a tuple without start index\n",
    "print(tuple1[:5])\n",
    "# Output (0, 1, 2, 3, 4)\n",
    "\n",
    "# slice a tuple without end index\n",
    "print(tuple1[6:])\n",
    "# Output (6, 7, 8, 9, 10)\n",
    "\n",
    "tuple1 = (0, 1, 2, 3, 4, 5, 6, 7, 8, 9, 10)\n",
    "\n",
    "# slice a tuple using negative indexing\n",
    "print(tuple1[-5 :- 1])\n",
    "# Output (6, 7, 8, 9)"
   ]
  },
  {
   "cell_type": "markdown",
   "metadata": {},
   "source": [
    "## Exercício 7 - Encontrar items método index\n",
    "Podemos procurar um determinado item na tupla usando o método index(). O mesmo retornará a posição desse item.\n",
    "\n",
    "O método index() aceita três argumentos:\n",
    "* item – O item que precisa ser pesquisado\n",
    "* start – (Opcional) - O valor inicial do índice a partir do qual a pesquisa será iniciada\n",
    "* end – (Opcional) - O valor final do indíce da pesquisa"
   ]
  },
  {
   "cell_type": "code",
   "execution_count": null,
   "metadata": {},
   "outputs": [],
   "source": [
    "tuple1 = (10, 20, 30, 40, 50)\n",
    "\n",
    "# get index of item 30\n",
    "position = tuple1.index(30)\n",
    "print(position)\n",
    "# Output 2\n",
    "\n",
    "\n",
    "tuple1 = (10, 20, 30, 40, 50, 60, 70, 80)\n",
    "# Limit the search locations using start and end\n",
    "# search only from location 4 to 6\n",
    "# start = 4 and end = 6\n",
    "# get index of item 60\n",
    "position = tuple1.index(60, 4, 6)\n",
    "print(position)\n",
    "# Output 5\n",
    "\n",
    "tuple1 = (10, 20, 30, 40, 50, 60, 70, 80)\n",
    "#index out of range\n",
    "position = tuple1.index(10)\n",
    "print(position)\n",
    "\n",
    "# position = tuple1.index(10, 1)\n",
    "# Output ValueError: tuple.index(x): x not in tuple"
   ]
  },
  {
   "cell_type": "markdown",
   "metadata": {},
   "source": [
    "## Exercício 8 - Verificar se um item existe"
   ]
  },
  {
   "cell_type": "code",
   "execution_count": null,
   "metadata": {},
   "outputs": [],
   "source": [
    "tuple1 = (10, 20, 30, 40, 50, 60, 70, 80)\n",
    "# checking whether item 50 exists in tuple\n",
    "print(50 in tuple1)\n",
    "# Output True\n",
    "print(500 in tuple1)\n",
    "# Output False"
   ]
  },
  {
   "cell_type": "markdown",
   "metadata": {},
   "source": [
    "## Exercício 9 - Adicionar e alterar itens numa tupla\n",
    "Uma lista é um tipo mutável, o que significa que podemos adicionar ou modificar valores, mas as tuplas são imutáveis, portanto, não podem ser alteradas. Além disso,\n",
    "como uma tupla é imutável, não há métodos internos para adicionar itens à tupla. Se tentarmos modificar algum valor obteremos um erro"
   ]
  },
  {
   "cell_type": "code",
   "execution_count": null,
   "metadata": {},
   "outputs": [],
   "source": [
    "tuple1 = (0, 1, 2, 3, 4, 5)\n",
    "try:\n",
    "    tuple1[1] = 10\n",
    "except TypeError as e:\n",
    "    print(e)\n",
    "    # Output TypeError: 'tuple' object does not support item assignment\n",
    "\n",
    "'''\n",
    "Como solução alternativa, podemos converter a tupla numa lista, adicionar itens e\n",
    "convertê-la novamente como tupla. \n",
    "'''\n",
    "tuple1 = (0, 1, 2, 3, 4, 5)\n",
    "\n",
    "# converting tuple into a list\n",
    "sample_list = list(tuple1)\n",
    "# add item to list\n",
    "sample_list.append(6)\n",
    "\n",
    "# converting list back into a tuple\n",
    "tuple1 = tuple(sample_list)\n",
    "print(tuple1)\n",
    "# Output (0, 1, 2, 3, 4, 5, 6)"
   ]
  },
  {
   "cell_type": "markdown",
   "metadata": {},
   "source": [
    "## Exercício 10 - Removendo itens\n",
    "Como as tuplas são imutáveis não existem os métodos pop() nem remove(). A única forma de removermos um elemento é usarmos a técnica de conversão em lista.\n",
    "O método del() apaga toda a tupla."
   ]
  },
  {
   "cell_type": "code",
   "execution_count": null,
   "metadata": {},
   "outputs": [],
   "source": [
    "sampletup1 = (0,1,2,3,4,5,6,7,8,9,10)\n",
    "del sampletup1\n",
    "\n",
    "try:\n",
    "    print(sampletup1)\n",
    "except NameError as e:\n",
    "    print(e)\n",
    "    # Output name 'sampletup1' is not defined"
   ]
  },
  {
   "cell_type": "markdown",
   "metadata": {},
   "source": [
    "## Exercício 11 - Contar as ocorrências de um item."
   ]
  },
  {
   "cell_type": "code",
   "execution_count": null,
   "metadata": {},
   "outputs": [],
   "source": [
    "tuple1 = (10, 20, 60, 30, 60, 40, 60)\n",
    "# Count all occurrences of item 60\n",
    "count = tuple1.count(60)\n",
    "print(count)\n",
    "# Output 3\n",
    "\n",
    "count = tuple1.count(600)\n",
    "print(count)\n",
    "# Output 0"
   ]
  },
  {
   "cell_type": "markdown",
   "metadata": {},
   "source": [
    "## Exercício 12 - Cópia de uma tupla"
   ]
  },
  {
   "cell_type": "code",
   "execution_count": null,
   "metadata": {},
   "outputs": [],
   "source": [
    "tuple1 = (0, 1, 2, 3, 4, 5)\n",
    "\n",
    "# copy tuple\n",
    "tuple2 = tuple1\n",
    "print(tuple2)\n",
    "# Output (0, 1, 2, 3, 4, 5)\n",
    "\n",
    "# changing tuple2\n",
    "# converting it into a list\n",
    "sample_list = list(tuple2)\n",
    "sample_list.append(6)\n",
    "\n",
    "# converting list back into a tuple2\n",
    "tuple2 = tuple(sample_list)\n",
    "\n",
    "# printing the two tuples\n",
    "print(tuple1)\n",
    "# Output (0, 1, 2, 3, 4, 5)\n",
    "print(tuple2)\n",
    "# Output (0, 1, 2, 3, 4, 5, 6)"
   ]
  },
  {
   "cell_type": "markdown",
   "metadata": {},
   "source": [
    "## Exercício 13 - Concatenar(juntar) duas tuplas – usar o operador +"
   ]
  },
  {
   "cell_type": "code",
   "execution_count": null,
   "metadata": {},
   "outputs": [],
   "source": [
    "tuple1 = (1, 2, 3, 4, 5)\n",
    "tuple2 = (3, 4, 5, 6, 7)\n",
    "\n",
    "# concatenate tuples using + operator\n",
    "tuple3 = tuple1 + tuple2\n",
    "print(tuple3)\n",
    "# Output (1, 2, 3, 4, 5, 3, 4, 5, 6, 7)"
   ]
  },
  {
   "cell_type": "markdown",
   "metadata": {},
   "source": [
    "## Exercício 14 - Concatenar(juntar) duas tuplas – usar a função soma"
   ]
  },
  {
   "cell_type": "code",
   "execution_count": null,
   "metadata": {},
   "outputs": [],
   "source": [
    "tuple1 = (1, 2, 3, 4, 5)\n",
    "tuple2 = (3, 4, 5, 6, 7)\n",
    "\n",
    "# using sum function\n",
    "tuple3 = sum((tuple1, tuple2),())\n",
    "print(tuple3)\n",
    "# Output (1, 2, 3, 4, 5, 3, 4, 5, 6, 7)"
   ]
  },
  {
   "cell_type": "markdown",
   "metadata": {},
   "source": [
    "## Exercício 15 - Tuplas aninhadas:"
   ]
  },
  {
   "cell_type": "code",
   "execution_count": null,
   "metadata": {},
   "outputs": [],
   "source": [
    "nested_tuple = ((20, 40, 60), (10, 30,50),\"Python\")\n",
    "\n",
    "# access the first item of the third tuple\n",
    "print(nested_tuple[2][0]) # P\n",
    "\n",
    "# iterate a nested tuple\n",
    "for i in nested_tuple:\n",
    "    print(\"tuple\", i, \"elements\")\n",
    "    for j in i:\n",
    "        print(j, end=\", \")\n",
    "    print(\"\\n\")"
   ]
  },
  {
   "cell_type": "markdown",
   "metadata": {},
   "source": [
    "## Exercício 16 - funções internas max e min\n",
    "Funções internas: max(), min(). Estas funções não podem ser aplicadas em tuplas com tipos de dados heterógeneos\n"
   ]
  },
  {
   "cell_type": "code",
   "execution_count": null,
   "metadata": {},
   "outputs": [],
   "source": [
    "tuple1 = ('xyz', 'zara', 'abc')\n",
    "# The Maximum value in a string tuple\n",
    "print(max(tuple1))\n",
    "# Output zara\n",
    "\n",
    "# The minimum value in a string tuple\n",
    "print(min(tuple1))\n",
    "# Output abc\n",
    "\n",
    "tuple2 = (11, 22, 10, 4)\n",
    "# The Maximum value in a integer tuple\n",
    "print(max(tuple2))\n",
    "# Output 22\n",
    "# The minimum value in a integer tuple\n",
    "print(min(tuple2))\n",
    "# Output 4\n",
    "\n",
    "tuple3 = ('a', 'e', 11, 22, 15)\n",
    "# max item\n",
    "print(max(tuple3))"
   ]
  },
  {
   "cell_type": "markdown",
   "metadata": {},
   "source": [
    "## Exercício 17 - função interna: all\n",
    "Função all() – verdadeiro se todos os valores verdadeiros e no caso de tupla vazia.\n",
    "Falso nos restantes casos"
   ]
  },
  {
   "cell_type": "code",
   "execution_count": null,
   "metadata": {},
   "outputs": [],
   "source": [
    "# all() with All True values\n",
    "tuple1 = (1, 1, True)\n",
    "print(all(tuple1)) # True\n",
    "\n",
    "# all() All True values\n",
    "tuple1 = (1, 1, True)\n",
    "print(all(tuple1)) # True\n",
    "\n",
    "# all() with One false value\n",
    "tuple2 = (0, 1, True, 1)\n",
    "print(all(tuple2)) # False\n",
    "\n",
    "# all() with all false values\n",
    "tuple3 = (0, 0, False)\n",
    "print(all(tuple3)) # False\n",
    "\n",
    "# all() Empty tuple\n",
    "tuple4 = ()\n",
    "print(all(tuple4)) # True"
   ]
  },
  {
   "cell_type": "markdown",
   "metadata": {},
   "source": [
    "## Exercício 18 - função interna: any\n",
    "Pelo menos um valor verdadeiro. Retorna falso quando todos os valores são falso e a tupla está vazia."
   ]
  },
  {
   "cell_type": "code",
   "execution_count": null,
   "metadata": {},
   "outputs": [],
   "source": [
    "# any() with All True values\n",
    "tuple1 = (1, 1, True)\n",
    "print(any(tuple1)) # True\n",
    "\n",
    "# any() with One false value\n",
    "tuple2 = (0, 1, True, 1)\n",
    "print(any(tuple2)) # True\n",
    "\n",
    "# any() with all false values\n",
    "tuple3 = (0, 0, False)\n",
    "print(any(tuple3)) # False\n",
    "\n",
    "# any() with Empty tuple\n",
    "tuple4 = ()\n",
    "print(any(tuple4)) # False"
   ]
  },
  {
   "cell_type": "markdown",
   "metadata": {},
   "source": [
    "# UFCD10793_FT08"
   ]
  },
  {
   "cell_type": "markdown",
   "metadata": {},
   "source": [
    "## Exercício Exemplo 1 - Criação e Manipulação de Conjuntos\n",
    "\n",
    "Operações de conjuntos em Python. Conjuntos são coleções não ordenadas de elementos únicos. Podemos criar conjuntos usando {} ou o construtor set(). \n",
    "Conjuntos não suportam indexação, slicing ou qualquer operação que dependa da ordem dos elementos. Conjuntos são úteis para remover duplicatas de uma lista e realizar \n",
    "operações matemáticas como união, interseção, diferença e diferença simétrica.\n",
    "\n",
    "* Subtração: a - b\n",
    "* União: a | b\n",
    "* Interseção: a & b\n",
    "* Diferença simétrica: a ^ b"
   ]
  },
  {
   "cell_type": "code",
   "execution_count": null,
   "metadata": {},
   "outputs": [],
   "source": [
    "xs = {1, 2, 3}\n",
    "aux = 1 in xs # True, implementação mais eficiente\n",
    "print(aux)\n",
    "\n",
    "a = set('abracadabra') # a = {'a', 'r', 'b', 'c', 'd'}\n",
    "print(a) \n",
    "\n",
    "b = set('alacazam') # b = {'a', 'l', 'm', 'c', 'z'}\n",
    "print(b)\n",
    "\n",
    "# SUBTRACTION\n",
    "c = a - b # c = {'r', 'd', 'b'}, letras em a mas não em b\n",
    "print(c)\n",
    "\n",
    "# OR\n",
    "c = a | b # c = {'a', 'r', 'b', 'c', 'd', 'l', 'm', 'z'}, letras em a ou em b, ou seja, em ambos\n",
    "print(c)\n",
    "\n",
    "# AND\n",
    "c = a & b # c = {'a', 'c'}, letras tanto em a quanto em b\n",
    "print(c)\n",
    "\n",
    "# XOR\n",
    "c = a ^ b # c = {'r', 'd', 'b', 'l', 'm', 'z'}, letras em a ou em b, mas não em ambos\n",
    "print(c)"
   ]
  },
  {
   "cell_type": "markdown",
   "metadata": {},
   "source": [
    "## Exercício Exemplo 2 - Criação e operações com Conjuntos"
   ]
  },
  {
   "cell_type": "code",
   "execution_count": null,
   "metadata": {},
   "outputs": [],
   "source": [
    "# Criar um conjunto (set)\n",
    "this_set = {\"apple\", \"banana\", \"cherry\"}\n",
    "print('this_set=', this_set)\n",
    "\n",
    "\n",
    "# itens duplicados não são permitidos\n",
    "this_set = {\"apple\", \"banana\", \"cherry\", \"apple\"}\n",
    "print('this_set=', this_set)\n",
    "\n",
    "# True e 1 é considerado o mesmo valor\n",
    "this_set = {\"apple\", \"banana\", \"cherry\", True, 1, 2}\n",
    "print('this_set=', this_set)\n",
    "\n",
    "# 1 e True é considerado o mesmo valor e é mantido o último\n",
    "this_set = {\"apple\", \"banana\", \"cherry\", 1, True, 2}\n",
    "print('this_set=', this_set)\n",
    "\n",
    "# obter o comprimento de um conjunto\n",
    "this_set = {\"apple\", \"banana\", \"cherry\"}\n",
    "print('len(this_set)=', len(this_set))\n",
    "\n",
    "# Definir itens - Tipos de dados\n",
    "# Tipos de dados string, int e booleanos:\n",
    "set1 = {\"apple\", \"banana\", \"cherry\"}\n",
    "set2 = {1, 5, 7, 9, 3}\n",
    "set3 = {True, False, False}\n",
    "\n",
    "# Um conjunto com strings, iteiros e valores booleanos:\n",
    "set1 = {\"abc\", 34, True, 40, \"male\"}\n",
    "\n",
    "# type() - Retorna o tipo de dados de um objeto\n",
    "myset = {\"apple\", \"banana\", \"cherry\"}\n",
    "print('type(myset)=', type(myset))"
   ]
  },
  {
   "cell_type": "markdown",
   "metadata": {},
   "source": [
    "## Exercício Exemplo 3 - Construtor set\n",
    "Usando o construtor set() para criar um conjunto:"
   ]
  },
  {
   "cell_type": "code",
   "execution_count": null,
   "metadata": {},
   "outputs": [],
   "source": [
    "this_set = set((\"apple\", \"banana\", \"cherry\")) # note the double round-brackets\n",
    "print(this_set)\n",
    "\n",
    "# métodos e operações com conjuntos\n",
    "\n",
    "# create a set of integer type\n",
    "student_id = {112, 114, 116, 118, 115}\n",
    "print('Student ID:', student_id)\n",
    "\n",
    "# create a set of string type\n",
    "vowel_letters = {'a', 'e', 'i', 'o', 'u'}\n",
    "print('Vowel Letters:', vowel_letters)\n",
    "\n",
    "# create a set of mixed data types\n",
    "mixed_set = {'Hello', 101, -2, 'Bye'}\n",
    "print('Set of mixed data types:', mixed_set)\n",
    "\n",
    "# create an empty set\n",
    "empty_set = set()\n",
    "\n",
    "# create an empty dictionary\n",
    "empty_dictionary = { }\n",
    "\n",
    "# check data type of empty_set\n",
    "print('Data type of empty_set:', type(empty_set))\n",
    "\n",
    "#itens duplicados são removidos\n",
    "numbers = {2, 4, 6, 6, 2, 8}\n",
    "print(numbers) # {8, 2, 4, 6}"
   ]
  },
  {
   "cell_type": "markdown",
   "metadata": {},
   "source": [
    "## Exercício Exemplo 4 - adicionar e atualizar elementos"
   ]
  },
  {
   "cell_type": "code",
   "execution_count": null,
   "metadata": {},
   "outputs": [],
   "source": [
    "numbers = {21, 34, 54, 12}\n",
    "\n",
    "print('Initial Set:',numbers)\n",
    "\n",
    "# using add() method\n",
    "#Conjuntos são mutáveis. No entanto, como não estão ordenados, a indexação não tem significado.\n",
    "#Não podemos aceder ou alterar um elemento de um conjunto usando indexação ou divisão. o tipo de dados definido não é compatível.\n",
    "\n",
    "numbers.add(32)\n",
    "\n",
    "print('Updated Set:', numbers)"
   ]
  },
  {
   "cell_type": "markdown",
   "metadata": {},
   "source": [
    "## Exercício Exemplo 5 - método update()"
   ]
  },
  {
   "cell_type": "code",
   "execution_count": null,
   "metadata": {},
   "outputs": [],
   "source": [
    "#método update()\n",
    "companies = {'Lacoste', 'Ralph Lauren'}\n",
    "tech_companies = ['apple', 'google', 'apple']\n",
    "\n",
    "companies.update(tech_companies)\n",
    "\n",
    "print(companies)\n",
    "\n",
    "# Output: {'google', 'apple', 'Lacoste', 'Ralph Lauren'}\n",
    "\n",
    "#Remover um elemento de um conjunto\n",
    "#Usamos o discard()método para remover o elemento especificado de um conjunto. Por exemplo,\n",
    "\n",
    "languages = {'Swift', 'Java', 'Python'}\n",
    "\n",
    "print('Initial Set:',languages)\n",
    "\n",
    "# remove 'Java' from a set\n",
    "removedValue = languages.discard('Java')\n",
    "\n",
    "print('Set after remove():', languages)\n",
    "\n",
    "#Iterar sobre um conjunto em Python\n",
    "fruits = {\"Apple\", \"Peach\", \"Mango\"}\n",
    "\n",
    "# for loop to access each fruits\n",
    "for fruit in fruits:\n",
    "    print(fruit)\n",
    "\n",
    "#Número de elementos de um conjunto\n",
    "even_numbers = {2,4,6,8}\n",
    "print('Set:',even_numbers)\n",
    "\n",
    "# find number of elements\n",
    "print('Total Elements:', len(even_numbers))\n",
    "\n",
    "#uniao de conjuntos\n",
    "\n",
    "# first set\n",
    "A = {1, 3, 5}\n",
    "\n",
    "# second set\n",
    "B = {0, 2, 4}\n",
    "\n",
    "# perform union operation using |\n",
    "print('Union using |:', A | B)\n",
    "\n",
    "# perform union operation using union()\n",
    "print('Union using union():', A.union(B))"
   ]
  },
  {
   "cell_type": "markdown",
   "metadata": {},
   "source": [
    "## Exercício Exemplo 6 - interseção de conjuntos"
   ]
  },
  {
   "cell_type": "code",
   "execution_count": null,
   "metadata": {},
   "outputs": [],
   "source": [
    "# first set\n",
    "A = {1, 3, 5}\n",
    "\n",
    "# second set\n",
    "B = {1, 2, 3}\n",
    "\n",
    "# perform intersection operation using &\n",
    "print('Intersection using &:', A & B)\n",
    "\n",
    "# perform intersection operation using intersection()\n",
    "print('Intersection using intersection():', A.intersection(B))\n",
    "\n",
    "#diferença de dois conjuntos - A sem B\n",
    "\n",
    "# first set\n",
    "A = {2, 3, 5}\n",
    "\n",
    "# second set\n",
    "B = {1, 2, 6}\n",
    "\n",
    "# perform difference operation using &\n",
    "print('Difference using &:', A - B)\n",
    "\n",
    "# perform difference operation using difference()\n",
    "print('Difference using difference():', A.difference(B))"
   ]
  },
  {
   "cell_type": "markdown",
   "metadata": {},
   "source": [
    "## Exercício Exemplo 7 - diferença simétrica de dois conjuntos"
   ]
  },
  {
   "cell_type": "code",
   "execution_count": null,
   "metadata": {},
   "outputs": [],
   "source": [
    "#Diferença simétrica de dois conjuntos - A sem os elementos comuns a B\n",
    "# first set\n",
    "A = {2, 3, 5}\n",
    "\n",
    "# second set\n",
    "B = {1, 2, 6}\n",
    "\n",
    "# perform difference operation using &\n",
    "print('using ^:', A ^ B)\n",
    "\n",
    "# using symmetric_difference()\n",
    "print('using symmetric_difference():', A.symmetric_difference(B))\n",
    "\n",
    "#verificar se dois conjuntos são iguais\n",
    "\n",
    "# first set\n",
    "A = {1, 3, 5}\n",
    "\n",
    "# second set\n",
    "B = {3, 5, 1}\n",
    "\n",
    "# perform difference operation using &\n",
    "if A == B:\n",
    "    print('Set A and Set B are equal')\n",
    "else:\n",
    "    print('Set A and Set B are not equal')"
   ]
  },
  {
   "cell_type": "markdown",
   "metadata": {},
   "source": [
    "# UFCD10793_FT09"
   ]
  },
  {
   "cell_type": "markdown",
   "metadata": {},
   "source": [
    "## Exercício 1 - dicionários"
   ]
  },
  {
   "cell_type": "markdown",
   "metadata": {},
   "source": [
    "Considere o seguinte dicionário, a que cada prato é associado o respectivo valor em euros:\n",
    "\n",
    "```python\n",
    "menu = {\n",
    "    \"entremeada\": 7,\n",
    "    \"Sardinhas\": 6,\n",
    "    \"Filetes\": 5.5,\n",
    "    \"Prego\": 7,\n",
    "    \"Hamburger\": 5.5 \n",
    "}\n",
    "```\n",
    "Efetua um programa em python que, após instalar a variável:\n",
    "\n",
    "a. Devolva o preço do \"prego\".\n",
    "\n",
    "b. Faça o print de todas as chaves do dicionário\n",
    "\n",
    "c. Acrescente na lista “omolete” com o preço de 5\n",
    "\n",
    "d. Faça o print de todo o dicionário, para visualizar as alterações.\n"
   ]
  },
  {
   "cell_type": "code",
   "execution_count": 3,
   "metadata": {},
   "outputs": [
    {
     "name": "stdout",
     "output_type": "stream",
     "text": [
      "Valor do prego é 7\n",
      "Chaves do dicionário: entremeada, Sardinhas, Filetes, Prego, Hamburger\n",
      "Chaves e Valores do dicionário:\n",
      " * entremeada - 7.00€\n",
      " * Sardinhas - 6.00€\n",
      " * Filetes - 5.50€\n",
      " * Prego - 7.00€\n",
      " * Hamburger - 5.50€\n",
      " * omolete - 5.00€\n",
      "\n"
     ]
    }
   ],
   "source": [
    "menu = {\n",
    "    \"entremeada\": 7,\n",
    "    \"Sardinhas\": 6,\n",
    "    \"Filetes\": 5.5,\n",
    "    \"Prego\": 7,\n",
    "    \"Hamburger\": 5.5 \n",
    "}\n",
    "\n",
    "# a. Devolva o preço do \"prego\".\n",
    "print('Valor do prego é', menu[\"Prego\"])\n",
    "\n",
    "# b. Faça o print de todas as chaves do dicionário\n",
    "print('Chaves do dicionário:', \", \".join(menu.keys()))\n",
    "\n",
    "\n",
    "# c. Acrescente na lista “omolete” com o preço de 5\n",
    "menu[\"omolete\"] = 5\n",
    "\n",
    "# d. Faça o print de todo o dicionário, para visualizar as alterações.\n",
    "print('Chaves e Valores do dicionário:')\n",
    "for chave, valor in menu.items():\n",
    "    print(f' * {chave} - {valor:.2f}€')\n",
    "print()"
   ]
  },
  {
   "cell_type": "markdown",
   "metadata": {},
   "source": [
    "## Exercício 2 - Manipulação de dicionários"
   ]
  },
  {
   "cell_type": "markdown",
   "metadata": {},
   "source": [
    "Efetua um programa em python onde:\n",
    "\n",
    "a. Cries um dicionário e efetues o respetivo print.\n",
    "\n",
    "b. Acrescentes dois novos elementos ao dicionário.\n",
    "\n",
    "c. Removes um dos elementos da lista;\n",
    "\n",
    "d. Efetues uma operação, à escolha, sobre os dados no dicionário"
   ]
  },
  {
   "cell_type": "code",
   "execution_count": null,
   "metadata": {},
   "outputs": [],
   "source": [
    "'''\n",
    "Exercício 2 - Manipulação de dicionários\n",
    "\n",
    "Efetua um programa em python onde:\n",
    "a. Cries um dicionário e efetues o respetivo print.\n",
    "b. Acrescentes dois novos elementos ao dicionário.\n",
    "c. Removes um dos elementos da lista;\n",
    "d. Efetues uma operação, à escolha, sobre os dados no dicionário\n",
    "'''\n",
    "\n",
    "# a. Cries um dicionário e efetues o respetivo print.\n",
    "dicionario = {\n",
    "    \"nome\": \"João\",\n",
    "    \"idade\": 25,\n",
    "    \"curso\": \"Informática\"\n",
    "}\n",
    "\n",
    "print('Dicionário:', dicionario)\n",
    "\n",
    "# b. Acrescentes dois novos elementos ao dicionário.\n",
    "dicionario[\"morada\"] = \"     Rua das Flores      \"\n",
    "dicionario[\"telefone\"] = 912345678\n",
    "\n",
    "# c. Removes um dos elementos da lista;\n",
    "dicionario.pop(\"idade\")\n",
    "\n",
    "# d. Efetues uma operação, à escolha, sobre os dados no dicionário\n",
    "# manipulação em simultâneo das chaves e dos valores (mantem tudo o que não é string)\n",
    "\n",
    "\n",
    "dicionario = {}\n",
    "for chave, valor in dicionario.items():\n",
    "    if isinstance(valor, str):\n",
    "        dicionario[chave.upper()] = valor.strip()\n",
    "    else:\n",
    "        dicionario[chave.upper()] = valor\n",
    "\n",
    "\n",
    "# EQUIVALENTE USANDO COMPREHENSION\n",
    "dicionario = {chave.upper(): valor.strip() if isinstance(valor, str) else valor for chave, valor in dicionario.items()}\n",
    "\n",
    "# EXPLICAÇÃO:\n",
    "# Nível 1: loop for que percorre o dicionário\n",
    "#     for chave, valor in dicionario.items():\n",
    "#          ...\n",
    "#\n",
    "# Nível 2: bloco if que verifica se o valor é uma string\n",
    "#     if isinstance(valor, str)\n",
    "# \n",
    "# se true devolve a string limpa (sem espaços à esquerda e à direita)\n",
    "#\n",
    "# Nível 3: devolve chave : valor\n",
    "\n",
    "\n",
    "print('Dicionário:', dicionario)"
   ]
  },
  {
   "cell_type": "markdown",
   "metadata": {},
   "source": [
    "## Exercício 3 - dicionários"
   ]
  },
  {
   "cell_type": "markdown",
   "metadata": {},
   "source": [
    "Efetua um programa em python:\n",
    "\n",
    "a. Instancie o seguinte dicionário:\n",
    "```python\n",
    "computadores_1={\n",
    " \"Marca\":\"Asus\",\n",
    " \"Ecra\":\"14Pol\",\n",
    " \"RAM\": [4, 8, 12]\n",
    "}\n",
    "```\n",
    "\n",
    "b. Acrescente um novo elemento à lista com chave igual a “Disco” e valor [“128G”, “256G”]\n",
    "\n",
    "c. Permita ao utilizador introduzir um valor específico de RAM e verificar se esta está presente na lista.\n",
    "\n",
    "d. Acrecente 16 como novo valor de RAM.\n",
    "\n",
    "e. Copie o dicionário para um novo usando Deep Copy().\n",
    "\n",
    "f. Na lista nova modifique a marca para “Lenovo” e os valores da RAM para [4,8]. Imprima a nova lista\n",
    "\n",
    "g. Crie uma nova lista com deep copy e modifique a marca para “HP” e Disco para [“256G”]- Imprima a respetiva lista\n",
    "\n",
    "h. Cria uma lista cujos elementos são os três dicionários.\n",
    "\n",
    "i. Imprima as marcas com 128G de RAM\n",
    "\n",
    "j. Imprima as marcas com 8 e 12 de RAM"
   ]
  },
  {
   "cell_type": "code",
   "execution_count": null,
   "metadata": {},
   "outputs": [],
   "source": [
    "# a. Instanção do dicionário:\n",
    "computadores_1 = {\n",
    "    \"Marca\": \"Asus\",\n",
    "    \"Ecra\": \"14Pol\",\n",
    "    \"RAM\": [4, 8, 12]\n",
    "}\n",
    "\n",
    "# b. Acrescente um novo elemento à lista com chave igual a “Disco” e valor [“128G”, “256G”]\n",
    "computadores_1[\"Disco\"] = [\"128G\", \"256G\"]\n",
    "\n",
    "# c. Permita ao utilizador introduzir um valor específico de RAM e verificar se esta está presente na lista.\n",
    "ram = int(input('Introduza um valor de RAM: '))\n",
    "if ram in computadores_1.get(\"RAM\", []): # uso da função get() para evitar erro de chave inexistente\n",
    "    print('RAM presente na lista')\n",
    "else:\n",
    "    print('RAM não presente na lista')\n",
    "\n",
    "# d. Acrecente 16 como novo valor de RAM.\n",
    "if \"RAM\" not in computadores_1:\n",
    "    computadores_1[\"RAM\"] = []\n",
    "computadores_1[\"RAM\"].append(16)\n",
    "\n",
    "# e. Copie o dicionário para um novo usando Deep Copy().\n",
    "computadores_2 = computadores_1.copy()\n",
    "\n",
    "# f. Na lista nova modifique a marca para “Lenovo” e os valores da RAM para [4,8]. Imprima a nova lista\n",
    "computadores_2[\"Marca\"] = \"Lenovo\"\n",
    "computadores_2[\"RAM\"] = [4, 8]\n",
    "print('Computadores 2:', computadores_2)\n",
    "\n",
    "\n",
    "# g. Crie uma nova lista com deep copy e modifique a marca para “HP” e Disco para [“256G”]- Imprima a respetiva lista\n",
    "computadores_3 = computadores_1.copy()\n",
    "computadores_3[\"Marca\"] = \"HP\"\n",
    "computadores_3[\"Disco\"] = [\"256G\"]\n",
    "print('Computadores 3:', computadores_3)\n",
    "\n",
    "# h. Cria uma lista cujos elementos são os três dicionários.\n",
    "computadores = [computadores_1, computadores_2, computadores_3]\n",
    "\n",
    "# i. Imprima as marcas com 128G de RAM\n",
    "for computador in computadores:\n",
    "    if \"Disco\" in computador and \"128G\" in computador[\"Disco\"]:\n",
    "        print('Marca com 128G de RAM:', computador[\"Marca\"])\n",
    "\n",
    "\n",
    "# j. Imprima as marcas com 8 e 12 de RAM\n",
    "for computador in computadores:\n",
    "    if \"RAM\" in computador and 8 in computador[\"RAM\"] and 12 in computador[\"RAM\"]:\n",
    "        print('Marca com 8 e 12 de RAM:', computador[\"Marca\"])\n",
    "\n",
    "# k. Imprima todos dicionários que se chamem computadores\n",
    "for name, objeto in locals().copy().items():\n",
    "    if isinstance(objeto, dict) and name.startswith('computadores'):\n",
    "        print(name, objeto)"
   ]
  },
  {
   "cell_type": "markdown",
   "metadata": {},
   "source": [
    "# UFCD10793_FT10"
   ]
  },
  {
   "cell_type": "markdown",
   "metadata": {},
   "source": [
    "## Exercício 1 - Strings"
   ]
  },
  {
   "cell_type": "code",
   "execution_count": null,
   "metadata": {},
   "outputs": [],
   "source": [
    "txt =\" uFcd - proGRAMação eM pyTHON \"\n",
    "\n",
    "#Imprimir texto\n",
    "\n",
    "print(txt)\n",
    "\n",
    "#Imprimir Texto sem espaçamento inicial\n",
    "\n",
    "txt=txt.strip()\n",
    "print(txt)\n",
    "#Imprimir frase até à palavra na 13ª posição\n",
    "\n",
    "print(txt[:13])\n",
    "\n",
    "# Imprimir frase a partir da palavra na 13ª posição\n",
    "print(txt[-5:])\n",
    "\n",
    "# Imprimir frase em maiúsculas\n",
    "txt = txt.upper()\n",
    "print(txt)\n",
    "\n",
    "# Formatação de strings\n",
    "nome = \"Sandra Oliveira\"\n",
    "print(f\"O {nome} gosta muito da {txt}.\")"
   ]
  },
  {
   "cell_type": "markdown",
   "metadata": {},
   "source": [
    "## Exercício 2 - Strings"
   ]
  },
  {
   "cell_type": "code",
   "execution_count": null,
   "metadata": {},
   "outputs": [],
   "source": [
    "prov = '''o pior cego é aquela\n",
    "que não quer ver.'''\n",
    "\n",
    "# Primeira letra da frase em maiúsculas\n",
    "\n",
    "prov = prov.capitalize()\n",
    "print(prov)\n",
    "\n",
    "# Separar as palavras da frase onde ocorre espeço e transformar a frase numa lista\n",
    "palavras = prov.split(' ')\n",
    "print(palavras)\n",
    "\n",
    "# Contar a ocorrência duma palavra numa frase\n",
    "count = 0\n",
    "for x in palavras:\n",
    "    if 'que' in x:\n",
    "        count = count + 1\n",
    "\n",
    "print(count)\n",
    "\n",
    "# Substituir uma parte da frase por outra\n",
    "prov = prov.replace('quer ver', 'compra um cão')\n",
    "print(prov)"
   ]
  },
  {
   "cell_type": "markdown",
   "metadata": {},
   "source": [
    "## Exercício 3 - Strings, split e datetime"
   ]
  },
  {
   "cell_type": "markdown",
   "metadata": {},
   "source": [
    "Escreve um programa em Python que\n",
    "\n",
    "a. Armazene as diferentes datas numa string;\n",
    "\n",
    "b. Imprima as datas correspondentes ao ano de 2022;\n",
    "\n",
    "c. Crie uma nova lista (dias) e na mesma armazena o dia de cada uma das datas. Ordene a lista de forma crescente e imprima a mesma."
   ]
  },
  {
   "cell_type": "code",
   "execution_count": null,
   "metadata": {},
   "outputs": [],
   "source": [
    "datas = '12ago2021,02set2020,20jan2022,11out2019,09mar2020,10dez2022'\n",
    "\n",
    "# a. Armazene as diferentes datas numa string;\n",
    "datas_separadas = datas.split(',')\n",
    "print('a)', datas_separadas)\n",
    "\n",
    "# b. Imprima as datas correspondentes ao ano de 2022;\n",
    "datas_2022 = []\n",
    "for data in datas_separadas:\n",
    "    if data.endswith('2022'):\n",
    "        datas_2022.append(data)\n",
    "print('b)', datas_2022)\n",
    "\n",
    "# c. Crie uma nova lista (dias) e na mesma armazena o dia de cada uma das datas. Ordene a lista de forma crescente e imprima a mesma.\n",
    "dias = []\n",
    "for data in datas_separadas:\n",
    "    dia = data[:2]\n",
    "    dias.append(dia)\n",
    "dias.sort()\n",
    "print('c)', dias)\n",
    "\n",
    "# d. (EXTRA) Crie uma nova lista (meses) e na mesma armazena o mês de cada uma das datas. Ordene a lista de forma crescente e imprima a mesma.\n",
    "meses = []\n",
    "for data in datas_separadas:\n",
    "    mes = data[2:-4]\n",
    "    meses.append(mes)\n",
    "meses.sort()\n",
    "print('d)', meses)\n",
    "\n",
    "\n",
    "# O mesmo exercício mas usando datetime\n",
    "import locale\n",
    "from datetime import datetime\n",
    "\n",
    "# Definir o idioma como português (importante porque os textos estão em português)\n",
    "locale.setlocale(locale.LC_TIME, 'pt_PT.UTF-8')\n",
    "\n",
    "\n",
    "# a. Armazene as diferentes datas numa string;\n",
    "for index, data_string in enumerate(datas_separadas):\n",
    "    data = datetime.strptime(data_string, '%d%b%Y')\n",
    "    datas_separadas[index] = data\n",
    "print('a)', datas_separadas)\n",
    "\n",
    "# b. Imprima as datas correspondentes ao ano de 2022;\n",
    "datas_2022 = []\n",
    "for data in datas_separadas:\n",
    "    if data.year == 2022:\n",
    "        datas_2022.append(data)\n",
    "print('b)', datas_2022)\n",
    "\n",
    "# c. Crie uma nova lista (dias) e na mesma armazena o dia de cada uma das datas. Ordene a lista de forma crescente e imprima a mesma.\n",
    "dias = []\n",
    "for data in datas_separadas:\n",
    "    dias.append(data.day)\n",
    "dias.sort()\n",
    "print('c)', dias)\n",
    "\n",
    "# d. (EXTRA) Crie uma nova lista (meses) e na mesma armazena o mês de cada uma das datas. Ordene a lista de forma crescente e imprima a mesma.\n",
    "meses = []\n",
    "for data in datas_separadas:\n",
    "    meses.append(data.month)\n",
    "meses.sort()\n",
    "print('d', meses)"
   ]
  },
  {
   "cell_type": "markdown",
   "metadata": {},
   "source": [
    "## Exercício 4 - Strings"
   ]
  },
  {
   "cell_type": "markdown",
   "metadata": {},
   "source": [
    "Escreve um programa em Python que\n",
    "\n",
    "a. Imprima o texto anterior todo em maiúsculas;\n",
    "\n",
    "b. Peça uma palavra ao utilizador e verifique se a mesma está ou não no texto, devolvendo o resultado ao utilizador.\n",
    "\n",
    "c. Imprima o número de vezes que a letra \"O\" ocorre no texto\n",
    "\n",
    "d. Substitua todaa as ocorrências da letra \"P\" no texto por \"_\""
   ]
  },
  {
   "cell_type": "code",
   "execution_count": null,
   "metadata": {},
   "outputs": [],
   "source": [
    "txt = '''Python é uma linguagem de programação\n",
    "de alto nível, interpretada de script, imperativa, orientada a objetos,\n",
    "funcional, de tipagem dinâmica e forte.'''\n",
    "\n",
    "# a. Imprima o texto anterior todo em maiúsculas;\n",
    "print('a)', txt.upper())\n",
    "\n",
    "# b. Peça uma palavra ao utilizador e verifique se a mesma está ou não no texto, devolvendo o resultado ao utilizador.\n",
    "palavra = input('b) Insira uma palavra: ')\n",
    "if palavra.lower() in txt.lower():\n",
    "    print('A palavra está no texto')\n",
    "else:\n",
    "    print('A palavra não está no texto')\n",
    "\n",
    "# c. Imprima o número de vezes que a letra \"O\" ocorre no texto\n",
    "print('c)', txt.upper().count('O'))\n",
    "\n",
    "# d. Substitua todaa as ocorrências da letra \"P\" no texto por \"_\"\n",
    "new_txt = txt.replace('P', '_')\n",
    "print('d)', new_txt)"
   ]
  },
  {
   "cell_type": "markdown",
   "metadata": {},
   "source": [
    "# UFCD10793_FT11"
   ]
  },
  {
   "cell_type": "markdown",
   "metadata": {},
   "source": [
    "## Exercício 1 - funções\n",
    "Escreve uma função em Python que, dados a medida do comprimento dos três lados de um triângulo diga se o mesmo é equilátero, isósceles ou escaleno."
   ]
  },
  {
   "cell_type": "code",
   "execution_count": null,
   "metadata": {},
   "outputs": [],
   "source": [
    "def tipo_triangulo(a,b,c):\n",
    "    if a==b==c:\n",
    "        return \"Equilátero\"\n",
    "    elif a==b or a==c or b==c:\n",
    "        return \"Isósceles\"\n",
    "    else:\n",
    "        return \"Escaleno\"\n",
    "    \n",
    "\n",
    "# Testes\n",
    "print(1, 1, 1, tipo_triangulo(1,1,1)) # Equilátero\n",
    "print(1, 1, 2, tipo_triangulo(1,1,2)) # Isósceles\n",
    "print(1, 2, 3, tipo_triangulo(1,2,3)) # Escaleno"
   ]
  },
  {
   "cell_type": "markdown",
   "metadata": {},
   "source": [
    "## Exercício 2 - funções\n",
    "Escreve uma função em Python que, dados a medida do comprimento do lado de um quadrado imprima os valores do seu perímero e da sua área (area=lado x lado; perimetro = 4 x lado)."
   ]
  },
  {
   "cell_type": "code",
   "execution_count": null,
   "metadata": {},
   "outputs": [],
   "source": [
    "def quadrado(lado):\n",
    "    area = lado * lado\n",
    "    perimetro = 4 * lado\n",
    "    print('Quadrado com lado', lado)\n",
    "    print(' * Área:', area)\n",
    "    print(' * Perímetro:', perimetro)\n",
    "\n",
    "# Testes\n",
    "quadrado(1) # Área: 1 Perímetro: 4\n",
    "quadrado(2) # Área: 4 Perímetro: 8\n",
    "quadrado(3) # Área: 9 Perímetro: 12\n",
    "quadrado(4) # Área: 16 Perímetro: 16"
   ]
  },
  {
   "cell_type": "markdown",
   "metadata": {},
   "source": [
    "## Exercício 3 - funções\n",
    "Escreve uma função em Python que dada uma lista de números imprime a soma dos valores dessa lista, o número de elementos da lista e a media desses valores."
   ]
  },
  {
   "cell_type": "code",
   "execution_count": null,
   "metadata": {},
   "outputs": [],
   "source": [
    "def lista_numeros(lista):\n",
    "    soma = sum(lista)\n",
    "    elementos = len(lista)\n",
    "    media = soma / elementos\n",
    "    print('Lista:', lista)\n",
    "    print(' * Soma:', soma)\n",
    "    print(' * Elementos:', elementos)\n",
    "    print(' * Média:', media)\n",
    "\n",
    "# Testes\n",
    "lista_numeros([1, 2, 3, 4, 5]) # Soma: 15 Elementos: 5 Média: 3.0\n",
    "lista_numeros([10, 20, 30, 40, 50]) # Soma: 150 Elementos: 5 Média: 30.0\n",
    "lista_numeros([1, 2, 3, 4, 5, 6, 7, 8, 9, 10]) # Soma: 55 Elementos: 10 Média: 5.5  "
   ]
  },
  {
   "cell_type": "markdown",
   "metadata": {},
   "source": [
    "## Exercício 4 - funções\n",
    "Escreve uma função em Python que dada uma palavra retorne o número de vogais nessa palavra."
   ]
  },
  {
   "cell_type": "code",
   "execution_count": null,
   "metadata": {},
   "outputs": [],
   "source": [
    "def conta_vogais(palavra):\n",
    "    vogais = 'aeiouAEIOU'\n",
    "    total = 0\n",
    "    for letra in palavra:\n",
    "        if letra in vogais:\n",
    "            total += 1\n",
    "    return total\n",
    "\n",
    "# Testes\n",
    "print('Palavra: \"Python\" Número de vogais:', conta_vogais('Python')) # 1\n",
    "print('Palavra: \"Universidade\" Número de vogais:', conta_vogais('Universidade')) # 6\n",
    "print('Palavra: \"AEIOU\" Número de vogais:', conta_vogais('AEIOU')) # 5\n",
    "print('Palavra: \"aeiou\" Número de vogais:', conta_vogais('aeiou')) # 5"
   ]
  },
  {
   "cell_type": "markdown",
   "metadata": {},
   "source": [
    "## Exercício 5 - funções\n",
    "Escreve uma função em Python que, dada uma lista de elementos, devolva essa mesma lista, mas sem elementos repetidos."
   ]
  },
  {
   "cell_type": "code",
   "execution_count": null,
   "metadata": {},
   "outputs": [],
   "source": [
    "def remove_repetidos_por_index(lista):\n",
    "    '''Remove elementos repetidos de uma lista, mantendo o primeiro elemento\n",
    "    e removendo os restantes.\n",
    "    \n",
    "    WARNIG: Em python as listas são passadas por referência, por isso, a lista\n",
    "    original é alterada. Para manter a lista original, deve-se passar uma cópia da lista.\n",
    "    '''\n",
    "    to_remove = []\n",
    "\n",
    "    new_list = lista.copy()\n",
    "\n",
    "    for index, item in enumerate(lista):\n",
    "        if lista[index:].count(item) > 1:\n",
    "            to_remove.append(index)\n",
    "    for index in reversed(to_remove):\n",
    "        new_list.pop(index)\n",
    "    return new_list\n",
    "\n",
    "lista = [1, 2, 3, 4, 5, 1, 2, 3, 4, 5]\n",
    "new_list = remove_repetidos_por_index(lista)\n",
    "    \n",
    "print(lista)\n",
    "print(new_list)"
   ]
  },
  {
   "cell_type": "markdown",
   "metadata": {},
   "source": [
    "## Exercício 6 - dicionários\n",
    "Escreve uma função que, dado o número do mês retorne o mesmo, por extenso."
   ]
  },
  {
   "cell_type": "code",
   "execution_count": null,
   "metadata": {},
   "outputs": [],
   "source": [
    "def mes_extenso(mes):\n",
    "    meses = {\n",
    "        1: 'Janeiro',\n",
    "        2: 'Fevereiro',\n",
    "        3: 'Março',\n",
    "        4: 'Abril',\n",
    "        5: 'Maio',\n",
    "        6: 'Junho',\n",
    "        7: 'Julho',\n",
    "        8: 'Agosto',\n",
    "        9: 'Setembro',\n",
    "        10: 'Outubro',\n",
    "        11: 'Novembro',\n",
    "        12: 'Dezembro'\n",
    "    }\n",
    "    return meses.get(mes, 'Mês inválido')\n",
    "\n",
    "mes = int(input('Introduza o número do mês: '))\n",
    "print(mes_extenso(mes))"
   ]
  },
  {
   "cell_type": "markdown",
   "metadata": {},
   "source": [
    "# UFCD10793_FT12"
   ]
  },
  {
   "cell_type": "markdown",
   "metadata": {},
   "source": [
    "## Exercício 1 - Bloco try/finally"
   ]
  },
  {
   "cell_type": "code",
   "execution_count": null,
   "metadata": {},
   "outputs": [],
   "source": [
    "# Bloco finally\n",
    "\n",
    "import sys\n",
    "\n",
    "item = 22\n",
    "\n",
    "try:\n",
    "    divisao = 1 / item\n",
    "    print('Valor:', item)\n",
    "except TypeError:\n",
    "    # Manipular tipo incorreto\n",
    "    print('Você deve digitar apenas números!')\n",
    "    print()\n",
    "except ZeroDivisionError:\n",
    "    # Manipular divisão por zero\n",
    "    print('Não é possível dividir por zero.')\n",
    "    print()\n",
    "except:\n",
    "    # Manipular outras exceções\n",
    "    print('Ocorreu a exceção:', sys.exc_info()[0])\n",
    "    print()\n",
    "else:\n",
    "    print('1 dividido por', item, 'é', divisao)\n",
    "finally:\n",
    "    print('O valor fornecido foi:', item)"
   ]
  },
  {
   "cell_type": "markdown",
   "metadata": {},
   "source": [
    "## Exercício 2 - Bloco try/exception ZeroDivisionError\n",
    "Escreva um programa Python para manipular uma exceção ZeroDivisionError ao dividir um número por zero."
   ]
  },
  {
   "cell_type": "code",
   "execution_count": null,
   "metadata": {},
   "outputs": [],
   "source": [
    "def divide_numbers(x, y):\n",
    "    try:\n",
    "        result = x / y\n",
    "        print(\"Result:\", result)\n",
    "\n",
    "    except ZeroDivisionError:\n",
    "        print(\"The division by zero operation is not allowed.\")\n",
    "\n",
    "numerator = 100\n",
    "denominator = 0\n",
    "divide_numbers(numerator, denominator)"
   ]
  },
  {
   "cell_type": "markdown",
   "metadata": {},
   "source": [
    "## Exercício 3 - Bloco try/exception ValueError\n",
    "Escreva um programa Python que solicita que o usuário insira um inteiro e gera uma exceção ValueError se a entrada não for um inteiro válido."
   ]
  },
  {
   "cell_type": "code",
   "execution_count": null,
   "metadata": {},
   "outputs": [],
   "source": [
    "def get_integer_input(prompt):\n",
    "    try:\n",
    "        value = int(input(prompt))\n",
    "    except ValueError:\n",
    "        value = None\n",
    "        print(\"Error: Invalid input, input a valid integer.\")\n",
    "    return value\n",
    "\n",
    "# Usage\n",
    "n = get_integer_input(\"Input an integer: \")\n",
    "print(\"Input value:\", n)"
   ]
  },
  {
   "cell_type": "markdown",
   "metadata": {},
   "source": [
    "## Exercício 4 - Bloco try/exception FileNotFoundError\n",
    "Escreva um programa Python que abra um ficheiro e manipule uma exceção FileNotFoundError se o arquivo não existir."
   ]
  },
  {
   "cell_type": "code",
   "execution_count": null,
   "metadata": {},
   "outputs": [],
   "source": [
    "def open_file(filename):\n",
    "    try:\n",
    "        file = open(filename, 'r')\n",
    "        contents = file.read()\n",
    "        print(\"File contents:\")\n",
    "        print(contents)\n",
    "        file.close()\n",
    "    except FileNotFoundError:\n",
    "        print(\"Error: File not found.\")\n",
    "\n",
    "# Usage\n",
    "file_name = input(\"Input a file name: \")\n",
    "open_file(file_name)"
   ]
  },
  {
   "cell_type": "markdown",
   "metadata": {},
   "source": [
    "## Exercício 5 - Bloco try/exception TypeError\n",
    "Escreva um programa Python que solicita ao utilizador dois números e gera uma exceção TypeError se as entradas não forem numéricas. exception TypeError:"
   ]
  },
  {
   "cell_type": "code",
   "execution_count": null,
   "metadata": {},
   "outputs": [],
   "source": [
    "def get_numeric_input(prompt):\n",
    "    while True:\n",
    "        try:\n",
    "            value = float(input(prompt))\n",
    "            return value\n",
    "        except ValueError:\n",
    "            print(\"Error: Invalid input. Please Input a valid number.\")\n",
    "\n",
    "n1 = get_numeric_input(\"Input the first number: \")\n",
    "n2 = get_numeric_input(\"Input the second number: \")\n",
    "result = n1 * n2\n",
    "print(\"Product of the said two numbers:\", result)"
   ]
  },
  {
   "cell_type": "markdown",
   "metadata": {},
   "source": [
    "## Exercício 6 - Bloco try/exception PermissionError\n",
    "Escreva um programa Python que abra um ficheiro e manipule uma exceção PermissionError se houver um problema de permissão."
   ]
  },
  {
   "cell_type": "code",
   "execution_count": null,
   "metadata": {},
   "outputs": [],
   "source": [
    "def open_file(filename):\n",
    "    try:\n",
    "\n",
    "        with open(filename, 'w') as file:\n",
    "            contents = file.read()\n",
    "            print(\"File contents:\")\n",
    "            print(contents)\n",
    "    except PermissionError:\n",
    "        print(\"Error: Permission denied to open the file.\")\n",
    "\n",
    "# Usage\n",
    "file_name = input(\"Input a file name: \")\n",
    "open_file(file_name)"
   ]
  },
  {
   "cell_type": "markdown",
   "metadata": {},
   "source": [
    "## Exercício 7 - Bloco try/exception IndexError\n",
    "Write a Python program that executes an operation on a list and handles an IndexError exception if the index is out of range."
   ]
  },
  {
   "cell_type": "code",
   "execution_count": null,
   "metadata": {},
   "outputs": [],
   "source": [
    "def test_index(data, index):\n",
    "    try:\n",
    "\n",
    "        result = data[index]\n",
    "        # Perform desired operation using the result\n",
    "        print(\"Result:\", result)\n",
    "    except IndexError:\n",
    "        print(\"Error: Index out of range.\")\n",
    "\n",
    "nums = [1, 2, 3, 4, 5, 6, 7]\n",
    "index = int(input(\"Input the index: \"))\n",
    "test_index(nums, index)"
   ]
  },
  {
   "cell_type": "markdown",
   "metadata": {},
   "source": [
    "***"
   ]
  },
  {
   "cell_type": "markdown",
   "metadata": {},
   "source": [
    "# UFCD10793_AI1"
   ]
  },
  {
   "cell_type": "code",
   "execution_count": null,
   "metadata": {},
   "outputs": [],
   "source": [
    "..."
   ]
  }
 ],
 "metadata": {
  "kernelspec": {
   "display_name": "fundpython",
   "language": "python",
   "name": "python3"
  },
  "language_info": {
   "codemirror_mode": {
    "name": "ipython",
    "version": 3
   },
   "file_extension": ".py",
   "mimetype": "text/x-python",
   "name": "python",
   "nbconvert_exporter": "python",
   "pygments_lexer": "ipython3",
   "version": "3.12.8"
  }
 },
 "nbformat": 4,
 "nbformat_minor": 4
}
