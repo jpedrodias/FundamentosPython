{
 "cells": [
  {
   "cell_type": "markdown",
   "metadata": {},
   "source": [
    "# Exercício 4 - FAV Enunciado Widgets"
   ]
  },
  {
   "cell_type": "raw",
   "metadata": {},
   "source": [
    "# Install the ipywidgets package\n",
    "%pip install -q ipywidgets"
   ]
  },
  {
   "cell_type": "code",
   "execution_count": 2,
   "metadata": {},
   "outputs": [
    {
     "data": {
      "application/vnd.jupyter.widget-view+json": {
       "model_id": "46f0cfc9b86f4357950eb68e58e2f38a",
       "version_major": 2,
       "version_minor": 0
      },
      "text/plain": [
       "interactive(children=(FloatSlider(value=5.0, description='r', max=10.0), Output()), _dom_classes=('widget-inte…"
      ]
     },
     "metadata": {},
     "output_type": "display_data"
    },
    {
     "data": {
      "text/plain": [
       "<function __main__.volume_esfera(r)>"
      ]
     },
     "execution_count": 2,
     "metadata": {},
     "output_type": "execute_result"
    }
   ],
   "source": [
    "# Exemplo 12\n",
    "from ipywidgets import interact\n",
    "import numpy as np\n",
    "\n",
    "# Função que calcula o volume da esfera\n",
    "def volume_esfera(r):\n",
    "    volume = (4/3) * np.pi * r**3\n",
    "    print(f\"Raio: {r} → Volume da esfera: {volume:.2f} unidades cúbicas\")\n",
    "\n",
    "# Slider interativo para o raio\n",
    "interact(volume_esfera, r=(0.0, 10.0, 0.1))"
   ]
  }
 ],
 "metadata": {
  "kernelspec": {
   "display_name": "fundpython",
   "language": "python",
   "name": "python3"
  },
  "language_info": {
   "codemirror_mode": {
    "name": "ipython",
    "version": 3
   },
   "file_extension": ".py",
   "mimetype": "text/x-python",
   "name": "python",
   "nbconvert_exporter": "python",
   "pygments_lexer": "ipython3",
   "version": "3.12.8"
  }
 },
 "nbformat": 4,
 "nbformat_minor": 2
}
