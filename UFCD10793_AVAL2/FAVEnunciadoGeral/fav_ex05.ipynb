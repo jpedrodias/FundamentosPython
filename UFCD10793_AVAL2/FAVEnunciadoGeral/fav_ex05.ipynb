{
 "cells": [
  {
   "cell_type": "markdown",
   "metadata": {},
   "source": [
    "# Exercício 5 – Pandas e Matplotlib\n",
    "\n",
    "Usando as bibliotecas **Pandas** e **MatPlotLib** e um dataset (podes selecionar das aulas, fazer download na plataforma Kaggle ou escolher um dataset pessoal), elabora um notebook Jupyter no qual efetues:\n",
    "\n",
    "**a.** Limpeza e tratamento de dados\n",
    "\n",
    "**b.** Processamento de dados: `groupby`, `filter`, criação de novas colunas,…\n",
    "\n",
    "**c.** Visualização de dados"
   ]
  },
  {
   "cell_type": "code",
   "execution_count": 13,
   "metadata": {},
   "outputs": [],
   "source": [
    "import pandas as pd\n",
    "import matplotlib.pyplot as plt\n",
    "import os"
   ]
  },
  {
   "cell_type": "code",
   "execution_count": null,
   "metadata": {},
   "outputs": [],
   "source": [
    "# Pasta para download dos datasets\n",
    "os.makedirs('data', exist_ok=True)"
   ]
  },
  {
   "cell_type": "code",
   "execution_count": 18,
   "metadata": {},
   "outputs": [
    {
     "name": "stdout",
     "output_type": "stream",
     "text": [
      "Ficheiro de dados encontrado localmente \"data/estufa.csv\"\n"
     ]
    }
   ],
   "source": [
    "# https://www.kaggle.com/\n",
    "BIG = False\n",
    "\n",
    "# (13426 x 4)\n",
    "data_filename_online_sample = 'https://raw.githubusercontent.com/jpedrodias/datasets/refs/heads/main/estufa_fixed.csv'\n",
    "\n",
    "# (221803 x 4)\n",
    "data_filename_online_big_sample = 'https://raw.githubusercontent.com/jpedrodias/datasets/refs/heads/main/estufa_big_fixed.csv'\n",
    "\n",
    "if BIG:\n",
    "    data_filename_online = data_filename_online_big_sample\n",
    "else:\n",
    "    data_filename_online = data_filename_online_sample \n",
    "\n",
    "\n",
    "data_filename_local = 'data/estufa.csv'\n",
    "\n",
    "if os.path.exists(data_filename_local):\n",
    "    print(f'Ficheiro de dados encontrado localmente \"{data_filename_local}\"')\n",
    "    df = pd.read_csv(data_filename_local)\n",
    "else:\n",
    "    print('Ficheiro de dados não encontrado localmente')\n",
    "    df = pd.read_csv(data_filename_online, sep=';') \n",
    "    df.to_csv(data_filename_local, index=False)\n",
    "    print(f'Ficheiro de dados guardado localmente em \"{data_filename_local}\"')"
   ]
  },
  {
   "cell_type": "code",
   "execution_count": null,
   "metadata": {},
   "outputs": [],
   "source": []
  }
 ],
 "metadata": {
  "kernelspec": {
   "display_name": "fundpython",
   "language": "python",
   "name": "python3"
  },
  "language_info": {
   "codemirror_mode": {
    "name": "ipython",
    "version": 3
   },
   "file_extension": ".py",
   "mimetype": "text/x-python",
   "name": "python",
   "nbconvert_exporter": "python",
   "pygments_lexer": "ipython3",
   "version": "3.12.8"
  }
 },
 "nbformat": 4,
 "nbformat_minor": 2
}
