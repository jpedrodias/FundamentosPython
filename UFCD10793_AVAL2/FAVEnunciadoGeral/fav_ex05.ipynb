{
 "cells": [
  {
   "cell_type": "markdown",
   "metadata": {},
   "source": [
    "# Exercício 5 – Pandas e Matplotlib\n",
    "\n",
    "Usando as bibliotecas **Pandas** e **MatPlotLib** e um dataset (podes selecionar das aulas, fazer download na plataforma Kaggle ou escolher um dataset pessoal), elabora um notebook Jupyter no qual efetues:\n",
    "\n",
    "**a.** Limpeza e tratamento de dados\n",
    "\n",
    "**b.** Processamento de dados: `groupby`, `filter`, criação de novas colunas,…\n",
    "\n",
    "**c.** Visualização de dados"
   ]
  },
  {
   "cell_type": "code",
   "execution_count": 2,
   "metadata": {},
   "outputs": [],
   "source": [
    "import pandas as pd\n",
    "import matplotlib.pyplot as plt"
   ]
  },
  {
   "cell_type": "code",
   "execution_count": null,
   "metadata": {},
   "outputs": [],
   "source": []
  }
 ],
 "metadata": {
  "kernelspec": {
   "display_name": "fundpython",
   "language": "python",
   "name": "python3"
  },
  "language_info": {
   "codemirror_mode": {
    "name": "ipython",
    "version": 3
   },
   "file_extension": ".py",
   "mimetype": "text/x-python",
   "name": "python",
   "nbconvert_exporter": "python",
   "pygments_lexer": "ipython3",
   "version": "3.12.8"
  }
 },
 "nbformat": 4,
 "nbformat_minor": 2
}
