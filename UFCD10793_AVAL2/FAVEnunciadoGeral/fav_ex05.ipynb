{
 "cells": [
  {
   "cell_type": "markdown",
   "metadata": {},
   "source": [
    "# Exercício 5 – Pandas e Matplotlib\n",
    "\n",
    "Usando as bibliotecas **Pandas** e **MatPlotLib** e um dataset (podes selecionar das aulas, fazer download na plataforma Kaggle ou escolher um dataset pessoal), elabora um notebook Jupyter no qual efetues:\n",
    "\n",
    "**a.** Limpeza e tratamento de dados\n",
    "\n",
    "**b.** Processamento de dados: `groupby`, `filter`, criação de novas colunas,…\n",
    "\n",
    "**c.** Visualização de dados"
   ]
  },
  {
   "cell_type": "markdown",
   "metadata": {},
   "source": [
    "***"
   ]
  },
  {
   "cell_type": "code",
   "execution_count": 19,
   "metadata": {},
   "outputs": [],
   "source": [
    "import pandas as pd\n",
    "import matplotlib.pyplot as plt\n",
    "import os"
   ]
  },
  {
   "cell_type": "code",
   "execution_count": 20,
   "metadata": {},
   "outputs": [],
   "source": [
    "# Pasta para download dos datasets\n",
    "os.makedirs('data', exist_ok=True)"
   ]
  },
  {
   "cell_type": "code",
   "execution_count": 81,
   "metadata": {},
   "outputs": [],
   "source": [
    "# dataset pessoal com dados reais de estufa:\n",
    "# Sample com 13426 linhas (509 617 bytes, 497 KB)\n",
    "# Big Sample com 221803 linhas (8 538 382 bytes, 8.14 MB)\n",
    "BIG = True\n",
    "\n",
    "data_filename_online_sample = 'https://raw.githubusercontent.com/jpedrodias/datasets/refs/heads/main/estufa_fixed.csv'\n",
    "data_filename_online_big_sample = 'https://raw.githubusercontent.com/jpedrodias/datasets/refs/heads/main/estufa_big_fixed.csv'\n",
    "\n",
    "if BIG:\n",
    "    data_filename_online = data_filename_online_big_sample\n",
    "else:\n",
    "    data_filename_online = data_filename_online_sample\n",
    "\n",
    "if BIG:\n",
    "    data_filename_local = 'data/estufa_big.csv'\n",
    "else:\n",
    "    data_filename_local = 'data/estufa.csv'\n"
   ]
  },
  {
   "cell_type": "code",
   "execution_count": 82,
   "metadata": {},
   "outputs": [
    {
     "name": "stdout",
     "output_type": "stream",
     "text": [
      "Ficheiro de dados não encontrado localmente\n",
      "Ficheiro de dados guardado localmente em \"data/estufa_big.csv\"\n"
     ]
    }
   ],
   "source": [
    "# Faz download apenas se o ficheiro não existir localmente\n",
    "if os.path.exists(data_filename_local):\n",
    "    print(f'Ficheiro de dados encontrado localmente \"{data_filename_local}\"')\n",
    "    df = pd.read_csv(data_filename_local)\n",
    "else:\n",
    "    print('Ficheiro de dados não encontrado localmente')\n",
    "    df = pd.read_csv(data_filename_online, sep=';') \n",
    "    df.to_csv(data_filename_local, index=False)\n",
    "    print(f'Ficheiro de dados guardado localmente em \"{data_filename_local}\"')"
   ]
  },
  {
   "cell_type": "markdown",
   "metadata": {},
   "source": [
    "***"
   ]
  },
  {
   "cell_type": "markdown",
   "metadata": {},
   "source": [
    "### Análise incial dos dados do dataset"
   ]
  },
  {
   "cell_type": "code",
   "execution_count": 45,
   "metadata": {},
   "outputs": [
    {
     "name": "stdout",
     "output_type": "stream",
     "text": [
      "Primeiras linhas do dataset:\n",
      "  Carimbo de data/hora  Temperatura (ºC)  Humidade (%)  Pressão (hPa)\n",
      "0  2020/11/01 00:00:00              16.6          92.3         680.31\n",
      "1  2020/11/01 00:01:00              16.6          92.2         679.96\n",
      "2  2020/11/01 00:02:00              16.6          92.3         680.45\n",
      "3  2020/11/01 00:03:01              16.6          92.3         680.72\n",
      "4  2020/11/01 00:04:01              16.6          92.2         680.81\n"
     ]
    }
   ],
   "source": [
    "print('Primeiras linhas do dataset:')\n",
    "print(df.head())"
   ]
  },
  {
   "cell_type": "code",
   "execution_count": 46,
   "metadata": {},
   "outputs": [
    {
     "name": "stdout",
     "output_type": "stream",
     "text": [
      "\n",
      "Dimensões do dataset: 13426 linhas x 4 colunas\n"
     ]
    }
   ],
   "source": [
    "# Ver dimensões (linhas, colunas)\n",
    "print(f'\\nDimensões do dataset: {df.shape[0]} linhas x {df.shape[1]} colunas')"
   ]
  },
  {
   "cell_type": "code",
   "execution_count": 47,
   "metadata": {},
   "outputs": [
    {
     "name": "stdout",
     "output_type": "stream",
     "text": [
      "\n",
      "Tipos de dados:\n",
      "Carimbo de data/hora     object\n",
      "Temperatura (ºC)        float64\n",
      "Humidade (%)            float64\n",
      "Pressão (hPa)           float64\n",
      "dtype: object\n"
     ]
    }
   ],
   "source": [
    "# Ver os nomes e tipos das colunas\n",
    "print('\\nTipos de dados:')\n",
    "print(df.dtypes)"
   ]
  },
  {
   "cell_type": "code",
   "execution_count": 48,
   "metadata": {},
   "outputs": [
    {
     "name": "stdout",
     "output_type": "stream",
     "text": [
      "\n",
      "Valores nulos por coluna:\n",
      "Carimbo de data/hora    0\n",
      "Temperatura (ºC)        0\n",
      "Humidade (%)            0\n",
      "Pressão (hPa)           0\n",
      "dtype: int64\n"
     ]
    }
   ],
   "source": [
    "# Ver se há valores nulos\n",
    "print('\\nValores nulos por coluna:')\n",
    "print(df.isnull().sum())"
   ]
  },
  {
   "cell_type": "code",
   "execution_count": 49,
   "metadata": {},
   "outputs": [
    {
     "name": "stdout",
     "output_type": "stream",
     "text": [
      "\n",
      "Estatísticas descritivas:\n",
      "       Temperatura (ºC)  Humidade (%)  Pressão (hPa)\n",
      "count      13426.000000  13426.000000   13426.000000\n",
      "mean          16.379285     80.167220     676.416942\n",
      "std            3.367331     15.786889      17.504714\n",
      "min            1.110000     43.400000     612.350000\n",
      "25%           14.300000     67.400000     670.760000\n",
      "50%           15.900000     84.800000     681.220000\n",
      "75%           17.900000     94.200000     688.327500\n",
      "max           26.000000    102.400000     704.720000\n"
     ]
    }
   ],
   "source": [
    "# Ver estatísticas descritivas (média, min, max, etc.)\n",
    "print('\\nEstatísticas descritivas:')\n",
    "print(df.describe())"
   ]
  },
  {
   "cell_type": "code",
   "execution_count": 50,
   "metadata": {},
   "outputs": [
    {
     "name": "stdout",
     "output_type": "stream",
     "text": [
      "\n",
      "Intervalo de datas:\n",
      "De 2020/11/01 00:00:00 até 2020/11/10 09:42:54\n"
     ]
    }
   ],
   "source": [
    "# Ver a distribuição temporal (mínima e máxima data)\n",
    "if 'Carimbo de data/hora' in df.columns:\n",
    "    print('\\nIntervalo de datas:')\n",
    "    print(f'De {df[\"Carimbo de data/hora\"].min()} até {df[\"Carimbo de data/hora\"].max()}')"
   ]
  },
  {
   "cell_type": "markdown",
   "metadata": {},
   "source": [
    "***"
   ]
  },
  {
   "cell_type": "markdown",
   "metadata": {},
   "source": [
    "### Limpeza de tratamento de dados"
   ]
  },
  {
   "cell_type": "code",
   "execution_count": 51,
   "metadata": {},
   "outputs": [
    {
     "name": "stdout",
     "output_type": "stream",
     "text": [
      "             timestamp  temperatura  humidade  pressao\n",
      "0  2020/11/01 00:00:00         16.6      92.3   680.31\n",
      "1  2020/11/01 00:01:00         16.6      92.2   679.96\n"
     ]
    }
   ],
   "source": [
    "# Renomear colunas para nomes mais simples (sem acentos nem espaços)\n",
    "df.columns = ['timestamp', 'temperatura', 'humidade', 'pressao']\n",
    "print(df.head(2))"
   ]
  },
  {
   "cell_type": "code",
   "execution_count": 52,
   "metadata": {},
   "outputs": [
    {
     "name": "stdout",
     "output_type": "stream",
     "text": [
      "            timestamp  temperatura  humidade  pressao\n",
      "0 2020-11-01 00:00:00         16.6      92.3   680.31\n",
      "1 2020-11-01 00:01:00         16.6      92.2   679.96\n"
     ]
    }
   ],
   "source": [
    "# Converter a coluna 'timestamp' para datetime\n",
    "df['timestamp'] = pd.to_datetime(df['timestamp'])\n",
    "print(df.head(2))"
   ]
  },
  {
   "cell_type": "code",
   "execution_count": 53,
   "metadata": {},
   "outputs": [
    {
     "name": "stdout",
     "output_type": "stream",
     "text": [
      "Dados em falta por coluna:\n",
      "timestamp      0\n",
      "temperatura    0\n",
      "humidade       0\n",
      "pressao        0\n",
      "dtype: int64\n"
     ]
    }
   ],
   "source": [
    "# Verifica valores em falta\n",
    "print('Dados em falta por coluna:')\n",
    "print(df.isnull().sum())\n",
    "\n",
    "df.dropna(inplace=True)"
   ]
  },
  {
   "cell_type": "markdown",
   "metadata": {},
   "source": [
    "***"
   ]
  },
  {
   "cell_type": "markdown",
   "metadata": {},
   "source": [
    "### Processamento de dados: groupby, filter, criação de novas colunas, ..."
   ]
  },
  {
   "cell_type": "code",
   "execution_count": null,
   "metadata": {},
   "outputs": [],
   "source": [
    "# Criar novas colunas: data e hora separadas\n",
    "df['data'] = df['timestamp'].dt.date\n",
    "\n",
    "# Comverte a Hora para um número decimal (ex: 14:30 -> 14.5; 14:45 -> 14.75)\n",
    "df['hora'] = df['timestamp'].dt.hour + df['timestamp'].dt.minute/60 + df['timestamp'].dt.second/3600"
   ]
  },
  {
   "cell_type": "code",
   "execution_count": 55,
   "metadata": {},
   "outputs": [
    {
     "name": "stdout",
     "output_type": "stream",
     "text": [
      "            timestamp  temperatura  humidade  pressao        data      hora\n",
      "0 2020-11-01 00:00:00         16.6      92.3   680.31  2020-11-01  0.000000\n",
      "1 2020-11-01 00:01:00         16.6      92.2   679.96  2020-11-01  0.016667\n",
      "2 2020-11-01 00:02:00         16.6      92.3   680.45  2020-11-01  0.033333\n",
      "3 2020-11-01 00:03:01         16.6      92.3   680.72  2020-11-01  0.050278\n",
      "4 2020-11-01 00:04:01         16.6      92.2   680.81  2020-11-01  0.066944\n"
     ]
    }
   ],
   "source": [
    "print(df.head(5))"
   ]
  },
  {
   "cell_type": "code",
   "execution_count": 72,
   "metadata": {},
   "outputs": [],
   "source": [
    "# Agrupar por hora e calcular médias\n",
    "df_horas = df.groupby('hora')[['temperatura', 'humidade', 'pressao']].mean().reset_index()"
   ]
  },
  {
   "cell_type": "code",
   "execution_count": 73,
   "metadata": {},
   "outputs": [],
   "source": [
    "# Agrupar por dias e calcular médias\n",
    "df_dias = df.groupby('data')[['temperatura', 'humidade', 'pressao']].mean().reset_index()"
   ]
  },
  {
   "cell_type": "code",
   "execution_count": 74,
   "metadata": {},
   "outputs": [
    {
     "name": "stdout",
     "output_type": "stream",
     "text": [
      "Médias diárias:\n",
      "         data  temperatura   humidade     pressao\n",
      "0  2020-11-01    19.487067  81.560071  661.037406\n",
      "1  2020-11-02    19.235630  83.695546  656.446708\n",
      "2  2020-11-03    16.465529  60.164136  689.946031\n",
      "3  2020-11-04    14.202366  61.124215  695.019135\n",
      "4  2020-11-05    15.786435  75.912674  685.200014\n",
      "5  2020-11-06    15.541058  86.525748  682.712951\n",
      "6  2020-11-07    16.370825  86.092741  675.567928\n",
      "7  2020-11-08    16.881267  91.666295  665.753280\n",
      "8  2020-11-09    15.935289  87.843112  671.178044\n",
      "9  2020-11-10    10.238073  97.996007  687.826962\n"
     ]
    }
   ],
   "source": [
    "print('Médias diárias:')\n",
    "print(df_dias)"
   ]
  },
  {
   "cell_type": "code",
   "execution_count": 69,
   "metadata": {},
   "outputs": [
    {
     "name": "stdout",
     "output_type": "stream",
     "text": [
      "    ano mes temperatura       humidade        pressao        \n",
      "                    min   max      min    max     min     max\n",
      "0  2020  11        1.11  26.0     43.4  102.4  612.35  704.72\n"
     ]
    }
   ],
   "source": [
    "# Valores máximos e mínimos de temperatura, humidade e pressão\n",
    "df['ano'] = df['timestamp'].dt.year\n",
    "df['mes'] = df['timestamp'].dt.month\n",
    "\n",
    "df_meses = df.groupby(['ano', 'mes'])[['temperatura', 'humidade', 'pressao']].agg(['min', 'max']).reset_index()\n",
    "print(df_meses)"
   ]
  },
  {
   "cell_type": "markdown",
   "metadata": {},
   "source": [
    "***"
   ]
  },
  {
   "cell_type": "markdown",
   "metadata": {},
   "source": [
    "### Visualização de dados"
   ]
  },
  {
   "cell_type": "code",
   "execution_count": 75,
   "metadata": {},
   "outputs": [
    {
     "data": {
      "image/png": "[encoded data removed]",
      "text/plain": [
       "<Figure size 1000x600 with 1 Axes>"
      ]
     },
     "metadata": {},
     "output_type": "display_data"
    }
   ],
   "source": [
    "plt.figure(figsize=(10, 6))\n",
    "plt.plot(df_horas['hora'], df_horas['temperatura'], label='Temperatura (ºC)')\n",
    "plt.plot(df_horas['hora'], df_horas['humidade'], label='Humidade (%)')\n",
    "plt.plot(df_horas['hora'], df_horas['pressao'], label='Pressão (hPa)')\n",
    "plt.title('Médias horárias na estufa')\n",
    "plt.xlabel('Hora do dia')\n",
    "plt.ylabel('Média')\n",
    "plt.legend()\n",
    "plt.grid(True)\n",
    "plt.tight_layout()\n",
    "plt.show()"
   ]
  },
  {
   "cell_type": "markdown",
   "metadata": {},
   "source": []
  }
 ],
 "metadata": {
  "kernelspec": {
   "display_name": "fundpython",
   "language": "python",
   "name": "python3"
  },
  "language_info": {
   "codemirror_mode": {
    "name": "ipython",
    "version": 3
   },
   "file_extension": ".py",
   "mimetype": "text/x-python",
   "name": "python",
   "nbconvert_exporter": "python",
   "pygments_lexer": "ipython3",
   "version": "3.12.8"
  }
 },
 "nbformat": 4,
 "nbformat_minor": 2
}
