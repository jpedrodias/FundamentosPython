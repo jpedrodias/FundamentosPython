{
 "cells": [
  {
   "cell_type": "markdown",
   "metadata": {},
   "source": [
    "# Exercício 5 – Pandas e Matplotlib\n",
    "\n",
    "Usando as bibliotecas **Pandas** e **MatPlotLib** e um dataset (podes selecionar das aulas, fazer download na plataforma Kaggle ou escolher um dataset pessoal), elabora um notebook Jupyter no qual efetues:\n",
    "\n",
    "**a.** Limpeza e tratamento de dados\n",
    "\n",
    "**b.** Processamento de dados: `groupby`, `filter`, criação de novas colunas,…\n",
    "\n",
    "**c.** Visualização de dados"
   ]
  }
 ],
 "metadata": {
  "language_info": {
   "name": "python"
  }
 },
 "nbformat": 4,
 "nbformat_minor": 2
}
