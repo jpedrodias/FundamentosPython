{
 "cells": [
  {
   "cell_type": "markdown",
   "metadata": {},
   "source": [
    "# Exercício 4 – NumPy\n",
    "\n",
    "Utilizando a biblioteca **NumPy**:\n",
    "\n",
    "**a.** Cria um array de números `1` com shape `(8, 2)`\n",
    "\n",
    "**b.** Cria um array de `zeros` com shape `(5, 7)`\n",
    "\n",
    "**c.** Subtrai o novo array de outro com dados aleatórios e armazena-o numa variável chamada `subarray`\n",
    "\n",
    "**d.** Calcula a média dos valores do array `subarray`\n"
   ]
  },
  {
   "cell_type": "markdown",
   "metadata": {},
   "source": [
    "***"
   ]
  },
  {
   "cell_type": "code",
   "execution_count": 2,
   "metadata": {},
   "outputs": [],
   "source": [
    "import numpy as np"
   ]
  },
  {
   "cell_type": "markdown",
   "metadata": {},
   "source": [
    "#### a) Array de uns com shape (8, 2)"
   ]
  },
  {
   "cell_type": "code",
   "execution_count": 4,
   "metadata": {},
   "outputs": [
    {
     "name": "stdout",
     "output_type": "stream",
     "text": [
      "Array de uns (8x2):\n",
      "[[1. 1.]\n",
      " [1. 1.]\n",
      " [1. 1.]\n",
      " [1. 1.]\n",
      " [1. 1.]\n",
      " [1. 1.]\n",
      " [1. 1.]\n",
      " [1. 1.]]\n"
     ]
    }
   ],
   "source": [
    "array_uns = np.ones((8, 2))\n",
    "print('Array de uns (8x2):')\n",
    "print(array_uns)"
   ]
  },
  {
   "cell_type": "markdown",
   "metadata": {},
   "source": [
    "#### b) Array de zeros com shape (5, 7)"
   ]
  },
  {
   "cell_type": "code",
   "execution_count": 5,
   "metadata": {},
   "outputs": [
    {
     "name": "stdout",
     "output_type": "stream",
     "text": [
      "Array de zeros (5x7):\n",
      "[[0. 0. 0. 0. 0. 0. 0.]\n",
      " [0. 0. 0. 0. 0. 0. 0.]\n",
      " [0. 0. 0. 0. 0. 0. 0.]\n",
      " [0. 0. 0. 0. 0. 0. 0.]\n",
      " [0. 0. 0. 0. 0. 0. 0.]]\n"
     ]
    }
   ],
   "source": [
    "array_zeros = np.zeros((5, 7))\n",
    "print('Array de zeros (5x7):')\n",
    "print(array_zeros)"
   ]
  },
  {
   "cell_type": "code",
   "execution_count": 8,
   "metadata": {},
   "outputs": [
    {
     "data": {
      "text/plain": [
       "(5, 7)"
      ]
     },
     "execution_count": 8,
     "metadata": {},
     "output_type": "execute_result"
    }
   ],
   "source": [
    "array_zeros.shape"
   ]
  },
  {
   "cell_type": "markdown",
   "metadata": {},
   "source": [
    "#### c) Subtrair array_zeros de um array com dados aleatórios do mesmo shape"
   ]
  },
  {
   "cell_type": "code",
   "execution_count": 10,
   "metadata": {},
   "outputs": [
    {
     "name": "stdout",
     "output_type": "stream",
     "text": [
      "Subarray (aleatório - zeros):\n",
      "[[-0.08183016 -0.98352619 -0.35133388 -0.15746847 -0.75922648 -0.61492048\n",
      "  -0.57445154]\n",
      " [-0.64951616 -0.68424966 -0.13791886 -0.9174299  -0.18869388 -0.55115402\n",
      "  -0.32537141]\n",
      " [-0.13512307 -0.95965588 -0.07947257 -0.29158809 -0.0074041  -0.92406793\n",
      "  -0.54500011]\n",
      " [-0.68819062 -0.46560164 -0.67094817 -0.15574848 -0.44499045 -0.95974667\n",
      "  -0.81325632]\n",
      " [-0.17707473 -0.82893355 -0.42844201 -0.24594532 -0.79304272 -0.90909516\n",
      "  -0.20194436]]\n"
     ]
    }
   ],
   "source": [
    "x, y = array_zeros.shape\n",
    "\n",
    "# números aleatórios entre 0 e 1\n",
    "# com as mesmas dimensões que o array de zeros\n",
    "array_random = np.random.rand(x, y)  \n",
    "\n",
    "subarray =  array_zeros - array_random\n",
    "print('Subarray (aleatório - zeros):')\n",
    "print(subarray)"
   ]
  },
  {
   "cell_type": "markdown",
   "metadata": {},
   "source": [
    "#### d) Média dos valores do array subarray"
   ]
  },
  {
   "cell_type": "code",
   "execution_count": 11,
   "metadata": {},
   "outputs": [
    {
     "name": "stdout",
     "output_type": "stream",
     "text": [
      "Média dos valores do subarray: -0.5057818009374854\n"
     ]
    }
   ],
   "source": [
    "media = np.mean(subarray)\n",
    "print(f'Média dos valores do subarray: {media}')"
   ]
  },
  {
   "cell_type": "markdown",
   "metadata": {},
   "source": [
    "### End of File"
   ]
  }
 ],
 "metadata": {
  "kernelspec": {
   "display_name": "fundpython",
   "language": "python",
   "name": "python3"
  },
  "language_info": {
   "codemirror_mode": {
    "name": "ipython",
    "version": 3
   },
   "file_extension": ".py",
   "mimetype": "text/x-python",
   "name": "python",
   "nbconvert_exporter": "python",
   "pygments_lexer": "ipython3",
   "version": "3.12.8"
  }
 },
 "nbformat": 4,
 "nbformat_minor": 2
}
