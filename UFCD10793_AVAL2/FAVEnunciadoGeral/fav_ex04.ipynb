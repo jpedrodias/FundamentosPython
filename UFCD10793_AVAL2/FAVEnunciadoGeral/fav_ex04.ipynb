{
 "cells": [
  {
   "cell_type": "markdown",
   "metadata": {},
   "source": [
    "# Exercício 4 –  - FAV Enunciado Geral\n",
    "\n",
    "Utilizando a biblioteca **NumPy**:\n",
    "\n",
    "**a.** Cria um array de números `1` com shape `(8, 2)`\n",
    "\n",
    "**b.** Cria um array de `zeros` com shape `(5, 7)`\n",
    "\n",
    "**c.** Subtrai o novo array de outro com dados aleatórios e armazena-o numa variável chamada `subarray`\n",
    "\n",
    "**d.** Calcula a média dos valores do array `subarray`\n"
   ]
  },
  {
   "cell_type": "markdown",
   "metadata": {},
   "source": [
    "***"
   ]
  },
  {
   "cell_type": "code",
   "execution_count": 12,
   "metadata": {},
   "outputs": [],
   "source": [
    "import numpy as np"
   ]
  },
  {
   "cell_type": "markdown",
   "metadata": {},
   "source": [
    "#### a) Array de uns com shape (8, 2)"
   ]
  },
  {
   "cell_type": "code",
   "execution_count": 13,
   "metadata": {},
   "outputs": [
    {
     "name": "stdout",
     "output_type": "stream",
     "text": [
      "Array de uns (8x2):\n",
      "[[1. 1.]\n",
      " [1. 1.]\n",
      " [1. 1.]\n",
      " [1. 1.]\n",
      " [1. 1.]\n",
      " [1. 1.]\n",
      " [1. 1.]\n",
      " [1. 1.]]\n"
     ]
    }
   ],
   "source": [
    "array_uns = np.ones((8, 2))\n",
    "print('Array de uns (8x2):')\n",
    "print(array_uns)"
   ]
  },
  {
   "cell_type": "markdown",
   "metadata": {},
   "source": [
    "#### b) Array de zeros com shape (5, 7)"
   ]
  },
  {
   "cell_type": "code",
   "execution_count": 14,
   "metadata": {},
   "outputs": [
    {
     "name": "stdout",
     "output_type": "stream",
     "text": [
      "Array de zeros (5x7):\n",
      "[[0. 0. 0. 0. 0. 0. 0.]\n",
      " [0. 0. 0. 0. 0. 0. 0.]\n",
      " [0. 0. 0. 0. 0. 0. 0.]\n",
      " [0. 0. 0. 0. 0. 0. 0.]\n",
      " [0. 0. 0. 0. 0. 0. 0.]]\n"
     ]
    }
   ],
   "source": [
    "array_zeros = np.zeros((5, 7))\n",
    "print('Array de zeros (5x7):')\n",
    "print(array_zeros)"
   ]
  },
  {
   "cell_type": "code",
   "execution_count": 15,
   "metadata": {},
   "outputs": [
    {
     "data": {
      "text/plain": [
       "(5, 7)"
      ]
     },
     "execution_count": 15,
     "metadata": {},
     "output_type": "execute_result"
    }
   ],
   "source": [
    "array_zeros.shape"
   ]
  },
  {
   "cell_type": "markdown",
   "metadata": {},
   "source": [
    "#### c) Subtrair array_zeros de um array com dados aleatórios do mesmo shape"
   ]
  },
  {
   "cell_type": "code",
   "execution_count": 16,
   "metadata": {},
   "outputs": [
    {
     "name": "stdout",
     "output_type": "stream",
     "text": [
      "Subarray (aleatório - zeros):\n",
      "[[-0.84968602 -0.0634227  -0.04397749 -0.32248077 -0.53859414 -0.74406917\n",
      "  -0.56068249]\n",
      " [-0.85041562 -0.41443828 -0.67503223 -0.56828928 -0.8999682  -0.7547419\n",
      "  -0.51405651]\n",
      " [-0.97949815 -0.70906243 -0.16308872 -0.68956502 -0.8873281  -0.00746852\n",
      "  -0.2918544 ]\n",
      " [-0.63414109 -0.67635734 -0.56193623 -0.85845772 -0.30401668 -0.10778713\n",
      "  -0.15077844]\n",
      " [-0.0210384  -0.46778027 -0.20810795 -0.49005196 -0.97975387 -0.50067001\n",
      "  -0.11576802]]\n"
     ]
    }
   ],
   "source": [
    "x, y = array_zeros.shape\n",
    "\n",
    "# números aleatórios entre 0 e 1\n",
    "# com as mesmas dimensões que o array de zeros\n",
    "array_random = np.random.rand(x, y)  \n",
    "\n",
    "subarray =  array_zeros - array_random\n",
    "print('Subarray (aleatório - zeros):')\n",
    "print(subarray)"
   ]
  },
  {
   "cell_type": "markdown",
   "metadata": {},
   "source": [
    "#### d) Média dos valores do array subarray"
   ]
  },
  {
   "cell_type": "code",
   "execution_count": 17,
   "metadata": {},
   "outputs": [
    {
     "name": "stdout",
     "output_type": "stream",
     "text": [
      "Média dos valores do subarray: -0.5029818643756423\n"
     ]
    }
   ],
   "source": [
    "media = np.mean(subarray)\n",
    "print(f'Média dos valores do subarray: {media}')"
   ]
  },
  {
   "cell_type": "markdown",
   "metadata": {},
   "source": [
    "### End of File"
   ]
  }
 ],
 "metadata": {
  "kernelspec": {
   "display_name": "fundpython",
   "language": "python",
   "name": "python3"
  },
  "language_info": {
   "codemirror_mode": {
    "name": "ipython",
    "version": 3
   },
   "file_extension": ".py",
   "mimetype": "text/x-python",
   "name": "python",
   "nbconvert_exporter": "python",
   "pygments_lexer": "ipython3",
   "version": "3.12.8"
  }
 },
 "nbformat": 4,
 "nbformat_minor": 2
}
