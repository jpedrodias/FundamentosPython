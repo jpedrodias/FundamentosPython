{
 "cells": [
  {
   "cell_type": "markdown",
   "metadata": {},
   "source": [
    "# Titanic - featureEngineering"
   ]
  },
  {
   "cell_type": "markdown",
   "metadata": {},
   "source": [
    "import matplotlib.pyplot as plt\n",
    "import matplotlib as mpl\n",
    "import pandas as pd\n",
    "import numpy as np\n",
    "import pylab as plt\n",
    "\n",
    "# Vamos agora exercitar algumas tarefas comuns na atividade de *Feature Engineering*,\n",
    "# que consiste em remodelar atributos para obter melhor(?) desempenho nos algoritmos.\n",
    "# Entre as tarefas faremos conversão de categorias usando OHE (*one-hot-encoding*) e *Feature Hashing*,\n",
    "# e também a produção de novas colunas calculadas com base noutras.\n",
    "# Não há uma \"receita \" para essas atividades. É sempre uma questão de experimentar e ver quais modelos são melhores que outros.\n",
    "\n",
    "##Recarregando os dados da parte anterior ...\n",
    "df_train = pd.read_csv('train_no_nulls_no_outliers.csv')\n",
    "df_train.head(2)\n",
    "\n",
    "# A técnica de One-hot-encoding é utilizada para converter dados que são categóricos em numéricos de forma\n",
    "# a não influenciar de forma negativa alguns algoritmos.\n",
    "#\n",
    "\n",
    "# A conversão funciona de forma simples: para cada categoria numa determinada coluna, é criada uma nova coluna onde o valor será 1\n",
    "# quando a linha tiver aquele valor para a categoria ou 0 caso contrário.\n",
    "# O código abaixo usa o método get_dummies da biblioteca pandas para criar 3 novas colunas para cada\n",
    "# um dos 3 valores possiveis para a coluna Embarked.\n",
    "novas_colunas = pd.get_dummies(df_train['Embarked'])\n",
    "df_train2 = pd.concat([df_train,novas_colunas], axis=1) # axis = 1 concatena colunas. axis = 0 concatena linhas\n",
    "print(df_train2.head(3))\n",
    "\n",
    "#Agora podemos remover a coluna original dos dados\n",
    "df_train2.drop('Embarked', axis=1, inplace=True)\n",
    "\n",
    "Converter cada valor possivel para a coluna em números de 1 a N implicaria haver uma relacao fixa de\n",
    "distância geométrica entre os dados, o que normalmente não ocorre."
   ]
  }
 ],
 "metadata": {
  "language_info": {
   "name": "python"
  }
 },
 "nbformat": 4,
 "nbformat_minor": 2
}
