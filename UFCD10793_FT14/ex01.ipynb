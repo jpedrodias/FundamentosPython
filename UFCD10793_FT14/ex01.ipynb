{
 "cells": [
  {
   "cell_type": "markdown",
   "metadata": {},
   "source": [
    "# Exercício 1 "
   ]
  },
  {
   "cell_type": "markdown",
   "metadata": {},
   "source": [
    "Nesta atividade vamos efetuar a limpeza e o tratamento de dados dos passageiros do Titanic. Este\n",
    "afundou na sua viagem inaugural em 1912, após colidir com um iceberg. O acidente matou 1502 dis\n",
    "2224 passageiros.\n",
    "\n",
    "\n",
    "Uma das razões pelas quais o naufrágio provocou tal perda de vidas foi o facto de não haver botes\n",
    "salva-vidas suficientes para os passageiros e tripulantes. Embora houvesse algum elemento de sorte\n",
    "envolvido em sobreviver ao naufrágio, alguns grupos de pessoas eram mais propensos a sobreviver do\n",
    "que outros, como mulheres, crianças e a classe alta.\n",
    "\n",
    "\n",
    "Estes dados podem, por exemplo, ser utilizados na análise de que tipo de pessoas poderiam sobreviver,\n",
    "aplicando as ferramentas de machine learning para prever quais os passageiros que sobreviveram à\n",
    "tragédia.\n"
   ]
  },
  {
   "cell_type": "markdown",
   "metadata": {},
   "source": []
  }
 ],
 "metadata": {
  "language_info": {
   "name": "python"
  }
 },
 "nbformat": 4,
 "nbformat_minor": 2
}
